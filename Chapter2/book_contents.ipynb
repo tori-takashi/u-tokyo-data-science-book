{
 "cells": [
  {
   "cell_type": "code",
   "execution_count": 1,
   "id": "310ae448",
   "metadata": {},
   "outputs": [
    {
     "data": {
      "text/plain": [
       "'%.3f'"
      ]
     },
     "execution_count": 1,
     "metadata": {},
     "output_type": "execute_result"
    }
   ],
   "source": [
    "import numpy as np\n",
    "import numpy.random as random\n",
    "import scipy as sp\n",
    "import pandas as pd\n",
    "from pandas import Series, DataFrame\n",
    "\n",
    "import matplotlib.pyplot as plt\n",
    "import matplotlib as mpl\n",
    "import seaborn as sns\n",
    "\n",
    "%matplotlib inline\n",
    "%precision 3"
   ]
  },
  {
   "cell_type": "code",
   "execution_count": 2,
   "id": "d5a75ea2",
   "metadata": {},
   "outputs": [],
   "source": [
    "%quickref"
   ]
  },
  {
   "cell_type": "code",
   "execution_count": 3,
   "id": "42ad1eaa",
   "metadata": {},
   "outputs": [
    {
     "data": {
      "text/plain": [
       "array([ 9,  2,  3,  4, 10,  6,  7,  8,  1,  5])"
      ]
     },
     "execution_count": 3,
     "metadata": {},
     "output_type": "execute_result"
    }
   ],
   "source": [
    "data = np.array([9,2,3,4,10,6,7,8,1,5])\n",
    "data"
   ]
  },
  {
   "cell_type": "code",
   "execution_count": 4,
   "id": "e8ca2e48",
   "metadata": {},
   "outputs": [
    {
     "data": {
      "text/plain": [
       "dtype('int64')"
      ]
     },
     "execution_count": 4,
     "metadata": {},
     "output_type": "execute_result"
    }
   ],
   "source": [
    "data.dtype"
   ]
  },
  {
   "cell_type": "code",
   "execution_count": 5,
   "id": "ea3618b3",
   "metadata": {},
   "outputs": [
    {
     "name": "stdout",
     "output_type": "stream",
     "text": [
      "次元数 1\n",
      "要素数 10\n"
     ]
    }
   ],
   "source": [
    "print('次元数', data.ndim)\n",
    "print('要素数' ,data.size)"
   ]
  },
  {
   "cell_type": "code",
   "execution_count": 6,
   "id": "0e89bb0a",
   "metadata": {},
   "outputs": [
    {
     "data": {
      "text/plain": [
       "array([18,  4,  6,  8, 20, 12, 14, 16,  2, 10])"
      ]
     },
     "execution_count": 6,
     "metadata": {},
     "output_type": "execute_result"
    }
   ],
   "source": [
    "data * 2"
   ]
  },
  {
   "cell_type": "code",
   "execution_count": 8,
   "id": "48a2d8d4",
   "metadata": {},
   "outputs": [
    {
     "name": "stdout",
     "output_type": "stream",
     "text": [
      "[ 1  4  9 16 25 36 49 64 81]\n"
     ]
    }
   ],
   "source": [
    "print(np.array([i for i in range(1,10)]) * np.array([i for i in range(1,10)]))"
   ]
  },
  {
   "cell_type": "code",
   "execution_count": 10,
   "id": "05719a9d",
   "metadata": {},
   "outputs": [
    {
     "name": "stdout",
     "output_type": "stream",
     "text": [
      "[ 1  4  9 16 25 36 49 64 81]\n"
     ]
    }
   ],
   "source": [
    "print(np.array([i for i in range(1,10)]) ** 2)"
   ]
  },
  {
   "cell_type": "code",
   "execution_count": 11,
   "id": "3fd72987",
   "metadata": {},
   "outputs": [
    {
     "name": "stdout",
     "output_type": "stream",
     "text": [
      "[ 1  2  3  4  5  6  7  8  9 10]\n"
     ]
    }
   ],
   "source": [
    "data.sort()\n",
    "print(data)"
   ]
  },
  {
   "cell_type": "code",
   "execution_count": 14,
   "id": "8dec9d36",
   "metadata": {},
   "outputs": [
    {
     "name": "stdout",
     "output_type": "stream",
     "text": [
      "[10  9  8  7  6  5  4  3  2  1]\n"
     ]
    }
   ],
   "source": [
    "data[::-1].sort()\n",
    "print(data)"
   ]
  },
  {
   "cell_type": "code",
   "execution_count": 15,
   "id": "237903ed",
   "metadata": {},
   "outputs": [
    {
     "name": "stdout",
     "output_type": "stream",
     "text": [
      "1\n",
      "10\n",
      "[10 19 27 34 40 45 49 52 54 55]\n",
      "[0.182 0.345 0.491 0.618 0.727 0.818 0.891 0.945 0.982 1.   ]\n"
     ]
    }
   ],
   "source": [
    "print(data.min())\n",
    "print(data.max())\n",
    "print(data.cumsum())\n",
    "print(data.cumsum() / data.sum())"
   ]
  },
  {
   "cell_type": "code",
   "execution_count": 16,
   "id": "bfdf700d",
   "metadata": {},
   "outputs": [],
   "source": [
    "random.seed(0)"
   ]
  },
  {
   "cell_type": "code",
   "execution_count": 18,
   "id": "403343ed",
   "metadata": {},
   "outputs": [
    {
     "name": "stdout",
     "output_type": "stream",
     "text": [
      "[ 0.144  1.454  0.761  0.122  0.444  0.334  1.494 -0.205  0.313 -0.854]\n"
     ]
    }
   ],
   "source": [
    "rnd_data = random.randn(10)\n",
    "print(rnd_data)"
   ]
  },
  {
   "cell_type": "code",
   "execution_count": 20,
   "id": "b53b1d92",
   "metadata": {},
   "outputs": [
    {
     "name": "stdout",
     "output_type": "stream",
     "text": [
      "[ 9 10  6  6  7  1 10  2 10  5]\n",
      "[ 6  9 10  3  4  7  8  5  2  1]\n"
     ]
    }
   ],
   "source": [
    "data = np.array([9,2,3,4,10,6,7,8,1,5])\n",
    "print(random.choice(data, 10))\n",
    "print(random.choice(data, 10, replace=False))"
   ]
  },
  {
   "cell_type": "code",
   "execution_count": 21,
   "id": "a3ceb16b",
   "metadata": {},
   "outputs": [
    {
     "name": "stdout",
     "output_type": "stream",
     "text": [
      "3.18 ms ± 13.8 µs per loop (mean ± std. dev. of 7 runs, 100 loops each)\n",
      "183 µs ± 256 ns per loop (mean ± std. dev. of 7 runs, 10,000 loops each)\n"
     ]
    }
   ],
   "source": [
    "N = 10**6\n",
    "normal_data = [random.random() for _ in range(N)]\n",
    "\n",
    "numpy_random_data = np.array(normal_data)\n",
    "\n",
    "%timeit sum(normal_data)\n",
    "%timeit np.sum(numpy_random_data)"
   ]
  },
  {
   "cell_type": "code",
   "execution_count": 22,
   "id": "420be06d",
   "metadata": {},
   "outputs": [
    {
     "data": {
      "text/plain": [
       "array([0, 1, 2, 3, 4, 5, 6, 7, 8])"
      ]
     },
     "execution_count": 22,
     "metadata": {},
     "output_type": "execute_result"
    }
   ],
   "source": [
    "np.arange(9)"
   ]
  },
  {
   "cell_type": "code",
   "execution_count": 24,
   "id": "57ae636c",
   "metadata": {},
   "outputs": [
    {
     "name": "stdout",
     "output_type": "stream",
     "text": [
      "[[0 1 2]\n",
      " [3 4 5]\n",
      " [6 7 8]]\n"
     ]
    }
   ],
   "source": [
    "array1 = np.arange(9).reshape(3,3)\n",
    "print(array1)"
   ]
  },
  {
   "cell_type": "code",
   "execution_count": 28,
   "id": "06a9ba9b",
   "metadata": {},
   "outputs": [
    {
     "name": "stdout",
     "output_type": "stream",
     "text": [
      "[0 1 2]\n",
      "[0 3 6]\n"
     ]
    }
   ],
   "source": [
    "print(array1[0,:])\n",
    "print(array1[:,0])"
   ]
  },
  {
   "cell_type": "code",
   "execution_count": 29,
   "id": "89065d70",
   "metadata": {},
   "outputs": [
    {
     "name": "stdout",
     "output_type": "stream",
     "text": [
      "[[ 9 10 11]\n",
      " [12 13 14]\n",
      " [15 16 17]]\n"
     ]
    }
   ],
   "source": [
    "array2 = np.arange(9,18).reshape(3,3)\n",
    "print(array2)"
   ]
  },
  {
   "cell_type": "code",
   "execution_count": 30,
   "id": "d1e074ac",
   "metadata": {},
   "outputs": [
    {
     "data": {
      "text/plain": [
       "array([[ 42,  45,  48],\n",
       "       [150, 162, 174],\n",
       "       [258, 279, 300]])"
      ]
     },
     "execution_count": 30,
     "metadata": {},
     "output_type": "execute_result"
    }
   ],
   "source": [
    "np.dot(array1, array2)"
   ]
  },
  {
   "cell_type": "code",
   "execution_count": 31,
   "id": "8bed347e",
   "metadata": {},
   "outputs": [
    {
     "data": {
      "text/plain": [
       "array([[  0,  10,  22],\n",
       "       [ 36,  52,  70],\n",
       "       [ 90, 112, 136]])"
      ]
     },
     "execution_count": 31,
     "metadata": {},
     "output_type": "execute_result"
    }
   ],
   "source": [
    "array1*array2"
   ]
  },
  {
   "cell_type": "code",
   "execution_count": 33,
   "id": "205c7d7e",
   "metadata": {},
   "outputs": [
    {
     "name": "stdout",
     "output_type": "stream",
     "text": [
      "[[0 0 0]\n",
      " [0 0 0]]\n",
      "[[1 1 1]\n",
      " [1 1 1]]\n"
     ]
    }
   ],
   "source": [
    "print(np.zeros((2,3), dtype=np.int64))\n",
    "print(np.ones((2,3), dtype=np.int64))"
   ]
  },
  {
   "cell_type": "code",
   "execution_count": 34,
   "id": "639c8ebb",
   "metadata": {},
   "outputs": [],
   "source": [
    "import scipy.linalg as linalg\n",
    "from scipy.optimize import minimize_scalar"
   ]
  },
  {
   "cell_type": "code",
   "execution_count": 35,
   "id": "3092e2db",
   "metadata": {},
   "outputs": [
    {
     "name": "stdout",
     "output_type": "stream",
     "text": [
      "行列式\n",
      "-4.0\n"
     ]
    }
   ],
   "source": [
    "matrix = np.array([[1,-1,-1], [-1,1,-1], [-1,-1,1]])\n",
    "print('行列式')\n",
    "print(linalg.det(matrix))"
   ]
  },
  {
   "cell_type": "code",
   "execution_count": 36,
   "id": "ccd213d6",
   "metadata": {},
   "outputs": [
    {
     "name": "stdout",
     "output_type": "stream",
     "text": [
      "逆行列\n",
      "[[ 0.  -0.5 -0.5]\n",
      " [-0.5 -0.  -0.5]\n",
      " [-0.5 -0.5  0. ]]\n"
     ]
    }
   ],
   "source": [
    "print('逆行列')\n",
    "print(linalg.inv(matrix))"
   ]
  },
  {
   "cell_type": "code",
   "execution_count": 38,
   "id": "51beb3bf",
   "metadata": {},
   "outputs": [
    {
     "name": "stdout",
     "output_type": "stream",
     "text": [
      "[[1. 0. 0.]\n",
      " [0. 1. 0.]\n",
      " [0. 0. 1.]]\n"
     ]
    }
   ],
   "source": [
    "print(np.dot(matrix, linalg.inv(matrix)))"
   ]
  },
  {
   "cell_type": "code",
   "execution_count": 40,
   "id": "4ed6ecea",
   "metadata": {},
   "outputs": [
    {
     "name": "stdout",
     "output_type": "stream",
     "text": [
      "固有値:\n",
      "[-1.+0.j  2.+0.j  2.+0.j]\n",
      "固有ベクトル\n",
      "[[-0.577 -0.578  0.579]\n",
      " [-0.577 -0.21  -0.788]\n",
      " [-0.577  0.788  0.209]]\n"
     ]
    }
   ],
   "source": [
    "eig_value, eig_vector = linalg.eig(matrix)\n",
    "print('固有値:')\n",
    "print(eig_value)\n",
    "print('固有ベクトル')\n",
    "print(eig_vector)\n",
    "\n",
    "#固有ベクトルの結果が合わない？"
   ]
  },
  {
   "cell_type": "code",
   "execution_count": 41,
   "id": "939a8bd3",
   "metadata": {},
   "outputs": [],
   "source": [
    "def my_function(x):\n",
    "    return (x**2 + 2*x + 1)"
   ]
  },
  {
   "cell_type": "code",
   "execution_count": 42,
   "id": "ce645281",
   "metadata": {},
   "outputs": [],
   "source": [
    "from scipy.optimize import newton"
   ]
  },
  {
   "cell_type": "code",
   "execution_count": 43,
   "id": "ef31cbc2",
   "metadata": {},
   "outputs": [
    {
     "name": "stdout",
     "output_type": "stream",
     "text": [
      "-0.9999999852953906\n"
     ]
    }
   ],
   "source": [
    "print(newton(my_function, 0))"
   ]
  },
  {
   "cell_type": "code",
   "execution_count": 44,
   "id": "ee6b9c9d",
   "metadata": {},
   "outputs": [
    {
     "name": "stdout",
     "output_type": "stream",
     "text": [
      "     fun: 0.0\n",
      " message: '\\nOptimization terminated successfully;\\nThe returned value satisfies the termination criteria\\n(using xtol = 1.48e-08 )'\n",
      "    nfev: 9\n",
      "     nit: 4\n",
      " success: True\n",
      "       x: -1.0000000000000002\n"
     ]
    }
   ],
   "source": [
    "print(minimize_scalar(my_function, method='Brent'))"
   ]
  },
  {
   "cell_type": "code",
   "execution_count": 45,
   "id": "05005d14",
   "metadata": {},
   "outputs": [
    {
     "name": "stdout",
     "output_type": "stream",
     "text": [
      "0     0\n",
      "1    10\n",
      "2    20\n",
      "3    30\n",
      "4    40\n",
      "5    50\n",
      "6    60\n",
      "7    70\n",
      "8    80\n",
      "9    90\n",
      "dtype: int64\n"
     ]
    }
   ],
   "source": [
    "#Series\n",
    "sample_pandas_data = pd.Series([0,10,20,30,40,50,60,70,80,90])\n",
    "print(sample_pandas_data)"
   ]
  },
  {
   "cell_type": "code",
   "execution_count": 46,
   "id": "8110015a",
   "metadata": {},
   "outputs": [
    {
     "name": "stdout",
     "output_type": "stream",
     "text": [
      "a     0\n",
      "b    10\n",
      "c    20\n",
      "d    30\n",
      "e    40\n",
      "f    50\n",
      "g    60\n",
      "h    70\n",
      "i    80\n",
      "j    90\n",
      "dtype: int64\n"
     ]
    }
   ],
   "source": [
    "sample_pandas_index_data = pd.Series([0,10,20,30,40,50,60,70,80,90], index=['a','b','c','d','e','f','g','h','i','j'])\n",
    "print(sample_pandas_index_data)"
   ]
  },
  {
   "cell_type": "code",
   "execution_count": 47,
   "id": "ff801db4",
   "metadata": {},
   "outputs": [
    {
     "name": "stdout",
     "output_type": "stream",
     "text": [
      "[ 0 10 20 30 40 50 60 70 80 90]\n",
      "Index(['a', 'b', 'c', 'd', 'e', 'f', 'g', 'h', 'i', 'j'], dtype='object')\n"
     ]
    }
   ],
   "source": [
    "print(sample_pandas_index_data.values)\n",
    "print(sample_pandas_index_data.index)"
   ]
  },
  {
   "cell_type": "code",
   "execution_count": 48,
   "id": "55bd1fa6",
   "metadata": {},
   "outputs": [
    {
     "name": "stdout",
     "output_type": "stream",
     "text": [
      "    ID      City  Birth_year     Name\n",
      "0  100     Tokyo        1990  Hiroshi\n",
      "1  101     Osaka        1989    Akiko\n",
      "2  102     Kyoto        1992     Yuki\n",
      "3  103  Hokkaido        1997   Satoru\n",
      "4  104     Tokyo        1982    Steve\n"
     ]
    }
   ],
   "source": [
    "attri_data1 = {'ID': ['100', '101', '102', '103', '104'],\n",
    "                          'City': ['Tokyo', 'Osaka', 'Kyoto', 'Hokkaido', 'Tokyo'],\n",
    "                          'Birth_year': [1990,1989,1992,1997,1982],\n",
    "                          'Name': ['Hiroshi', 'Akiko', 'Yuki', 'Satoru', 'Steve']}\n",
    "attri_data_frame_1 = DataFrame(attri_data1)\n",
    "print(attri_data_frame_1)"
   ]
  },
  {
   "cell_type": "code",
   "execution_count": 51,
   "id": "45d5b501",
   "metadata": {},
   "outputs": [
    {
     "name": "stdout",
     "output_type": "stream",
     "text": [
      "    ID      City  Birth_year     Name\n",
      "a  100     Tokyo        1990  Hiroshi\n",
      "b  101     Osaka        1989    Akiko\n",
      "c  102     Kyoto        1992     Yuki\n",
      "d  103  Hokkaido        1997   Satoru\n",
      "e  104     Tokyo        1982    Steve\n"
     ]
    }
   ],
   "source": [
    "attri_data_frame_index1 = DataFrame(attri_data1, index=['a', 'b', 'c', 'd', 'e'])\n",
    "print(attri_data_frame_index1)"
   ]
  },
  {
   "cell_type": "code",
   "execution_count": 52,
   "id": "f96f7821",
   "metadata": {},
   "outputs": [
    {
     "data": {
      "text/html": [
       "<div>\n",
       "<style scoped>\n",
       "    .dataframe tbody tr th:only-of-type {\n",
       "        vertical-align: middle;\n",
       "    }\n",
       "\n",
       "    .dataframe tbody tr th {\n",
       "        vertical-align: top;\n",
       "    }\n",
       "\n",
       "    .dataframe thead th {\n",
       "        text-align: right;\n",
       "    }\n",
       "</style>\n",
       "<table border=\"1\" class=\"dataframe\">\n",
       "  <thead>\n",
       "    <tr style=\"text-align: right;\">\n",
       "      <th></th>\n",
       "      <th>ID</th>\n",
       "      <th>City</th>\n",
       "      <th>Birth_year</th>\n",
       "      <th>Name</th>\n",
       "    </tr>\n",
       "  </thead>\n",
       "  <tbody>\n",
       "    <tr>\n",
       "      <th>a</th>\n",
       "      <td>100</td>\n",
       "      <td>Tokyo</td>\n",
       "      <td>1990</td>\n",
       "      <td>Hiroshi</td>\n",
       "    </tr>\n",
       "    <tr>\n",
       "      <th>b</th>\n",
       "      <td>101</td>\n",
       "      <td>Osaka</td>\n",
       "      <td>1989</td>\n",
       "      <td>Akiko</td>\n",
       "    </tr>\n",
       "    <tr>\n",
       "      <th>c</th>\n",
       "      <td>102</td>\n",
       "      <td>Kyoto</td>\n",
       "      <td>1992</td>\n",
       "      <td>Yuki</td>\n",
       "    </tr>\n",
       "    <tr>\n",
       "      <th>d</th>\n",
       "      <td>103</td>\n",
       "      <td>Hokkaido</td>\n",
       "      <td>1997</td>\n",
       "      <td>Satoru</td>\n",
       "    </tr>\n",
       "    <tr>\n",
       "      <th>e</th>\n",
       "      <td>104</td>\n",
       "      <td>Tokyo</td>\n",
       "      <td>1982</td>\n",
       "      <td>Steve</td>\n",
       "    </tr>\n",
       "  </tbody>\n",
       "</table>\n",
       "</div>"
      ],
      "text/plain": [
       "    ID      City  Birth_year     Name\n",
       "a  100     Tokyo        1990  Hiroshi\n",
       "b  101     Osaka        1989    Akiko\n",
       "c  102     Kyoto        1992     Yuki\n",
       "d  103  Hokkaido        1997   Satoru\n",
       "e  104     Tokyo        1982    Steve"
      ]
     },
     "execution_count": 52,
     "metadata": {},
     "output_type": "execute_result"
    }
   ],
   "source": [
    "attri_data_frame_index1"
   ]
  },
  {
   "cell_type": "code",
   "execution_count": 53,
   "id": "2d795194",
   "metadata": {},
   "outputs": [
    {
     "data": {
      "text/html": [
       "<div>\n",
       "<style scoped>\n",
       "    .dataframe tbody tr th:only-of-type {\n",
       "        vertical-align: middle;\n",
       "    }\n",
       "\n",
       "    .dataframe tbody tr th {\n",
       "        vertical-align: top;\n",
       "    }\n",
       "\n",
       "    .dataframe thead th {\n",
       "        text-align: right;\n",
       "    }\n",
       "</style>\n",
       "<table border=\"1\" class=\"dataframe\">\n",
       "  <thead>\n",
       "    <tr style=\"text-align: right;\">\n",
       "      <th></th>\n",
       "      <th>a</th>\n",
       "      <th>b</th>\n",
       "      <th>c</th>\n",
       "      <th>d</th>\n",
       "      <th>e</th>\n",
       "    </tr>\n",
       "  </thead>\n",
       "  <tbody>\n",
       "    <tr>\n",
       "      <th>ID</th>\n",
       "      <td>100</td>\n",
       "      <td>101</td>\n",
       "      <td>102</td>\n",
       "      <td>103</td>\n",
       "      <td>104</td>\n",
       "    </tr>\n",
       "    <tr>\n",
       "      <th>City</th>\n",
       "      <td>Tokyo</td>\n",
       "      <td>Osaka</td>\n",
       "      <td>Kyoto</td>\n",
       "      <td>Hokkaido</td>\n",
       "      <td>Tokyo</td>\n",
       "    </tr>\n",
       "    <tr>\n",
       "      <th>Birth_year</th>\n",
       "      <td>1990</td>\n",
       "      <td>1989</td>\n",
       "      <td>1992</td>\n",
       "      <td>1997</td>\n",
       "      <td>1982</td>\n",
       "    </tr>\n",
       "    <tr>\n",
       "      <th>Name</th>\n",
       "      <td>Hiroshi</td>\n",
       "      <td>Akiko</td>\n",
       "      <td>Yuki</td>\n",
       "      <td>Satoru</td>\n",
       "      <td>Steve</td>\n",
       "    </tr>\n",
       "  </tbody>\n",
       "</table>\n",
       "</div>"
      ],
      "text/plain": [
       "                  a      b      c         d      e\n",
       "ID              100    101    102       103    104\n",
       "City          Tokyo  Osaka  Kyoto  Hokkaido  Tokyo\n",
       "Birth_year     1990   1989   1992      1997   1982\n",
       "Name        Hiroshi  Akiko   Yuki    Satoru  Steve"
      ]
     },
     "execution_count": 53,
     "metadata": {},
     "output_type": "execute_result"
    }
   ],
   "source": [
    "attri_data_frame_index1.T"
   ]
  },
  {
   "cell_type": "code",
   "execution_count": 54,
   "id": "d01cc210",
   "metadata": {},
   "outputs": [
    {
     "data": {
      "text/html": [
       "<div>\n",
       "<style scoped>\n",
       "    .dataframe tbody tr th:only-of-type {\n",
       "        vertical-align: middle;\n",
       "    }\n",
       "\n",
       "    .dataframe tbody tr th {\n",
       "        vertical-align: top;\n",
       "    }\n",
       "\n",
       "    .dataframe thead th {\n",
       "        text-align: right;\n",
       "    }\n",
       "</style>\n",
       "<table border=\"1\" class=\"dataframe\">\n",
       "  <thead>\n",
       "    <tr style=\"text-align: right;\">\n",
       "      <th></th>\n",
       "      <th>0</th>\n",
       "      <th>1</th>\n",
       "      <th>2</th>\n",
       "      <th>3</th>\n",
       "      <th>4</th>\n",
       "    </tr>\n",
       "  </thead>\n",
       "  <tbody>\n",
       "    <tr>\n",
       "      <th>ID</th>\n",
       "      <td>100</td>\n",
       "      <td>101</td>\n",
       "      <td>102</td>\n",
       "      <td>103</td>\n",
       "      <td>104</td>\n",
       "    </tr>\n",
       "    <tr>\n",
       "      <th>City</th>\n",
       "      <td>Tokyo</td>\n",
       "      <td>Osaka</td>\n",
       "      <td>Kyoto</td>\n",
       "      <td>Hokkaido</td>\n",
       "      <td>Tokyo</td>\n",
       "    </tr>\n",
       "    <tr>\n",
       "      <th>Birth_year</th>\n",
       "      <td>1990</td>\n",
       "      <td>1989</td>\n",
       "      <td>1992</td>\n",
       "      <td>1997</td>\n",
       "      <td>1982</td>\n",
       "    </tr>\n",
       "    <tr>\n",
       "      <th>Name</th>\n",
       "      <td>Hiroshi</td>\n",
       "      <td>Akiko</td>\n",
       "      <td>Yuki</td>\n",
       "      <td>Satoru</td>\n",
       "      <td>Steve</td>\n",
       "    </tr>\n",
       "  </tbody>\n",
       "</table>\n",
       "</div>"
      ],
      "text/plain": [
       "                  0      1      2         3      4\n",
       "ID              100    101    102       103    104\n",
       "City          Tokyo  Osaka  Kyoto  Hokkaido  Tokyo\n",
       "Birth_year     1990   1989   1992      1997   1982\n",
       "Name        Hiroshi  Akiko   Yuki    Satoru  Steve"
      ]
     },
     "execution_count": 54,
     "metadata": {},
     "output_type": "execute_result"
    }
   ],
   "source": [
    "attri_data_frame_1.T"
   ]
  },
  {
   "cell_type": "code",
   "execution_count": 55,
   "id": "f99c5cd9",
   "metadata": {},
   "outputs": [
    {
     "data": {
      "text/html": [
       "<div>\n",
       "<style scoped>\n",
       "    .dataframe tbody tr th:only-of-type {\n",
       "        vertical-align: middle;\n",
       "    }\n",
       "\n",
       "    .dataframe tbody tr th {\n",
       "        vertical-align: top;\n",
       "    }\n",
       "\n",
       "    .dataframe thead th {\n",
       "        text-align: right;\n",
       "    }\n",
       "</style>\n",
       "<table border=\"1\" class=\"dataframe\">\n",
       "  <thead>\n",
       "    <tr style=\"text-align: right;\">\n",
       "      <th></th>\n",
       "      <th>ID</th>\n",
       "      <th>Birth_year</th>\n",
       "    </tr>\n",
       "  </thead>\n",
       "  <tbody>\n",
       "    <tr>\n",
       "      <th>0</th>\n",
       "      <td>100</td>\n",
       "      <td>1990</td>\n",
       "    </tr>\n",
       "    <tr>\n",
       "      <th>1</th>\n",
       "      <td>101</td>\n",
       "      <td>1989</td>\n",
       "    </tr>\n",
       "    <tr>\n",
       "      <th>2</th>\n",
       "      <td>102</td>\n",
       "      <td>1992</td>\n",
       "    </tr>\n",
       "    <tr>\n",
       "      <th>3</th>\n",
       "      <td>103</td>\n",
       "      <td>1997</td>\n",
       "    </tr>\n",
       "    <tr>\n",
       "      <th>4</th>\n",
       "      <td>104</td>\n",
       "      <td>1982</td>\n",
       "    </tr>\n",
       "  </tbody>\n",
       "</table>\n",
       "</div>"
      ],
      "text/plain": [
       "    ID  Birth_year\n",
       "0  100        1990\n",
       "1  101        1989\n",
       "2  102        1992\n",
       "3  103        1997\n",
       "4  104        1982"
      ]
     },
     "execution_count": 55,
     "metadata": {},
     "output_type": "execute_result"
    }
   ],
   "source": [
    "attri_data_frame_1[['ID', 'Birth_year']]"
   ]
  },
  {
   "cell_type": "code",
   "execution_count": 56,
   "id": "bda90da1",
   "metadata": {},
   "outputs": [
    {
     "data": {
      "text/html": [
       "<div>\n",
       "<style scoped>\n",
       "    .dataframe tbody tr th:only-of-type {\n",
       "        vertical-align: middle;\n",
       "    }\n",
       "\n",
       "    .dataframe tbody tr th {\n",
       "        vertical-align: top;\n",
       "    }\n",
       "\n",
       "    .dataframe thead th {\n",
       "        text-align: right;\n",
       "    }\n",
       "</style>\n",
       "<table border=\"1\" class=\"dataframe\">\n",
       "  <thead>\n",
       "    <tr style=\"text-align: right;\">\n",
       "      <th></th>\n",
       "      <th>ID</th>\n",
       "      <th>City</th>\n",
       "      <th>Birth_year</th>\n",
       "      <th>Name</th>\n",
       "    </tr>\n",
       "  </thead>\n",
       "  <tbody>\n",
       "    <tr>\n",
       "      <th>0</th>\n",
       "      <td>100</td>\n",
       "      <td>Tokyo</td>\n",
       "      <td>1990</td>\n",
       "      <td>Hiroshi</td>\n",
       "    </tr>\n",
       "    <tr>\n",
       "      <th>4</th>\n",
       "      <td>104</td>\n",
       "      <td>Tokyo</td>\n",
       "      <td>1982</td>\n",
       "      <td>Steve</td>\n",
       "    </tr>\n",
       "  </tbody>\n",
       "</table>\n",
       "</div>"
      ],
      "text/plain": [
       "    ID   City  Birth_year     Name\n",
       "0  100  Tokyo        1990  Hiroshi\n",
       "4  104  Tokyo        1982    Steve"
      ]
     },
     "execution_count": 56,
     "metadata": {},
     "output_type": "execute_result"
    }
   ],
   "source": [
    "attri_data_frame_1[attri_data_frame_1['City'] == 'Tokyo']"
   ]
  },
  {
   "cell_type": "code",
   "execution_count": 57,
   "id": "9f577a18",
   "metadata": {},
   "outputs": [
    {
     "data": {
      "text/plain": [
       "0     True\n",
       "1    False\n",
       "2    False\n",
       "3    False\n",
       "4     True\n",
       "Name: City, dtype: bool"
      ]
     },
     "execution_count": 57,
     "metadata": {},
     "output_type": "execute_result"
    }
   ],
   "source": [
    "attri_data_frame_1['City'] == 'Tokyo'"
   ]
  },
  {
   "cell_type": "code",
   "execution_count": 58,
   "id": "7621820a",
   "metadata": {},
   "outputs": [
    {
     "data": {
      "text/html": [
       "<div>\n",
       "<style scoped>\n",
       "    .dataframe tbody tr th:only-of-type {\n",
       "        vertical-align: middle;\n",
       "    }\n",
       "\n",
       "    .dataframe tbody tr th {\n",
       "        vertical-align: top;\n",
       "    }\n",
       "\n",
       "    .dataframe thead th {\n",
       "        text-align: right;\n",
       "    }\n",
       "</style>\n",
       "<table border=\"1\" class=\"dataframe\">\n",
       "  <thead>\n",
       "    <tr style=\"text-align: right;\">\n",
       "      <th></th>\n",
       "      <th>ID</th>\n",
       "      <th>City</th>\n",
       "      <th>Birth_year</th>\n",
       "      <th>Name</th>\n",
       "    </tr>\n",
       "  </thead>\n",
       "  <tbody>\n",
       "    <tr>\n",
       "      <th>0</th>\n",
       "      <td>100</td>\n",
       "      <td>Tokyo</td>\n",
       "      <td>1990</td>\n",
       "      <td>Hiroshi</td>\n",
       "    </tr>\n",
       "    <tr>\n",
       "      <th>1</th>\n",
       "      <td>101</td>\n",
       "      <td>Osaka</td>\n",
       "      <td>1989</td>\n",
       "      <td>Akiko</td>\n",
       "    </tr>\n",
       "    <tr>\n",
       "      <th>4</th>\n",
       "      <td>104</td>\n",
       "      <td>Tokyo</td>\n",
       "      <td>1982</td>\n",
       "      <td>Steve</td>\n",
       "    </tr>\n",
       "  </tbody>\n",
       "</table>\n",
       "</div>"
      ],
      "text/plain": [
       "    ID   City  Birth_year     Name\n",
       "0  100  Tokyo        1990  Hiroshi\n",
       "1  101  Osaka        1989    Akiko\n",
       "4  104  Tokyo        1982    Steve"
      ]
     },
     "execution_count": 58,
     "metadata": {},
     "output_type": "execute_result"
    }
   ],
   "source": [
    "attri_data_frame_1[attri_data_frame_1['City'].isin(['Tokyo', 'Osaka'])]"
   ]
  },
  {
   "cell_type": "code",
   "execution_count": 59,
   "id": "e43fb0ec",
   "metadata": {},
   "outputs": [
    {
     "data": {
      "text/html": [
       "<div>\n",
       "<style scoped>\n",
       "    .dataframe tbody tr th:only-of-type {\n",
       "        vertical-align: middle;\n",
       "    }\n",
       "\n",
       "    .dataframe tbody tr th {\n",
       "        vertical-align: top;\n",
       "    }\n",
       "\n",
       "    .dataframe thead th {\n",
       "        text-align: right;\n",
       "    }\n",
       "</style>\n",
       "<table border=\"1\" class=\"dataframe\">\n",
       "  <thead>\n",
       "    <tr style=\"text-align: right;\">\n",
       "      <th></th>\n",
       "      <th>ID</th>\n",
       "      <th>City</th>\n",
       "      <th>Name</th>\n",
       "    </tr>\n",
       "  </thead>\n",
       "  <tbody>\n",
       "    <tr>\n",
       "      <th>0</th>\n",
       "      <td>100</td>\n",
       "      <td>Tokyo</td>\n",
       "      <td>Hiroshi</td>\n",
       "    </tr>\n",
       "    <tr>\n",
       "      <th>1</th>\n",
       "      <td>101</td>\n",
       "      <td>Osaka</td>\n",
       "      <td>Akiko</td>\n",
       "    </tr>\n",
       "    <tr>\n",
       "      <th>2</th>\n",
       "      <td>102</td>\n",
       "      <td>Kyoto</td>\n",
       "      <td>Yuki</td>\n",
       "    </tr>\n",
       "    <tr>\n",
       "      <th>3</th>\n",
       "      <td>103</td>\n",
       "      <td>Hokkaido</td>\n",
       "      <td>Satoru</td>\n",
       "    </tr>\n",
       "    <tr>\n",
       "      <th>4</th>\n",
       "      <td>104</td>\n",
       "      <td>Tokyo</td>\n",
       "      <td>Steve</td>\n",
       "    </tr>\n",
       "  </tbody>\n",
       "</table>\n",
       "</div>"
      ],
      "text/plain": [
       "    ID      City     Name\n",
       "0  100     Tokyo  Hiroshi\n",
       "1  101     Osaka    Akiko\n",
       "2  102     Kyoto     Yuki\n",
       "3  103  Hokkaido   Satoru\n",
       "4  104     Tokyo    Steve"
      ]
     },
     "execution_count": 59,
     "metadata": {},
     "output_type": "execute_result"
    }
   ],
   "source": [
    "attri_data_frame_1.drop(['Birth_year'], axis=1)"
   ]
  },
  {
   "cell_type": "code",
   "execution_count": 65,
   "id": "80c5238a",
   "metadata": {},
   "outputs": [
    {
     "data": {
      "text/html": [
       "<div>\n",
       "<style scoped>\n",
       "    .dataframe tbody tr th:only-of-type {\n",
       "        vertical-align: middle;\n",
       "    }\n",
       "\n",
       "    .dataframe tbody tr th {\n",
       "        vertical-align: top;\n",
       "    }\n",
       "\n",
       "    .dataframe thead th {\n",
       "        text-align: right;\n",
       "    }\n",
       "</style>\n",
       "<table border=\"1\" class=\"dataframe\">\n",
       "  <thead>\n",
       "    <tr style=\"text-align: right;\">\n",
       "      <th></th>\n",
       "      <th>ID</th>\n",
       "      <th>Math</th>\n",
       "      <th>English</th>\n",
       "      <th>Sex</th>\n",
       "    </tr>\n",
       "  </thead>\n",
       "  <tbody>\n",
       "    <tr>\n",
       "      <th>0</th>\n",
       "      <td>100</td>\n",
       "      <td>50</td>\n",
       "      <td>90</td>\n",
       "      <td>M</td>\n",
       "    </tr>\n",
       "    <tr>\n",
       "      <th>1</th>\n",
       "      <td>101</td>\n",
       "      <td>43</td>\n",
       "      <td>30</td>\n",
       "      <td>F</td>\n",
       "    </tr>\n",
       "    <tr>\n",
       "      <th>2</th>\n",
       "      <td>102</td>\n",
       "      <td>33</td>\n",
       "      <td>20</td>\n",
       "      <td>F</td>\n",
       "    </tr>\n",
       "    <tr>\n",
       "      <th>3</th>\n",
       "      <td>105</td>\n",
       "      <td>76</td>\n",
       "      <td>50</td>\n",
       "      <td>M</td>\n",
       "    </tr>\n",
       "    <tr>\n",
       "      <th>4</th>\n",
       "      <td>107</td>\n",
       "      <td>98</td>\n",
       "      <td>30</td>\n",
       "      <td>M</td>\n",
       "    </tr>\n",
       "  </tbody>\n",
       "</table>\n",
       "</div>"
      ],
      "text/plain": [
       "    ID  Math  English Sex\n",
       "0  100    50       90   M\n",
       "1  101    43       30   F\n",
       "2  102    33       20   F\n",
       "3  105    76       50   M\n",
       "4  107    98       30   M"
      ]
     },
     "execution_count": 65,
     "metadata": {},
     "output_type": "execute_result"
    }
   ],
   "source": [
    "attri_data2 = {'ID': ['100','101','102','105','107'],\n",
    "                          'Math': [50,43,33,76,98],\n",
    "                          'English': [90,30,20,50,30],\n",
    "                          'Sex': ['M', 'F', 'F', 'M', 'M']}\n",
    "attri_data_frame_2 = DataFrame(attri_data2)\n",
    "attri_data_frame_2"
   ]
  },
  {
   "cell_type": "code",
   "execution_count": 67,
   "id": "0624c32a",
   "metadata": {},
   "outputs": [
    {
     "data": {
      "text/html": [
       "<div>\n",
       "<style scoped>\n",
       "    .dataframe tbody tr th:only-of-type {\n",
       "        vertical-align: middle;\n",
       "    }\n",
       "\n",
       "    .dataframe tbody tr th {\n",
       "        vertical-align: top;\n",
       "    }\n",
       "\n",
       "    .dataframe thead th {\n",
       "        text-align: right;\n",
       "    }\n",
       "</style>\n",
       "<table border=\"1\" class=\"dataframe\">\n",
       "  <thead>\n",
       "    <tr style=\"text-align: right;\">\n",
       "      <th></th>\n",
       "      <th>ID</th>\n",
       "      <th>City</th>\n",
       "      <th>Birth_year</th>\n",
       "      <th>Name</th>\n",
       "      <th>Math</th>\n",
       "      <th>English</th>\n",
       "      <th>Sex</th>\n",
       "    </tr>\n",
       "  </thead>\n",
       "  <tbody>\n",
       "    <tr>\n",
       "      <th>0</th>\n",
       "      <td>100</td>\n",
       "      <td>Tokyo</td>\n",
       "      <td>1990</td>\n",
       "      <td>Hiroshi</td>\n",
       "      <td>50</td>\n",
       "      <td>90</td>\n",
       "      <td>M</td>\n",
       "    </tr>\n",
       "    <tr>\n",
       "      <th>1</th>\n",
       "      <td>101</td>\n",
       "      <td>Osaka</td>\n",
       "      <td>1989</td>\n",
       "      <td>Akiko</td>\n",
       "      <td>43</td>\n",
       "      <td>30</td>\n",
       "      <td>F</td>\n",
       "    </tr>\n",
       "    <tr>\n",
       "      <th>2</th>\n",
       "      <td>102</td>\n",
       "      <td>Kyoto</td>\n",
       "      <td>1992</td>\n",
       "      <td>Yuki</td>\n",
       "      <td>33</td>\n",
       "      <td>20</td>\n",
       "      <td>F</td>\n",
       "    </tr>\n",
       "  </tbody>\n",
       "</table>\n",
       "</div>"
      ],
      "text/plain": [
       "    ID   City  Birth_year     Name  Math  English Sex\n",
       "0  100  Tokyo        1990  Hiroshi    50       90   M\n",
       "1  101  Osaka        1989    Akiko    43       30   F\n",
       "2  102  Kyoto        1992     Yuki    33       20   F"
      ]
     },
     "execution_count": 67,
     "metadata": {},
     "output_type": "execute_result"
    }
   ],
   "source": [
    "pd.merge(attri_data_frame_1, attri_data_frame_2)"
   ]
  },
  {
   "cell_type": "code",
   "execution_count": 77,
   "id": "32c06df9",
   "metadata": {},
   "outputs": [
    {
     "data": {
      "text/plain": [
       "<pandas.core.groupby.generic.DataFrameGroupBy object at 0x297c24ee0>"
      ]
     },
     "execution_count": 77,
     "metadata": {},
     "output_type": "execute_result"
    }
   ],
   "source": [
    "attri_data_frame_2.groupby('Sex')"
   ]
  },
  {
   "cell_type": "code",
   "execution_count": 78,
   "id": "666af70c",
   "metadata": {},
   "outputs": [
    {
     "data": {
      "text/plain": [
       "<pandas.core.groupby.generic.SeriesGroupBy object at 0x297c253c0>"
      ]
     },
     "execution_count": 78,
     "metadata": {},
     "output_type": "execute_result"
    }
   ],
   "source": [
    "attri_data_frame_2.groupby('Sex')['Math']"
   ]
  },
  {
   "cell_type": "code",
   "execution_count": 79,
   "id": "88c35c22",
   "metadata": {},
   "outputs": [
    {
     "data": {
      "text/plain": [
       "Sex\n",
       "F    38.000000\n",
       "M    74.666667\n",
       "Name: Math, dtype: float64"
      ]
     },
     "execution_count": 79,
     "metadata": {},
     "output_type": "execute_result"
    }
   ],
   "source": [
    "attri_data_frame_2.groupby('Sex')['Math'].mean()"
   ]
  },
  {
   "cell_type": "code",
   "execution_count": 69,
   "id": "c74511fc",
   "metadata": {},
   "outputs": [
    {
     "data": {
      "text/html": [
       "<div>\n",
       "<style scoped>\n",
       "    .dataframe tbody tr th:only-of-type {\n",
       "        vertical-align: middle;\n",
       "    }\n",
       "\n",
       "    .dataframe tbody tr th {\n",
       "        vertical-align: top;\n",
       "    }\n",
       "\n",
       "    .dataframe thead th {\n",
       "        text-align: right;\n",
       "    }\n",
       "</style>\n",
       "<table border=\"1\" class=\"dataframe\">\n",
       "  <thead>\n",
       "    <tr style=\"text-align: right;\">\n",
       "      <th></th>\n",
       "      <th>ID</th>\n",
       "      <th>City</th>\n",
       "      <th>Birth_year</th>\n",
       "      <th>Name</th>\n",
       "    </tr>\n",
       "  </thead>\n",
       "  <tbody>\n",
       "    <tr>\n",
       "      <th>e</th>\n",
       "      <td>100</td>\n",
       "      <td>Tokyo</td>\n",
       "      <td>1990</td>\n",
       "      <td>Hiroshi</td>\n",
       "    </tr>\n",
       "    <tr>\n",
       "      <th>b</th>\n",
       "      <td>101</td>\n",
       "      <td>Osaka</td>\n",
       "      <td>1989</td>\n",
       "      <td>Akiko</td>\n",
       "    </tr>\n",
       "    <tr>\n",
       "      <th>a</th>\n",
       "      <td>102</td>\n",
       "      <td>Kyoto</td>\n",
       "      <td>1992</td>\n",
       "      <td>Yuki</td>\n",
       "    </tr>\n",
       "    <tr>\n",
       "      <th>d</th>\n",
       "      <td>103</td>\n",
       "      <td>Hokkaido</td>\n",
       "      <td>1997</td>\n",
       "      <td>Satoru</td>\n",
       "    </tr>\n",
       "    <tr>\n",
       "      <th>c</th>\n",
       "      <td>104</td>\n",
       "      <td>Tokyo</td>\n",
       "      <td>1982</td>\n",
       "      <td>Steve</td>\n",
       "    </tr>\n",
       "  </tbody>\n",
       "</table>\n",
       "</div>"
      ],
      "text/plain": [
       "    ID      City  Birth_year     Name\n",
       "e  100     Tokyo        1990  Hiroshi\n",
       "b  101     Osaka        1989    Akiko\n",
       "a  102     Kyoto        1992     Yuki\n",
       "d  103  Hokkaido        1997   Satoru\n",
       "c  104     Tokyo        1982    Steve"
      ]
     },
     "execution_count": 69,
     "metadata": {},
     "output_type": "execute_result"
    }
   ],
   "source": [
    "attri_data3 = {'ID': ['100', '101', '102', '103', '104'],\n",
    "                          'City': ['Tokyo', 'Osaka', 'Kyoto', 'Hokkaido', 'Tokyo'],\n",
    "                          'Birth_year': [1990,1989,1992,1997,1982],\n",
    "                          'Name': ['Hiroshi', 'Akiko', 'Yuki', 'Satoru', 'Steve']}\n",
    "attri_data_frame_3 = DataFrame(attri_data3, index=['e', 'b', 'a', 'd', 'c'])\n",
    "attri_data_frame_3"
   ]
  },
  {
   "cell_type": "code",
   "execution_count": 70,
   "id": "e5492053",
   "metadata": {},
   "outputs": [
    {
     "data": {
      "text/html": [
       "<div>\n",
       "<style scoped>\n",
       "    .dataframe tbody tr th:only-of-type {\n",
       "        vertical-align: middle;\n",
       "    }\n",
       "\n",
       "    .dataframe tbody tr th {\n",
       "        vertical-align: top;\n",
       "    }\n",
       "\n",
       "    .dataframe thead th {\n",
       "        text-align: right;\n",
       "    }\n",
       "</style>\n",
       "<table border=\"1\" class=\"dataframe\">\n",
       "  <thead>\n",
       "    <tr style=\"text-align: right;\">\n",
       "      <th></th>\n",
       "      <th>ID</th>\n",
       "      <th>City</th>\n",
       "      <th>Birth_year</th>\n",
       "      <th>Name</th>\n",
       "    </tr>\n",
       "  </thead>\n",
       "  <tbody>\n",
       "    <tr>\n",
       "      <th>a</th>\n",
       "      <td>102</td>\n",
       "      <td>Kyoto</td>\n",
       "      <td>1992</td>\n",
       "      <td>Yuki</td>\n",
       "    </tr>\n",
       "    <tr>\n",
       "      <th>b</th>\n",
       "      <td>101</td>\n",
       "      <td>Osaka</td>\n",
       "      <td>1989</td>\n",
       "      <td>Akiko</td>\n",
       "    </tr>\n",
       "    <tr>\n",
       "      <th>c</th>\n",
       "      <td>104</td>\n",
       "      <td>Tokyo</td>\n",
       "      <td>1982</td>\n",
       "      <td>Steve</td>\n",
       "    </tr>\n",
       "    <tr>\n",
       "      <th>d</th>\n",
       "      <td>103</td>\n",
       "      <td>Hokkaido</td>\n",
       "      <td>1997</td>\n",
       "      <td>Satoru</td>\n",
       "    </tr>\n",
       "    <tr>\n",
       "      <th>e</th>\n",
       "      <td>100</td>\n",
       "      <td>Tokyo</td>\n",
       "      <td>1990</td>\n",
       "      <td>Hiroshi</td>\n",
       "    </tr>\n",
       "  </tbody>\n",
       "</table>\n",
       "</div>"
      ],
      "text/plain": [
       "    ID      City  Birth_year     Name\n",
       "a  102     Kyoto        1992     Yuki\n",
       "b  101     Osaka        1989    Akiko\n",
       "c  104     Tokyo        1982    Steve\n",
       "d  103  Hokkaido        1997   Satoru\n",
       "e  100     Tokyo        1990  Hiroshi"
      ]
     },
     "execution_count": 70,
     "metadata": {},
     "output_type": "execute_result"
    }
   ],
   "source": [
    "attri_data_frame_3.sort_index()"
   ]
  },
  {
   "cell_type": "code",
   "execution_count": 71,
   "id": "7ec1f040",
   "metadata": {},
   "outputs": [
    {
     "data": {
      "text/plain": [
       "c    1982\n",
       "b    1989\n",
       "e    1990\n",
       "a    1992\n",
       "d    1997\n",
       "Name: Birth_year, dtype: int64"
      ]
     },
     "execution_count": 71,
     "metadata": {},
     "output_type": "execute_result"
    }
   ],
   "source": [
    "attri_data_frame_3.Birth_year.sort_values()"
   ]
  },
  {
   "cell_type": "code",
   "execution_count": 72,
   "id": "150759c3",
   "metadata": {},
   "outputs": [
    {
     "data": {
      "text/plain": [
       "c    1982\n",
       "b    1989\n",
       "e    1990\n",
       "a    1992\n",
       "d    1997\n",
       "Name: Birth_year, dtype: int64"
      ]
     },
     "execution_count": 72,
     "metadata": {},
     "output_type": "execute_result"
    }
   ],
   "source": [
    "attri_data_frame_3['Birth_year'].sort_values()"
   ]
  },
  {
   "cell_type": "code",
   "execution_count": 74,
   "id": "b45ec862",
   "metadata": {},
   "outputs": [
    {
     "data": {
      "text/html": [
       "<div>\n",
       "<style scoped>\n",
       "    .dataframe tbody tr th:only-of-type {\n",
       "        vertical-align: middle;\n",
       "    }\n",
       "\n",
       "    .dataframe tbody tr th {\n",
       "        vertical-align: top;\n",
       "    }\n",
       "\n",
       "    .dataframe thead th {\n",
       "        text-align: right;\n",
       "    }\n",
       "</style>\n",
       "<table border=\"1\" class=\"dataframe\">\n",
       "  <thead>\n",
       "    <tr style=\"text-align: right;\">\n",
       "      <th></th>\n",
       "      <th>ID</th>\n",
       "      <th>City</th>\n",
       "      <th>Birth_year</th>\n",
       "      <th>Name</th>\n",
       "    </tr>\n",
       "  </thead>\n",
       "  <tbody>\n",
       "    <tr>\n",
       "      <th>e</th>\n",
       "      <td>False</td>\n",
       "      <td>True</td>\n",
       "      <td>False</td>\n",
       "      <td>False</td>\n",
       "    </tr>\n",
       "    <tr>\n",
       "      <th>b</th>\n",
       "      <td>False</td>\n",
       "      <td>False</td>\n",
       "      <td>False</td>\n",
       "      <td>False</td>\n",
       "    </tr>\n",
       "    <tr>\n",
       "      <th>a</th>\n",
       "      <td>False</td>\n",
       "      <td>False</td>\n",
       "      <td>False</td>\n",
       "      <td>False</td>\n",
       "    </tr>\n",
       "    <tr>\n",
       "      <th>d</th>\n",
       "      <td>False</td>\n",
       "      <td>False</td>\n",
       "      <td>False</td>\n",
       "      <td>False</td>\n",
       "    </tr>\n",
       "    <tr>\n",
       "      <th>c</th>\n",
       "      <td>False</td>\n",
       "      <td>True</td>\n",
       "      <td>False</td>\n",
       "      <td>False</td>\n",
       "    </tr>\n",
       "  </tbody>\n",
       "</table>\n",
       "</div>"
      ],
      "text/plain": [
       "      ID   City  Birth_year   Name\n",
       "e  False   True       False  False\n",
       "b  False  False       False  False\n",
       "a  False  False       False  False\n",
       "d  False  False       False  False\n",
       "c  False   True       False  False"
      ]
     },
     "execution_count": 74,
     "metadata": {},
     "output_type": "execute_result"
    }
   ],
   "source": [
    "attri_data_frame_3.isin(['Tokyo'])"
   ]
  },
  {
   "cell_type": "code",
   "execution_count": 75,
   "id": "1c0a7788",
   "metadata": {},
   "outputs": [
    {
     "data": {
      "text/html": [
       "<div>\n",
       "<style scoped>\n",
       "    .dataframe tbody tr th:only-of-type {\n",
       "        vertical-align: middle;\n",
       "    }\n",
       "\n",
       "    .dataframe tbody tr th {\n",
       "        vertical-align: top;\n",
       "    }\n",
       "\n",
       "    .dataframe thead th {\n",
       "        text-align: right;\n",
       "    }\n",
       "</style>\n",
       "<table border=\"1\" class=\"dataframe\">\n",
       "  <thead>\n",
       "    <tr style=\"text-align: right;\">\n",
       "      <th></th>\n",
       "      <th>ID</th>\n",
       "      <th>City</th>\n",
       "      <th>Birth_year</th>\n",
       "      <th>Name</th>\n",
       "    </tr>\n",
       "  </thead>\n",
       "  <tbody>\n",
       "    <tr>\n",
       "      <th>e</th>\n",
       "      <td>False</td>\n",
       "      <td>False</td>\n",
       "      <td>False</td>\n",
       "      <td>True</td>\n",
       "    </tr>\n",
       "    <tr>\n",
       "      <th>b</th>\n",
       "      <td>False</td>\n",
       "      <td>False</td>\n",
       "      <td>False</td>\n",
       "      <td>True</td>\n",
       "    </tr>\n",
       "    <tr>\n",
       "      <th>a</th>\n",
       "      <td>False</td>\n",
       "      <td>False</td>\n",
       "      <td>False</td>\n",
       "      <td>True</td>\n",
       "    </tr>\n",
       "    <tr>\n",
       "      <th>d</th>\n",
       "      <td>False</td>\n",
       "      <td>False</td>\n",
       "      <td>False</td>\n",
       "      <td>True</td>\n",
       "    </tr>\n",
       "    <tr>\n",
       "      <th>c</th>\n",
       "      <td>False</td>\n",
       "      <td>False</td>\n",
       "      <td>False</td>\n",
       "      <td>True</td>\n",
       "    </tr>\n",
       "  </tbody>\n",
       "</table>\n",
       "</div>"
      ],
      "text/plain": [
       "      ID   City  Birth_year  Name\n",
       "e  False  False       False  True\n",
       "b  False  False       False  True\n",
       "a  False  False       False  True\n",
       "d  False  False       False  True\n",
       "c  False  False       False  True"
      ]
     },
     "execution_count": 75,
     "metadata": {},
     "output_type": "execute_result"
    }
   ],
   "source": [
    "attri_data_frame_3['Name'] = np.nan\n",
    "attri_data_frame_3.isnull()"
   ]
  },
  {
   "cell_type": "code",
   "execution_count": 76,
   "id": "d0bd9d62",
   "metadata": {},
   "outputs": [
    {
     "data": {
      "text/plain": [
       "ID            0\n",
       "City          0\n",
       "Birth_year    0\n",
       "Name          5\n",
       "dtype: int64"
      ]
     },
     "execution_count": 76,
     "metadata": {},
     "output_type": "execute_result"
    }
   ],
   "source": [
    "attri_data_frame_3.isnull().sum()"
   ]
  },
  {
   "cell_type": "code",
   "execution_count": 82,
   "id": "b0215807",
   "metadata": {},
   "outputs": [
    {
     "data": {
      "image/png": "[encoded data removed]",
      "text/plain": [
       "<Figure size 1440x432 with 1 Axes>"
      ]
     },
     "metadata": {
      "needs_background": "light"
     },
     "output_type": "display_data"
    }
   ],
   "source": [
    "random.seed(0)\n",
    "x = np.random.randn(30)\n",
    "y = np.sin(x) + np.random.randn(30)\n",
    "plt.figure(figsize=(20,6))\n",
    "plt.plot(x,y,'o')\n",
    "#plt.scatter(x,y)\n",
    "plt.title('Title Name')\n",
    "plt.xlabel('X')\n",
    "plt.ylabel('Y')\n",
    "plt.grid(True)"
   ]
  },
  {
   "cell_type": "code",
   "execution_count": 89,
   "id": "f6a59d03",
   "metadata": {},
   "outputs": [
    {
     "data": {
      "image/png": "[encoded data removed]",
      "text/plain": [
       "<Figure size 1440x432 with 1 Axes>"
      ]
     },
     "metadata": {
      "needs_background": "light"
     },
     "output_type": "display_data"
    }
   ],
   "source": [
    "\n",
    "numpy_data_x = np.arange(1000)\n",
    "numpy_random_data_y = np.random.randn(1000).cumsum()\n",
    "plt.figure(figsize=(20,6))\n",
    "plt.plot(numpy_data_x, numpy_random_data_y, label='Label')\n",
    "plt.legend()\n",
    "\n",
    "plt.xlabel('X')\n",
    "plt.ylabel('Y')\n",
    "plt.grid(True)"
   ]
  },
  {
   "cell_type": "code",
   "execution_count": 86,
   "id": "103d2a5f",
   "metadata": {
    "scrolled": false
   },
   "outputs": [
    {
     "name": "stdout",
     "output_type": "stream",
     "text": [
      "[  0   1   2   3   4   5   6   7   8   9  10  11  12  13  14  15  16  17\n",
      "  18  19  20  21  22  23  24  25  26  27  28  29  30  31  32  33  34  35\n",
      "  36  37  38  39  40  41  42  43  44  45  46  47  48  49  50  51  52  53\n",
      "  54  55  56  57  58  59  60  61  62  63  64  65  66  67  68  69  70  71\n",
      "  72  73  74  75  76  77  78  79  80  81  82  83  84  85  86  87  88  89\n",
      "  90  91  92  93  94  95  96  97  98  99 100 101 102 103 104 105 106 107\n",
      " 108 109 110 111 112 113 114 115 116 117 118 119 120 121 122 123 124 125\n",
      " 126 127 128 129 130 131 132 133 134 135 136 137 138 139 140 141 142 143\n",
      " 144 145 146 147 148 149 150 151 152 153 154 155 156 157 158 159 160 161\n",
      " 162 163 164 165 166 167 168 169 170 171 172 173 174 175 176 177 178 179\n",
      " 180 181 182 183 184 185 186 187 188 189 190 191 192 193 194 195 196 197\n",
      " 198 199 200 201 202 203 204 205 206 207 208 209 210 211 212 213 214 215\n",
      " 216 217 218 219 220 221 222 223 224 225 226 227 228 229 230 231 232 233\n",
      " 234 235 236 237 238 239 240 241 242 243 244 245 246 247 248 249 250 251\n",
      " 252 253 254 255 256 257 258 259 260 261 262 263 264 265 266 267 268 269\n",
      " 270 271 272 273 274 275 276 277 278 279 280 281 282 283 284 285 286 287\n",
      " 288 289 290 291 292 293 294 295 296 297 298 299 300 301 302 303 304 305\n",
      " 306 307 308 309 310 311 312 313 314 315 316 317 318 319 320 321 322 323\n",
      " 324 325 326 327 328 329 330 331 332 333 334 335 336 337 338 339 340 341\n",
      " 342 343 344 345 346 347 348 349 350 351 352 353 354 355 356 357 358 359\n",
      " 360 361 362 363 364 365 366 367 368 369 370 371 372 373 374 375 376 377\n",
      " 378 379 380 381 382 383 384 385 386 387 388 389 390 391 392 393 394 395\n",
      " 396 397 398 399 400 401 402 403 404 405 406 407 408 409 410 411 412 413\n",
      " 414 415 416 417 418 419 420 421 422 423 424 425 426 427 428 429 430 431\n",
      " 432 433 434 435 436 437 438 439 440 441 442 443 444 445 446 447 448 449\n",
      " 450 451 452 453 454 455 456 457 458 459 460 461 462 463 464 465 466 467\n",
      " 468 469 470 471 472 473 474 475 476 477 478 479 480 481 482 483 484 485\n",
      " 486 487 488 489 490 491 492 493 494 495 496 497 498 499 500 501 502 503\n",
      " 504 505 506 507 508 509 510 511 512 513 514 515 516 517 518 519 520 521\n",
      " 522 523 524 525 526 527 528 529 530 531 532 533 534 535 536 537 538 539\n",
      " 540 541 542 543 544 545 546 547 548 549 550 551 552 553 554 555 556 557\n",
      " 558 559 560 561 562 563 564 565 566 567 568 569 570 571 572 573 574 575\n",
      " 576 577 578 579 580 581 582 583 584 585 586 587 588 589 590 591 592 593\n",
      " 594 595 596 597 598 599 600 601 602 603 604 605 606 607 608 609 610 611\n",
      " 612 613 614 615 616 617 618 619 620 621 622 623 624 625 626 627 628 629\n",
      " 630 631 632 633 634 635 636 637 638 639 640 641 642 643 644 645 646 647\n",
      " 648 649 650 651 652 653 654 655 656 657 658 659 660 661 662 663 664 665\n",
      " 666 667 668 669 670 671 672 673 674 675 676 677 678 679 680 681 682 683\n",
      " 684 685 686 687 688 689 690 691 692 693 694 695 696 697 698 699 700 701\n",
      " 702 703 704 705 706 707 708 709 710 711 712 713 714 715 716 717 718 719\n",
      " 720 721 722 723 724 725 726 727 728 729 730 731 732 733 734 735 736 737\n",
      " 738 739 740 741 742 743 744 745 746 747 748 749 750 751 752 753 754 755\n",
      " 756 757 758 759 760 761 762 763 764 765 766 767 768 769 770 771 772 773\n",
      " 774 775 776 777 778 779 780 781 782 783 784 785 786 787 788 789 790 791\n",
      " 792 793 794 795 796 797 798 799 800 801 802 803 804 805 806 807 808 809\n",
      " 810 811 812 813 814 815 816 817 818 819 820 821 822 823 824 825 826 827\n",
      " 828 829 830 831 832 833 834 835 836 837 838 839 840 841 842 843 844 845\n",
      " 846 847 848 849 850 851 852 853 854 855 856 857 858 859 860 861 862 863\n",
      " 864 865 866 867 868 869 870 871 872 873 874 875 876 877 878 879 880 881\n",
      " 882 883 884 885 886 887 888 889 890 891 892 893 894 895 896 897 898 899\n",
      " 900 901 902 903 904 905 906 907 908 909 910 911 912 913 914 915 916 917\n",
      " 918 919 920 921 922 923 924 925 926 927 928 929 930 931 932 933 934 935\n",
      " 936 937 938 939 940 941 942 943 944 945 946 947 948 949 950 951 952 953\n",
      " 954 955 956 957 958 959 960 961 962 963 964 965 966 967 968 969 970 971\n",
      " 972 973 974 975 976 977 978 979 980 981 982 983 984 985 986 987 988 989\n",
      " 990 991 992 993 994 995 996 997 998 999]\n",
      "[ 0.556  1.448  1.026  1.131  1.359  1.56   2.101  0.283  0.234  0.473\n",
      " -0.528  1.146  1.308  2.871  2.081  1.174  1.398 -0.281 -0.066  0.031\n",
      "  1.047  1.748  1.331  0.233  1.945  1.153  0.108 -0.977  0.14  -0.379\n",
      " -1.132 -0.995 -1.202 -1.88  -1.126 -0.06   0.925  1.692  2.094  0.318\n",
      "  1.988  2.29   2.898  4.013  5.446  5.865  6.3    5.701  5.734  4.88\n",
      "  4.16   3.266  3.11   4.159  7.33   7.52   6.171  7.436  7.136  6.475\n",
      "  6.685  5.444  5.667  5.578  5.677  6.058  6.126  6.142  6.426  6.842\n",
      "  5.81   4.38   4.319  2.886  2.973  3.912  4.519  3.471  2.611  2.939\n",
      "  2.538  2.221  2.818  1.831  1.43   0.629 -0.414 -1.271 -0.593 -0.541\n",
      " -1.421 -1.652 -3.291 -4.024 -1.874 -1.965 -1.233 -1.298 -0.95  -0.287\n",
      " -1.392 -1.422  0.156 -0.639 -1.206 -1.513 -1.244 -0.719  0.548  1.048\n",
      "  0.986  2.245  2.949  1.453  3.98   5.749  5.581  5.959  7.284  7.111\n",
      "  7.842  8.946  7.931  7.329  8.25   8.711  9.635  9.503  9.214  7.215\n",
      "  6.069  6.116  6.941  7.472  7.343  7.072  7.289  7.367  8.772  8.918\n",
      "  7.437  6.164  7.683  6.512  7.276  7.008  6.838  6.704  7.925  7.733\n",
      "  7.699  6.169  6.375  6.906  7.145  8.543  8.598  8.897 10.546  8.996\n",
      "  8.54   9.966 10.902 11.581 12.413 12.74  14.372 14.75  14.99  15.149\n",
      " 15.342 14.185 14.955 14.825 16.647 16.571 16.992 17.239 16.613 17.605\n",
      " 19.51  19.495 19.195 18.84  16.948 16.77  17.021 18.075 19.036 18.619\n",
      " 18.342 19.466 19.293 18.783 20.175 21.213 21.232 20.638 18.626 19.216\n",
      " 18.319 16.356 17.941 18.589 17.45  16.236 17.107 16.229 17.525 18.141\n",
      " 18.678 19.083 19.274 20.155 19.701 19.787 20.538 21.101 19.907 19.406\n",
      " 19.659 19.251 21.026 20.632 20.47  21.24  21.57  21.425 20.668 20.97\n",
      " 22.009 22.488 21.71  23.447 22.    20.417 21.378 21.604 21.054 19.956\n",
      " 22.277 22.394 22.928 23.246 23.681 24.221 24.953 24.578 24.286 22.545\n",
      " 21.765 22.036 23.081 23.68  23.339 22.076 19.299 20.451 19.861 19.413\n",
      " 19.544 18.139 17.789 19.813 20.318 20.677 19.095 21.338 19.915 21.838\n",
      " 19.723 21.128 22.746 21.922 22.344 22.892 22.078 20.629 19.311 19.852\n",
      " 19.767 19.203 20.17  20.678 19.922 18.721 19.244 18.707 18.806 20.382\n",
      " 20.884 20.022 20.183 19.23  20.839 20.277 20.484 20.792 20.951 18.993\n",
      " 17.546 17.094 17.414 17.276 16.319 14.97  14.569 14.1   14.613 14.287\n",
      " 14.889 14.295 14.039 13.691 12.908 13.533 12.72  12.198 12.125 10.828\n",
      " 10.503  9.791  9.403  9.343  8.543  8.323  9.632  9.606 10.752 11.098\n",
      " 11.872 11.098 11.203 11.337 10.724  9.901  8.411  9.907  8.935 10.281\n",
      "  9.813  8.951  9.573  8.942  9.511  9.178  9.658  8.69   9.521 10.009\n",
      "  9.09  11.733 12.273 14.563 16.163 15.975 15.562 15.159 13.329 12.633\n",
      " 12.88  14.406 13.633 14.515 13.262 12.676 12.219 12.59  13.048 14.01\n",
      " 14.781 15.024 15.414 17.003 16.492 17.267 15.459 15.87  15.387 15.389\n",
      " 16.429 16.594 17.479 18.953 19.342 20.513 20.186 20.178 19.656 20.699\n",
      " 21.113 20.605 20.76  21.802 21.762 20.813 20.945 18.965 19.734 19.312\n",
      " 18.843 19.719 18.354 20.301 19.82  19.297 20.318 21.027 23.478 23.267\n",
      " 23.147 21.667 21.335 20.614 20.165 18.421 20.081 18.665 15.863 14.674\n",
      " 14.07  12.921 14.019 13.881 13.907 14.517 14.803 15.782 14.672 14.125\n",
      " 14.791 12.256 10.881 11.382 10.902 11.838 12.647 11.449 11.855 13.057\n",
      " 13.205 12.227 13.107 13.742 14.285 15.001 12.006 12.887 14.695 15.132\n",
      " 15.324 16.021 16.359 17.011 17.012 16.246 15.241 14.243 12.87  11.802\n",
      " 13.564 14.318 13.693 13.302 13.415 12.759 12.827 13.604 13.569 13.905\n",
      " 14.791 14.519 14.804 14.494 14.466 14.141 13.612 13.786 14.352 14.499\n",
      " 14.998 14.26  13.056 13.473 14.161 14.211 15.559 16.466 19.147 18.946\n",
      " 17.947 17.207 16.642 17.118 14.96  16.278 16.039 15.792 14.713 14.599\n",
      " 14.612 14.49  14.829 14.239 13.343 13.892 13.99  14.188 15.247 14.224\n",
      " 13.369 14.626 13.143 11.834 12.652 12.89  12.995 12.903 12.935 12.843\n",
      " 14.198 13.8   13.638 15.433 15.46  17.692 17.587 18.955 17.3   17.453\n",
      " 15.869 16.713 15.5   15.784 15.502 14.344 12.724 12.213 13.954 13.66\n",
      " 14.578 14.521 15.397 13.57  13.167 14.117 13.953 13.867 13.436 14.586\n",
      " 14.883 14.927 15.57  16.159 16.371 17.918 17.858 18.136 17.493 17.643\n",
      " 19.231 18.588 17.454 18.451 18.302 18.398 18.353 18.432 19.283 18.444\n",
      " 17.432 17.517 15.91  14.537 16.404 17.161 17.151 18.389 17.349 17.033\n",
      " 17.657 18.547 19.06  16.519 15.551 16.028 15.672 18.212 19.139 19.697\n",
      " 18.58  18.545 18.786 19.914 20.795 21.828 20.904 22.316 20.935 20.4\n",
      " 20.83  20.68  19.674 18.853 17.305 17.837 19.097 18.997 18.596 17.124\n",
      " 18.037 20.249 18.451 17.388 16.708 16.144 16.371 17.985 18.994 19.522\n",
      " 18.798 17.678 16.881 18.429 18.368 17.921 17.737 18.562 17.249 18.664\n",
      " 18.82  18.604 19.047 19.265 18.921 18.668 17.799 18.456 17.924 16.967\n",
      " 17.133 18.462 18.414 17.806 18.21  20.147 18.695 19.077 19.282 20.443\n",
      " 21.434 21.248 19.563 20.37  19.535 18.588 19.736 18.825 20.228 20.564\n",
      " 20.883 21.19  19.552 17.776 17.991 18.559 18.642 17.82  17.839 17.757\n",
      " 16.8   17.814 16.084 16.672 17.057 18.066 17.061 17.162 19.334 19.996\n",
      " 20.096 20.635 20.722 22.913 23.896 23.811 24.063 23.672 24.882 23.476\n",
      " 21.871 23.33  25.483 25.951 26.064 26.721 26.074 26.245 26.284 26.911\n",
      " 25.353 24.846 25.691 25.015 24.022 26.064 26.102 25.523 23.831 24.56\n",
      " 25.259 24.961 23.858 23.834 22.998 22.056 21.953 20.901 21.148 21.756\n",
      " 20.916 19.548 21.109 20.169 19.509 19.722 20.321 20.065 20.526 20.125\n",
      " 19.154 20.58  23.068 24.764 24.906 26.74  27.095 26.618 27.085 26.99\n",
      " 26.007 25.109 25.911 24.064 24.668 23.039 20.918 19.079 21.045 20.849\n",
      " 20.936 22.355 23.289 21.898 22.767 22.951 22.609 22.634 23.913 23.027\n",
      " 23.428 23.419 21.621 20.819 21.012 22.31  23.311 23.908 23.093 24.894\n",
      " 25.11  24.103 23.92  24.816 24.824 25.711 26.815 27.215 26.357 26.493\n",
      " 26.538 28.397 26.771 26.636 26.052 26.387 23.95  25.065 25.078 23.234\n",
      " 22.873 23.482 21.89  21.893 20.836 20.28  20.307 20.49  20.019 20.292\n",
      " 21.11  20.831 22.263 23.725 23.296 22.658 20.994 20.868 20.504 21.283\n",
      " 19.774 19.496 20.465 19.735 18.972 17.525 20.146 19.398 18.098 17.294\n",
      " 16.52  16.251 17.076 16.778 15.855 14.403 14.425 14.468 15.999 16.091\n",
      " 15.992 14.942 14.636 14.197 13.827 12.868 13.406 13.264 13.063 11.349\n",
      " 11.843 12.33  11.491 12.481 11.116 11.094 10.823  9.506  9.696 11.398\n",
      " 11.466 11.003 11.45  11.555 11.583 11.158 12.58  13.036 12.507 12.399\n",
      " 11.658 11.05  10.409  9.275 10.052  9.761 10.316  9.645  9.585  8.874\n",
      "  9.594  9.345  8.614  6.973  7.248  6.54   6.524  6.032  6.987  7.531\n",
      "  7.978  7.362  7.828  9.543  8.711  8.883  7.234  8.632  8.235  9.017\n",
      "  7.294  9.091  8.735  9.28   9.431  9.176 10.861  9.213  9.512 10.423\n",
      " 10.393 10.275 10.132  8.904  8.942  9.455  9.524  9.252  8.762  8.482\n",
      "  9.74   7.654  7.694  7.366  8.822  8.877 10.362  8.238  8.698  8.978\n",
      " 10.368  8.727  8.572  8.638  8.142  9.359  9.02  11.055 12.109 13.06\n",
      " 13.619 12.556 12.124 12.697 13.375 14.682 14.215 13.354 14.213 13.404\n",
      " 14.277 15.477 15.933 15.575 15.617 16.21  16.22  18.419 17.428 16.425\n",
      " 15.448 14.859 12.68  12.05  11.397 11.475 11.893 10.653 11.553 13.355\n",
      " 13.147 14.721 14.92  16.909 18.026 16.462 16.481 17.535 17.566 17.529\n",
      " 18.799 18.089 18.106 18.43  18.096 18.076 18.851 19.284 18.475 17.371\n",
      " 16.582 16.583 16.423 15.591 14.993 13.473 13.891 13.851 12.591 12.62\n",
      " 13.963 13.223 14.538 14.214 14.412 14.51  15.911 16.07  14.928 13.617]\n"
     ]
    }
   ],
   "source": [
    "print(numpy_data_x)\n",
    "print(numpy_random_data_y)"
   ]
  },
  {
   "cell_type": "code",
   "execution_count": 90,
   "id": "d32aaac7",
   "metadata": {},
   "outputs": [
    {
     "data": {
      "text/plain": [
       "numpy.ndarray"
      ]
     },
     "execution_count": 90,
     "metadata": {},
     "output_type": "execute_result"
    }
   ],
   "source": [
    "type(np.random.randn(10))"
   ]
  },
  {
   "cell_type": "code",
   "execution_count": 91,
   "id": "ab379640",
   "metadata": {},
   "outputs": [
    {
     "data": {
      "image/png": "[encoded data removed]",
      "text/plain": [
       "<Figure size 1440x432 with 2 Axes>"
      ]
     },
     "metadata": {
      "needs_background": "light"
     },
     "output_type": "display_data"
    }
   ],
   "source": [
    "plt.figure(figsize=(20,6))\n",
    "plt.subplot(2,1,1)\n",
    "\n",
    "x = np.linspace(-10,10,100)\n",
    "plt.plot(x, np.sin(x))\n",
    "\n",
    "plt.subplot(2,1,2)\n",
    "y = np.linspace(-10,10,100)\n",
    "plt.plot(y, np.sin(2*y))\n",
    "\n",
    "plt.grid(True)"
   ]
  },
  {
   "cell_type": "code",
   "execution_count": 92,
   "id": "66abc22f",
   "metadata": {},
   "outputs": [
    {
     "data": {
      "image/png": "[encoded data removed]",
      "text/plain": [
       "<Figure size 1440x432 with 1 Axes>"
      ]
     },
     "metadata": {
      "needs_background": "light"
     },
     "output_type": "display_data"
    }
   ],
   "source": [
    "x = np.arange(-10,10)\n",
    "plt.figure(figsize=(20,6))\n",
    "plt.plot(x, my_function(x))\n",
    "plt.grid(True)"
   ]
  },
  {
   "cell_type": "code",
   "execution_count": 94,
   "id": "b0397381",
   "metadata": {},
   "outputs": [
    {
     "data": {
      "image/png": "[encoded data removed]",
      "text/plain": [
       "<Figure size 1440x432 with 1 Axes>"
      ]
     },
     "metadata": {
      "needs_background": "light"
     },
     "output_type": "display_data"
    }
   ],
   "source": [
    "random.seed(0)\n",
    "plt.figure(figsize=(20,6))\n",
    "plt.hist(np.random.randn(10**5) * 10 + 50, bins=60, range=(20,80))\n",
    "plt.grid(True)"
   ]
  },
  {
   "cell_type": "code",
   "execution_count": 95,
   "id": "c5e3e9c2",
   "metadata": {},
   "outputs": [],
   "source": [
    "?plt.hist"
   ]
  },
  {
   "cell_type": "code",
   "execution_count": null,
   "id": "dc294ca5",
   "metadata": {},
   "outputs": [],
   "source": []
  }
 ],
 "metadata": {
  "kernelspec": {
   "display_name": "Python 3 (ipykernel)",
   "language": "python",
   "name": "python3"
  },
  "language_info": {
   "codemirror_mode": {
    "name": "ipython",
    "version": 3
   },
   "file_extension": ".py",
   "mimetype": "text/x-python",
   "name": "python",
   "nbconvert_exporter": "python",
   "pygments_lexer": "ipython3",
   "version": "3.10.0"
  }
 },
 "nbformat": 4,
 "nbformat_minor": 5
}
