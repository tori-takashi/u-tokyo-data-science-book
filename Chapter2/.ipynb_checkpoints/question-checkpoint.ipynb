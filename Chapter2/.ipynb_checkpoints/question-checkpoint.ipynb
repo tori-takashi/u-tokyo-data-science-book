{
 "cells": [
  {
   "cell_type": "code",
   "execution_count": 32,
   "id": "595202f7",
   "metadata": {},
   "outputs": [],
   "source": [
    "import numpy as np\n",
    "import pandas as pd\n",
    "import matplotlib.pyplot as plt\n",
    "import seaborn as sns\n",
    "\n",
    "x = np.random.uniform(0.0, 1.0, 10**4)\n",
    "y = np.random.uniform(0.0, 1.0, 10**4)\n",
    "\n",
    "monte_carlo_df = pd.DataFrame([x,y,np.hypot(x,y)], index=['x','y', 'hypot']).T\n",
    "monte_carlo_df['is_circle_inner'] = monte_carlo_df['hypot'] < 1"
   ]
  },
  {
   "cell_type": "code",
   "execution_count": 30,
   "id": "5605700b",
   "metadata": {},
   "outputs": [
    {
     "data": {
      "text/html": [
       "<div>\n",
       "<style scoped>\n",
       "    .dataframe tbody tr th:only-of-type {\n",
       "        vertical-align: middle;\n",
       "    }\n",
       "\n",
       "    .dataframe tbody tr th {\n",
       "        vertical-align: top;\n",
       "    }\n",
       "\n",
       "    .dataframe thead th {\n",
       "        text-align: right;\n",
       "    }\n",
       "</style>\n",
       "<table border=\"1\" class=\"dataframe\">\n",
       "  <thead>\n",
       "    <tr style=\"text-align: right;\">\n",
       "      <th></th>\n",
       "      <th>x</th>\n",
       "      <th>y</th>\n",
       "      <th>hypot</th>\n",
       "      <th>is_circle_inner</th>\n",
       "    </tr>\n",
       "  </thead>\n",
       "  <tbody>\n",
       "    <tr>\n",
       "      <th>0</th>\n",
       "      <td>0.802094</td>\n",
       "      <td>0.838378</td>\n",
       "      <td>1.160273</td>\n",
       "      <td>False</td>\n",
       "    </tr>\n",
       "    <tr>\n",
       "      <th>1</th>\n",
       "      <td>0.543379</td>\n",
       "      <td>0.004675</td>\n",
       "      <td>0.543399</td>\n",
       "      <td>True</td>\n",
       "    </tr>\n",
       "    <tr>\n",
       "      <th>2</th>\n",
       "      <td>0.320680</td>\n",
       "      <td>0.549737</td>\n",
       "      <td>0.636432</td>\n",
       "      <td>True</td>\n",
       "    </tr>\n",
       "    <tr>\n",
       "      <th>3</th>\n",
       "      <td>0.885773</td>\n",
       "      <td>0.885639</td>\n",
       "      <td>1.252577</td>\n",
       "      <td>False</td>\n",
       "    </tr>\n",
       "    <tr>\n",
       "      <th>4</th>\n",
       "      <td>0.198386</td>\n",
       "      <td>0.503785</td>\n",
       "      <td>0.541439</td>\n",
       "      <td>True</td>\n",
       "    </tr>\n",
       "    <tr>\n",
       "      <th>...</th>\n",
       "      <td>...</td>\n",
       "      <td>...</td>\n",
       "      <td>...</td>\n",
       "      <td>...</td>\n",
       "    </tr>\n",
       "    <tr>\n",
       "      <th>9995</th>\n",
       "      <td>0.023338</td>\n",
       "      <td>0.359348</td>\n",
       "      <td>0.360105</td>\n",
       "      <td>True</td>\n",
       "    </tr>\n",
       "    <tr>\n",
       "      <th>9996</th>\n",
       "      <td>0.068983</td>\n",
       "      <td>0.459095</td>\n",
       "      <td>0.464249</td>\n",
       "      <td>True</td>\n",
       "    </tr>\n",
       "    <tr>\n",
       "      <th>9997</th>\n",
       "      <td>0.912110</td>\n",
       "      <td>0.257225</td>\n",
       "      <td>0.947686</td>\n",
       "      <td>True</td>\n",
       "    </tr>\n",
       "    <tr>\n",
       "      <th>9998</th>\n",
       "      <td>0.578813</td>\n",
       "      <td>0.058156</td>\n",
       "      <td>0.581727</td>\n",
       "      <td>True</td>\n",
       "    </tr>\n",
       "    <tr>\n",
       "      <th>9999</th>\n",
       "      <td>0.855420</td>\n",
       "      <td>0.815199</td>\n",
       "      <td>1.181648</td>\n",
       "      <td>False</td>\n",
       "    </tr>\n",
       "  </tbody>\n",
       "</table>\n",
       "<p>10000 rows × 4 columns</p>\n",
       "</div>"
      ],
      "text/plain": [
       "             x         y     hypot  is_circle_inner\n",
       "0     0.802094  0.838378  1.160273            False\n",
       "1     0.543379  0.004675  0.543399             True\n",
       "2     0.320680  0.549737  0.636432             True\n",
       "3     0.885773  0.885639  1.252577            False\n",
       "4     0.198386  0.503785  0.541439             True\n",
       "...        ...       ...       ...              ...\n",
       "9995  0.023338  0.359348  0.360105             True\n",
       "9996  0.068983  0.459095  0.464249             True\n",
       "9997  0.912110  0.257225  0.947686             True\n",
       "9998  0.578813  0.058156  0.581727             True\n",
       "9999  0.855420  0.815199  1.181648            False\n",
       "\n",
       "[10000 rows x 4 columns]"
      ]
     },
     "execution_count": 30,
     "metadata": {},
     "output_type": "execute_result"
    }
   ],
   "source": [
    "monte_carlo_df"
   ]
  },
  {
   "cell_type": "code",
   "execution_count": 33,
   "id": "d2f18012",
   "metadata": {},
   "outputs": [
    {
     "data": {
      "text/plain": [
       "[<matplotlib.lines.Line2D at 0x17fe83340>]"
      ]
     },
     "execution_count": 33,
     "metadata": {},
     "output_type": "execute_result"
    },
    {
     "data": {
      "image/png": "[encoded data removed]",
      "text/plain": [
       "<Figure size 432x288 with 1 Axes>"
      ]
     },
     "metadata": {
      "needs_background": "light"
     },
     "output_type": "display_data"
    }
   ],
   "source": [
    "plt.plot(monte_carlo_df['x'], monte_carlo_df['y'])"
   ]
  },
  {
   "cell_type": "code",
   "execution_count": 37,
   "id": "f27178a9",
   "metadata": {},
   "outputs": [
    {
     "name": "stdout",
     "output_type": "stream",
     "text": [
      "r\n",
      "b\n"
     ]
    },
    {
     "data": {
      "image/png": "[encoded data removed]",
      "text/plain": [
       "<Figure size 432x288 with 1 Axes>"
      ]
     },
     "metadata": {
      "needs_background": "light"
     },
     "output_type": "display_data"
    }
   ],
   "source": [
    "plt.figure()\n",
    "for ci in [True, False]:\n",
    "    grouped_by_is_circle_inner = monte_carlo_df[monte_carlo_df['is_circle_inner'] == ci]\n",
    "    plt.scatter(grouped_by_is_circle_inner['x'], grouped_by_is_circle_inner['y'],  c=\"rb\"[ci-1], label=\"is_circle_inner: {}\".format(ci))\n",
    "    print(\"rb\"[ci-1])\n",
    "plt.legend()\n",
    "plt.show()"
   ]
  },
  {
   "cell_type": "code",
   "execution_count": 44,
   "id": "cfc99d34",
   "metadata": {},
   "outputs": [
    {
     "name": "stdout",
     "output_type": "stream",
     "text": [
      "x                  3.146\n",
      "y                  3.146\n",
      "hypot              3.146\n",
      "is_circle_inner    3.146\n",
      "dtype: float64\n"
     ]
    }
   ],
   "source": [
    "calculated_pi = (monte_carlo_df['is_circle_inner'].sum() / monte_carlo_df.count() *4)\n",
    "print(calculated_pi)"
   ]
  }
 ],
 "metadata": {
  "kernelspec": {
   "display_name": "Python 3 (ipykernel)",
   "language": "python",
   "name": "python3"
  },
  "language_info": {
   "codemirror_mode": {
    "name": "ipython",
    "version": 3
   },
   "file_extension": ".py",
   "mimetype": "text/x-python",
   "name": "python",
   "nbconvert_exporter": "python",
   "pygments_lexer": "ipython3",
   "version": "3.10.0"
  }
 },
 "nbformat": 4,
 "nbformat_minor": 5
}
