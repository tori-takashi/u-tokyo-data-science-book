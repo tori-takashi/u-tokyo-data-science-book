{
 "cells": [
  {
   "cell_type": "code",
   "execution_count": 1,
   "id": "44618c7c",
   "metadata": {},
   "outputs": [
    {
     "data": {
      "text/plain": [
       "'%.3f'"
      ]
     },
     "execution_count": 1,
     "metadata": {},
     "output_type": "execute_result"
    }
   ],
   "source": [
    "import numpy as np\n",
    "import numpy.random as random\n",
    "import scipy as sp\n",
    "from pandas import Series, DataFrame\n",
    "import pandas as pd\n",
    "\n",
    "import matplotlib as mpl\n",
    "import matplotlib.pyplot as plt\n",
    "import seaborn as sns\n",
    "%matplotlib inline\n",
    "\n",
    "import sklearn\n",
    "\n",
    "%precision 3"
   ]
  },
  {
   "cell_type": "code",
   "execution_count": 2,
   "id": "e3e4e291",
   "metadata": {},
   "outputs": [],
   "source": [
    "import requests, zipfile\n",
    "import io\n",
    "\n",
    "url = 'http://archive.ics.uci.edu/ml/machine-learning-databases/autos/imports-85.data'\n",
    "res = requests.get(url).content\n",
    "\n",
    "auto = pd.read_csv(io.StringIO(res.decode('utf-8')), header=None)\n",
    "auto.columns = ['symboling', 'normalized-losses', 'make', 'fuel-type', 'aspiration', 'num-of-doors', \n",
    "               'body-style', 'drive-wheels', 'engine-location', 'wheel-base', 'length', 'width', 'height', 'curb-weight', 'engine-type', 'num-of-cyclinders',\n",
    "                'engine-size', 'fuel-system', 'bore', 'stroke', 'compression-ratio', 'horsepower', 'peak-num', 'city-mog', 'highway-mpg', 'price']"
   ]
  },
  {
   "cell_type": "code",
   "execution_count": 3,
   "id": "0175ce51",
   "metadata": {},
   "outputs": [
    {
     "name": "stdout",
     "output_type": "stream",
     "text": [
      "auto's format: (205, 26)\n"
     ]
    }
   ],
   "source": [
    "print(\"auto's format: {}\".format(auto.shape))"
   ]
  },
  {
   "cell_type": "code",
   "execution_count": 4,
   "id": "ee693a07",
   "metadata": {},
   "outputs": [
    {
     "data": {
      "text/html": [
       "<div>\n",
       "<style scoped>\n",
       "    .dataframe tbody tr th:only-of-type {\n",
       "        vertical-align: middle;\n",
       "    }\n",
       "\n",
       "    .dataframe tbody tr th {\n",
       "        vertical-align: top;\n",
       "    }\n",
       "\n",
       "    .dataframe thead th {\n",
       "        text-align: right;\n",
       "    }\n",
       "</style>\n",
       "<table border=\"1\" class=\"dataframe\">\n",
       "  <thead>\n",
       "    <tr style=\"text-align: right;\">\n",
       "      <th></th>\n",
       "      <th>symboling</th>\n",
       "      <th>normalized-losses</th>\n",
       "      <th>make</th>\n",
       "      <th>fuel-type</th>\n",
       "      <th>aspiration</th>\n",
       "      <th>num-of-doors</th>\n",
       "      <th>body-style</th>\n",
       "      <th>drive-wheels</th>\n",
       "      <th>engine-location</th>\n",
       "      <th>wheel-base</th>\n",
       "      <th>...</th>\n",
       "      <th>engine-size</th>\n",
       "      <th>fuel-system</th>\n",
       "      <th>bore</th>\n",
       "      <th>stroke</th>\n",
       "      <th>compression-ratio</th>\n",
       "      <th>horsepower</th>\n",
       "      <th>peak-num</th>\n",
       "      <th>city-mog</th>\n",
       "      <th>highway-mpg</th>\n",
       "      <th>price</th>\n",
       "    </tr>\n",
       "  </thead>\n",
       "  <tbody>\n",
       "    <tr>\n",
       "      <th>0</th>\n",
       "      <td>3</td>\n",
       "      <td>?</td>\n",
       "      <td>alfa-romero</td>\n",
       "      <td>gas</td>\n",
       "      <td>std</td>\n",
       "      <td>two</td>\n",
       "      <td>convertible</td>\n",
       "      <td>rwd</td>\n",
       "      <td>front</td>\n",
       "      <td>88.6</td>\n",
       "      <td>...</td>\n",
       "      <td>130</td>\n",
       "      <td>mpfi</td>\n",
       "      <td>3.47</td>\n",
       "      <td>2.68</td>\n",
       "      <td>9.0</td>\n",
       "      <td>111</td>\n",
       "      <td>5000</td>\n",
       "      <td>21</td>\n",
       "      <td>27</td>\n",
       "      <td>13495</td>\n",
       "    </tr>\n",
       "    <tr>\n",
       "      <th>1</th>\n",
       "      <td>3</td>\n",
       "      <td>?</td>\n",
       "      <td>alfa-romero</td>\n",
       "      <td>gas</td>\n",
       "      <td>std</td>\n",
       "      <td>two</td>\n",
       "      <td>convertible</td>\n",
       "      <td>rwd</td>\n",
       "      <td>front</td>\n",
       "      <td>88.6</td>\n",
       "      <td>...</td>\n",
       "      <td>130</td>\n",
       "      <td>mpfi</td>\n",
       "      <td>3.47</td>\n",
       "      <td>2.68</td>\n",
       "      <td>9.0</td>\n",
       "      <td>111</td>\n",
       "      <td>5000</td>\n",
       "      <td>21</td>\n",
       "      <td>27</td>\n",
       "      <td>16500</td>\n",
       "    </tr>\n",
       "    <tr>\n",
       "      <th>2</th>\n",
       "      <td>1</td>\n",
       "      <td>?</td>\n",
       "      <td>alfa-romero</td>\n",
       "      <td>gas</td>\n",
       "      <td>std</td>\n",
       "      <td>two</td>\n",
       "      <td>hatchback</td>\n",
       "      <td>rwd</td>\n",
       "      <td>front</td>\n",
       "      <td>94.5</td>\n",
       "      <td>...</td>\n",
       "      <td>152</td>\n",
       "      <td>mpfi</td>\n",
       "      <td>2.68</td>\n",
       "      <td>3.47</td>\n",
       "      <td>9.0</td>\n",
       "      <td>154</td>\n",
       "      <td>5000</td>\n",
       "      <td>19</td>\n",
       "      <td>26</td>\n",
       "      <td>16500</td>\n",
       "    </tr>\n",
       "    <tr>\n",
       "      <th>3</th>\n",
       "      <td>2</td>\n",
       "      <td>164</td>\n",
       "      <td>audi</td>\n",
       "      <td>gas</td>\n",
       "      <td>std</td>\n",
       "      <td>four</td>\n",
       "      <td>sedan</td>\n",
       "      <td>fwd</td>\n",
       "      <td>front</td>\n",
       "      <td>99.8</td>\n",
       "      <td>...</td>\n",
       "      <td>109</td>\n",
       "      <td>mpfi</td>\n",
       "      <td>3.19</td>\n",
       "      <td>3.40</td>\n",
       "      <td>10.0</td>\n",
       "      <td>102</td>\n",
       "      <td>5500</td>\n",
       "      <td>24</td>\n",
       "      <td>30</td>\n",
       "      <td>13950</td>\n",
       "    </tr>\n",
       "    <tr>\n",
       "      <th>4</th>\n",
       "      <td>2</td>\n",
       "      <td>164</td>\n",
       "      <td>audi</td>\n",
       "      <td>gas</td>\n",
       "      <td>std</td>\n",
       "      <td>four</td>\n",
       "      <td>sedan</td>\n",
       "      <td>4wd</td>\n",
       "      <td>front</td>\n",
       "      <td>99.4</td>\n",
       "      <td>...</td>\n",
       "      <td>136</td>\n",
       "      <td>mpfi</td>\n",
       "      <td>3.19</td>\n",
       "      <td>3.40</td>\n",
       "      <td>8.0</td>\n",
       "      <td>115</td>\n",
       "      <td>5500</td>\n",
       "      <td>18</td>\n",
       "      <td>22</td>\n",
       "      <td>17450</td>\n",
       "    </tr>\n",
       "  </tbody>\n",
       "</table>\n",
       "<p>5 rows × 26 columns</p>\n",
       "</div>"
      ],
      "text/plain": [
       "   symboling normalized-losses         make fuel-type aspiration num-of-doors  \\\n",
       "0          3                 ?  alfa-romero       gas        std          two   \n",
       "1          3                 ?  alfa-romero       gas        std          two   \n",
       "2          1                 ?  alfa-romero       gas        std          two   \n",
       "3          2               164         audi       gas        std         four   \n",
       "4          2               164         audi       gas        std         four   \n",
       "\n",
       "    body-style drive-wheels engine-location  wheel-base  ...  engine-size  \\\n",
       "0  convertible          rwd           front        88.6  ...          130   \n",
       "1  convertible          rwd           front        88.6  ...          130   \n",
       "2    hatchback          rwd           front        94.5  ...          152   \n",
       "3        sedan          fwd           front        99.8  ...          109   \n",
       "4        sedan          4wd           front        99.4  ...          136   \n",
       "\n",
       "   fuel-system  bore  stroke compression-ratio horsepower  peak-num city-mog  \\\n",
       "0         mpfi  3.47    2.68               9.0        111      5000       21   \n",
       "1         mpfi  3.47    2.68               9.0        111      5000       21   \n",
       "2         mpfi  2.68    3.47               9.0        154      5000       19   \n",
       "3         mpfi  3.19    3.40              10.0        102      5500       24   \n",
       "4         mpfi  3.19    3.40               8.0        115      5500       18   \n",
       "\n",
       "  highway-mpg  price  \n",
       "0          27  13495  \n",
       "1          27  16500  \n",
       "2          26  16500  \n",
       "3          30  13950  \n",
       "4          22  17450  \n",
       "\n",
       "[5 rows x 26 columns]"
      ]
     },
     "execution_count": 4,
     "metadata": {},
     "output_type": "execute_result"
    }
   ],
   "source": [
    "auto.head()"
   ]
  },
  {
   "cell_type": "code",
   "execution_count": 5,
   "id": "b85bf867",
   "metadata": {},
   "outputs": [
    {
     "data": {
      "text/plain": [
       "price         4\n",
       "horsepower    2\n",
       "width         0\n",
       "height        0\n",
       "dtype: int64"
      ]
     },
     "execution_count": 5,
     "metadata": {},
     "output_type": "execute_result"
    }
   ],
   "source": [
    "auto = auto[['price', 'horsepower','width', 'height']]\n",
    "auto.isin(['?']).sum()"
   ]
  },
  {
   "cell_type": "code",
   "execution_count": 6,
   "id": "8072c856",
   "metadata": {},
   "outputs": [
    {
     "name": "stdout",
     "output_type": "stream",
     "text": [
      "auto's format: (199, 4)\n"
     ]
    }
   ],
   "source": [
    "auto = auto.replace('?', np.nan).dropna()\n",
    "print(\"auto's format: {}\".format(auto.shape))"
   ]
  },
  {
   "cell_type": "code",
   "execution_count": 7,
   "id": "e72db650",
   "metadata": {},
   "outputs": [
    {
     "name": "stdout",
     "output_type": "stream",
     "text": [
      "auto's data type: price          object\n",
      "horsepower     object\n",
      "width         float64\n",
      "height        float64\n",
      "dtype: object\n"
     ]
    }
   ],
   "source": [
    "print(\"auto's data type: {}\".format(auto.dtypes))"
   ]
  },
  {
   "cell_type": "code",
   "execution_count": 8,
   "id": "2d23a5a2",
   "metadata": {},
   "outputs": [
    {
     "data": {
      "text/plain": [
       "price           int64\n",
       "horsepower      int64\n",
       "width         float64\n",
       "height        float64\n",
       "dtype: object"
      ]
     },
     "execution_count": 8,
     "metadata": {},
     "output_type": "execute_result"
    }
   ],
   "source": [
    "auto = auto.assign(price=pd.to_numeric(auto.price))\n",
    "auto = auto.assign(horsepower=pd.to_numeric(auto.horsepower))\n",
    "auto.dtypes"
   ]
  },
  {
   "cell_type": "code",
   "execution_count": 9,
   "id": "d0d3db77",
   "metadata": {},
   "outputs": [
    {
     "data": {
      "text/html": [
       "<div>\n",
       "<style scoped>\n",
       "    .dataframe tbody tr th:only-of-type {\n",
       "        vertical-align: middle;\n",
       "    }\n",
       "\n",
       "    .dataframe tbody tr th {\n",
       "        vertical-align: top;\n",
       "    }\n",
       "\n",
       "    .dataframe thead th {\n",
       "        text-align: right;\n",
       "    }\n",
       "</style>\n",
       "<table border=\"1\" class=\"dataframe\">\n",
       "  <thead>\n",
       "    <tr style=\"text-align: right;\">\n",
       "      <th></th>\n",
       "      <th>price</th>\n",
       "      <th>horsepower</th>\n",
       "      <th>width</th>\n",
       "      <th>height</th>\n",
       "    </tr>\n",
       "  </thead>\n",
       "  <tbody>\n",
       "    <tr>\n",
       "      <th>price</th>\n",
       "      <td>1.000000</td>\n",
       "      <td>0.810533</td>\n",
       "      <td>0.753871</td>\n",
       "      <td>0.134990</td>\n",
       "    </tr>\n",
       "    <tr>\n",
       "      <th>horsepower</th>\n",
       "      <td>0.810533</td>\n",
       "      <td>1.000000</td>\n",
       "      <td>0.615315</td>\n",
       "      <td>-0.087407</td>\n",
       "    </tr>\n",
       "    <tr>\n",
       "      <th>width</th>\n",
       "      <td>0.753871</td>\n",
       "      <td>0.615315</td>\n",
       "      <td>1.000000</td>\n",
       "      <td>0.309223</td>\n",
       "    </tr>\n",
       "    <tr>\n",
       "      <th>height</th>\n",
       "      <td>0.134990</td>\n",
       "      <td>-0.087407</td>\n",
       "      <td>0.309223</td>\n",
       "      <td>1.000000</td>\n",
       "    </tr>\n",
       "  </tbody>\n",
       "</table>\n",
       "</div>"
      ],
      "text/plain": [
       "               price  horsepower     width    height\n",
       "price       1.000000    0.810533  0.753871  0.134990\n",
       "horsepower  0.810533    1.000000  0.615315 -0.087407\n",
       "width       0.753871    0.615315  1.000000  0.309223\n",
       "height      0.134990   -0.087407  0.309223  1.000000"
      ]
     },
     "execution_count": 9,
     "metadata": {},
     "output_type": "execute_result"
    }
   ],
   "source": [
    "auto.corr()"
   ]
  },
  {
   "cell_type": "code",
   "execution_count": 10,
   "id": "2627e3fe",
   "metadata": {},
   "outputs": [
    {
     "name": "stdout",
     "output_type": "stream",
     "text": [
      "     horsepower  width  height\n",
      "0           111   64.1    48.8\n",
      "1           111   64.1    48.8\n",
      "2           154   65.5    52.4\n",
      "3           102   66.2    54.3\n",
      "4           115   66.4    54.3\n",
      "..          ...    ...     ...\n",
      "200         114   68.9    55.5\n",
      "201         160   68.8    55.5\n",
      "202         134   68.9    55.5\n",
      "203         106   68.9    55.5\n",
      "204         114   68.9    55.5\n",
      "\n",
      "[199 rows x 3 columns]\n",
      "0      13495\n",
      "1      16500\n",
      "2      16500\n",
      "3      13950\n",
      "4      17450\n",
      "       ...  \n",
      "200    16845\n",
      "201    19045\n",
      "202    21485\n",
      "203    22470\n",
      "204    22625\n",
      "Name: price, Length: 199, dtype: int64\n"
     ]
    }
   ],
   "source": [
    "from sklearn.model_selection import train_test_split\n",
    "from sklearn.linear_model import LinearRegression\n",
    "\n",
    "X = auto.drop('price', axis=1)\n",
    "y = auto['price']\n",
    "\n",
    "print(X)\n",
    "print(y)\n",
    "\n",
    "X_train, X_test, y_train, y_test = train_test_split(X, y, test_size=0.5, random_state=0)"
   ]
  },
  {
   "cell_type": "code",
   "execution_count": 11,
   "id": "64d87235",
   "metadata": {},
   "outputs": [
    {
     "name": "stdout",
     "output_type": "stream",
     "text": [
      "決定係数(train): 0.733 \n",
      "決定係数(test): 0.737\n",
      "回帰係数:\n",
      " horsepower      81.651078\n",
      "width         1829.174506\n",
      "height         229.510077\n",
      "dtype: float64\n",
      "切片: -128409.0463033856\n"
     ]
    }
   ],
   "source": [
    "model = LinearRegression()\n",
    "model.fit(X_train, y_train)\n",
    "\n",
    "print('決定係数(train): {:.3f} '.format(model.score(X_train, y_train)))\n",
    "print('決定係数(test): {:.3f}'.format(model.score(X_test, y_test)))\n",
    "\n",
    "print('回帰係数:\\n {}'.format(pd.Series(model.coef_, index=X.columns)))\n",
    "print('切片: {}'.format(model.intercept_))"
   ]
  },
  {
   "cell_type": "code",
   "execution_count": 12,
   "id": "e1c88d4c",
   "metadata": {},
   "outputs": [],
   "source": [
    "url = 'http://archive.ics.uci.edu/ml/machine-learning-databases/adult/adult.data'\n",
    "res = requests.get(url).content\n",
    "adult = pd.read_csv(io.StringIO(res.decode('utf-8')), header=None)\n",
    "adult.columns = ['age', 'workclass','fnlwgt', 'education', 'education-num', 'marital-status', 'occupation', 'relationship', 'race', 'sex', 'capital-gain',\n",
    "                'capital-loss', 'hours-per-week', 'native-country', 'flg-50K']"
   ]
  },
  {
   "cell_type": "code",
   "execution_count": 13,
   "id": "906153af",
   "metadata": {},
   "outputs": [
    {
     "name": "stdout",
     "output_type": "stream",
     "text": [
      "(32561, 15)\n"
     ]
    }
   ],
   "source": [
    "print(adult.shape)"
   ]
  },
  {
   "cell_type": "code",
   "execution_count": 14,
   "id": "7ef3ece0",
   "metadata": {},
   "outputs": [
    {
     "name": "stdout",
     "output_type": "stream",
     "text": [
      "age               0\n",
      "workclass         0\n",
      "fnlwgt            0\n",
      "education         0\n",
      "education-num     0\n",
      "marital-status    0\n",
      "occupation        0\n",
      "relationship      0\n",
      "race              0\n",
      "sex               0\n",
      "capital-gain      0\n",
      "capital-loss      0\n",
      "hours-per-week    0\n",
      "native-country    0\n",
      "flg-50K           0\n",
      "dtype: int64\n"
     ]
    }
   ],
   "source": [
    "print(adult.isnull().sum())"
   ]
  },
  {
   "cell_type": "code",
   "execution_count": 15,
   "id": "25024014",
   "metadata": {},
   "outputs": [
    {
     "data": {
      "text/html": [
       "<div>\n",
       "<style scoped>\n",
       "    .dataframe tbody tr th:only-of-type {\n",
       "        vertical-align: middle;\n",
       "    }\n",
       "\n",
       "    .dataframe tbody tr th {\n",
       "        vertical-align: top;\n",
       "    }\n",
       "\n",
       "    .dataframe thead th {\n",
       "        text-align: right;\n",
       "    }\n",
       "</style>\n",
       "<table border=\"1\" class=\"dataframe\">\n",
       "  <thead>\n",
       "    <tr style=\"text-align: right;\">\n",
       "      <th></th>\n",
       "      <th>age</th>\n",
       "      <th>workclass</th>\n",
       "      <th>fnlwgt</th>\n",
       "      <th>education</th>\n",
       "      <th>education-num</th>\n",
       "      <th>marital-status</th>\n",
       "      <th>occupation</th>\n",
       "      <th>relationship</th>\n",
       "      <th>race</th>\n",
       "      <th>sex</th>\n",
       "      <th>capital-gain</th>\n",
       "      <th>capital-loss</th>\n",
       "      <th>hours-per-week</th>\n",
       "      <th>native-country</th>\n",
       "      <th>flg-50K</th>\n",
       "    </tr>\n",
       "  </thead>\n",
       "  <tbody>\n",
       "    <tr>\n",
       "      <th>0</th>\n",
       "      <td>39</td>\n",
       "      <td>State-gov</td>\n",
       "      <td>77516</td>\n",
       "      <td>Bachelors</td>\n",
       "      <td>13</td>\n",
       "      <td>Never-married</td>\n",
       "      <td>Adm-clerical</td>\n",
       "      <td>Not-in-family</td>\n",
       "      <td>White</td>\n",
       "      <td>Male</td>\n",
       "      <td>2174</td>\n",
       "      <td>0</td>\n",
       "      <td>40</td>\n",
       "      <td>United-States</td>\n",
       "      <td>&lt;=50K</td>\n",
       "    </tr>\n",
       "    <tr>\n",
       "      <th>1</th>\n",
       "      <td>50</td>\n",
       "      <td>Self-emp-not-inc</td>\n",
       "      <td>83311</td>\n",
       "      <td>Bachelors</td>\n",
       "      <td>13</td>\n",
       "      <td>Married-civ-spouse</td>\n",
       "      <td>Exec-managerial</td>\n",
       "      <td>Husband</td>\n",
       "      <td>White</td>\n",
       "      <td>Male</td>\n",
       "      <td>0</td>\n",
       "      <td>0</td>\n",
       "      <td>13</td>\n",
       "      <td>United-States</td>\n",
       "      <td>&lt;=50K</td>\n",
       "    </tr>\n",
       "    <tr>\n",
       "      <th>2</th>\n",
       "      <td>38</td>\n",
       "      <td>Private</td>\n",
       "      <td>215646</td>\n",
       "      <td>HS-grad</td>\n",
       "      <td>9</td>\n",
       "      <td>Divorced</td>\n",
       "      <td>Handlers-cleaners</td>\n",
       "      <td>Not-in-family</td>\n",
       "      <td>White</td>\n",
       "      <td>Male</td>\n",
       "      <td>0</td>\n",
       "      <td>0</td>\n",
       "      <td>40</td>\n",
       "      <td>United-States</td>\n",
       "      <td>&lt;=50K</td>\n",
       "    </tr>\n",
       "    <tr>\n",
       "      <th>3</th>\n",
       "      <td>53</td>\n",
       "      <td>Private</td>\n",
       "      <td>234721</td>\n",
       "      <td>11th</td>\n",
       "      <td>7</td>\n",
       "      <td>Married-civ-spouse</td>\n",
       "      <td>Handlers-cleaners</td>\n",
       "      <td>Husband</td>\n",
       "      <td>Black</td>\n",
       "      <td>Male</td>\n",
       "      <td>0</td>\n",
       "      <td>0</td>\n",
       "      <td>40</td>\n",
       "      <td>United-States</td>\n",
       "      <td>&lt;=50K</td>\n",
       "    </tr>\n",
       "    <tr>\n",
       "      <th>4</th>\n",
       "      <td>28</td>\n",
       "      <td>Private</td>\n",
       "      <td>338409</td>\n",
       "      <td>Bachelors</td>\n",
       "      <td>13</td>\n",
       "      <td>Married-civ-spouse</td>\n",
       "      <td>Prof-specialty</td>\n",
       "      <td>Wife</td>\n",
       "      <td>Black</td>\n",
       "      <td>Female</td>\n",
       "      <td>0</td>\n",
       "      <td>0</td>\n",
       "      <td>40</td>\n",
       "      <td>Cuba</td>\n",
       "      <td>&lt;=50K</td>\n",
       "    </tr>\n",
       "  </tbody>\n",
       "</table>\n",
       "</div>"
      ],
      "text/plain": [
       "   age          workclass  fnlwgt   education  education-num  \\\n",
       "0   39          State-gov   77516   Bachelors             13   \n",
       "1   50   Self-emp-not-inc   83311   Bachelors             13   \n",
       "2   38            Private  215646     HS-grad              9   \n",
       "3   53            Private  234721        11th              7   \n",
       "4   28            Private  338409   Bachelors             13   \n",
       "\n",
       "        marital-status          occupation    relationship    race      sex  \\\n",
       "0        Never-married        Adm-clerical   Not-in-family   White     Male   \n",
       "1   Married-civ-spouse     Exec-managerial         Husband   White     Male   \n",
       "2             Divorced   Handlers-cleaners   Not-in-family   White     Male   \n",
       "3   Married-civ-spouse   Handlers-cleaners         Husband   Black     Male   \n",
       "4   Married-civ-spouse      Prof-specialty            Wife   Black   Female   \n",
       "\n",
       "   capital-gain  capital-loss  hours-per-week  native-country flg-50K  \n",
       "0          2174             0              40   United-States   <=50K  \n",
       "1             0             0              13   United-States   <=50K  \n",
       "2             0             0              40   United-States   <=50K  \n",
       "3             0             0              40   United-States   <=50K  \n",
       "4             0             0              40            Cuba   <=50K  "
      ]
     },
     "execution_count": 15,
     "metadata": {},
     "output_type": "execute_result"
    }
   ],
   "source": [
    "adult.head()"
   ]
  },
  {
   "cell_type": "code",
   "execution_count": 16,
   "id": "668d59eb",
   "metadata": {},
   "outputs": [
    {
     "data": {
      "text/plain": [
       "flg-50K\n",
       " <=50K    24720\n",
       " >50K      7841\n",
       "dtype: int64"
      ]
     },
     "execution_count": 16,
     "metadata": {},
     "output_type": "execute_result"
    }
   ],
   "source": [
    "adult.groupby('flg-50K').size()"
   ]
  },
  {
   "cell_type": "code",
   "execution_count": 17,
   "id": "4461de09",
   "metadata": {},
   "outputs": [],
   "source": [
    "adult['fin-flg'] = adult['flg-50K'].map(lambda x: 1 if x == ' >50K' else 0)"
   ]
  },
  {
   "cell_type": "code",
   "execution_count": 18,
   "id": "ff69dce2",
   "metadata": {},
   "outputs": [
    {
     "data": {
      "text/plain": [
       "fin-flg\n",
       "0    24720\n",
       "1     7841\n",
       "dtype: int64"
      ]
     },
     "execution_count": 18,
     "metadata": {},
     "output_type": "execute_result"
    }
   ],
   "source": [
    "adult.groupby('fin-flg').size()"
   ]
  },
  {
   "cell_type": "code",
   "execution_count": 19,
   "id": "c2f3a5ab",
   "metadata": {},
   "outputs": [
    {
     "name": "stdout",
     "output_type": "stream",
     "text": [
      "       age  fnlwgt  education-num  capital-gain  capital-loss\n",
      "0       39   77516             13          2174             0\n",
      "1       50   83311             13             0             0\n",
      "2       38  215646              9             0             0\n",
      "3       53  234721              7             0             0\n",
      "4       28  338409             13             0             0\n",
      "...    ...     ...            ...           ...           ...\n",
      "32556   27  257302             12             0             0\n",
      "32557   40  154374              9             0             0\n",
      "32558   58  151910              9             0             0\n",
      "32559   22  201490              9             0             0\n",
      "32560   52  287927              9         15024             0\n",
      "\n",
      "[32561 rows x 5 columns]\n",
      "0        0\n",
      "1        0\n",
      "2        0\n",
      "3        0\n",
      "4        0\n",
      "        ..\n",
      "32556    0\n",
      "32557    1\n",
      "32558    0\n",
      "32559    0\n",
      "32560    1\n",
      "Name: fin-flg, Length: 32561, dtype: int64\n"
     ]
    }
   ],
   "source": [
    "from sklearn.linear_model import LogisticRegression\n",
    "from sklearn.model_selection import train_test_split\n",
    "\n",
    "X = adult[['age', 'fnlwgt', 'education-num', 'capital-gain', 'capital-loss']]\n",
    "y = adult['fin-flg']\n",
    "\n",
    "X_train, X_test, y_train, y_test = train_test_split(X, y, test_size=0.5, random_state=0)\n",
    "print(X)\n",
    "print(y)"
   ]
  },
  {
   "cell_type": "code",
   "execution_count": 20,
   "id": "4835d305",
   "metadata": {},
   "outputs": [
    {
     "name": "stdout",
     "output_type": "stream",
     "text": [
      "正解率(train): 0.797\n",
      "正解率(test): 0.798\n"
     ]
    }
   ],
   "source": [
    "model = LogisticRegression()\n",
    "model.fit(X_train, y_train)\n",
    "print('正解率(train): {:.3f}'.format(model.score(X_train, y_train)))\n",
    "print('正解率(test): {:.3f}'.format(model.score(X_test, y_test)))"
   ]
  },
  {
   "cell_type": "code",
   "execution_count": 21,
   "id": "386a1030",
   "metadata": {},
   "outputs": [
    {
     "data": {
      "text/plain": [
       "array([[-1.185e-02, -4.379e-06, -2.774e-03,  3.274e-04,  7.532e-04]])"
      ]
     },
     "execution_count": 21,
     "metadata": {},
     "output_type": "execute_result"
    }
   ],
   "source": [
    "model.coef_"
   ]
  },
  {
   "cell_type": "code",
   "execution_count": 22,
   "id": "e912e997",
   "metadata": {},
   "outputs": [
    {
     "data": {
      "text/plain": [
       "array([[0.988, 1.   , 0.997, 1.   , 1.001]])"
      ]
     },
     "execution_count": 22,
     "metadata": {},
     "output_type": "execute_result"
    }
   ],
   "source": [
    "np.exp(model.coef_)"
   ]
  },
  {
   "cell_type": "code",
   "execution_count": 23,
   "id": "c61876b5",
   "metadata": {},
   "outputs": [
    {
     "name": "stdout",
     "output_type": "stream",
     "text": [
      "       age  fnlwgt  education-num  capital-gain  capital-loss\n",
      "0       39   77516             13          2174             0\n",
      "1       50   83311             13             0             0\n",
      "2       38  215646              9             0             0\n",
      "3       53  234721              7             0             0\n",
      "4       28  338409             13             0             0\n",
      "...    ...     ...            ...           ...           ...\n",
      "32556   27  257302             12             0             0\n",
      "32557   40  154374              9             0             0\n",
      "32558   58  151910              9             0             0\n",
      "32559   22  201490              9             0             0\n",
      "32560   52  287927              9         15024             0\n",
      "\n",
      "[32561 rows x 5 columns]\n",
      "0        0\n",
      "1        0\n",
      "2        0\n",
      "3        0\n",
      "4        0\n",
      "        ..\n",
      "32556    0\n",
      "32557    1\n",
      "32558    0\n",
      "32559    0\n",
      "32560    1\n",
      "Name: fin-flg, Length: 32561, dtype: int64\n",
      "正解率(train): 0.811\n",
      "正解率(test): 0.810\n"
     ]
    }
   ],
   "source": [
    "from sklearn.preprocessing import StandardScaler\n",
    "from sklearn.model_selection import train_test_split\n",
    "\n",
    "X = adult[['age', 'fnlwgt', 'education-num', 'capital-gain', 'capital-loss']]\n",
    "y = adult['fin-flg']\n",
    "\n",
    "X_train, X_test, y_train, y_test = train_test_split(X, y, test_size=0.5, random_state=0)\n",
    "print(X)\n",
    "print(y)\n",
    "\n",
    "# 標準化\n",
    "sc = StandardScaler()\n",
    "sc.fit(X_train)\n",
    "X_train_std = sc.transform(X_train)\n",
    "X_test_std = sc.transform(X_test)\n",
    "\n",
    "model = LogisticRegression()\n",
    "model.fit(X_train_std, y_train)\n",
    "print('正解率(train): {:.3f}'.format(model.score(X_train_std, y_train)))\n",
    "print('正解率(test): {:.3f}'.format(model.score(X_test_std, y_test)))"
   ]
  },
  {
   "cell_type": "code",
   "execution_count": 24,
   "id": "e9f4b0e3",
   "metadata": {},
   "outputs": [
    {
     "data": {
      "text/html": [
       "<div>\n",
       "<style scoped>\n",
       "    .dataframe tbody tr th:only-of-type {\n",
       "        vertical-align: middle;\n",
       "    }\n",
       "\n",
       "    .dataframe tbody tr th {\n",
       "        vertical-align: top;\n",
       "    }\n",
       "\n",
       "    .dataframe thead th {\n",
       "        text-align: right;\n",
       "    }\n",
       "</style>\n",
       "<table border=\"1\" class=\"dataframe\">\n",
       "  <thead>\n",
       "    <tr style=\"text-align: right;\">\n",
       "      <th></th>\n",
       "      <th>price</th>\n",
       "      <th>horsepower</th>\n",
       "      <th>width</th>\n",
       "      <th>height</th>\n",
       "    </tr>\n",
       "  </thead>\n",
       "  <tbody>\n",
       "    <tr>\n",
       "      <th>0</th>\n",
       "      <td>13495</td>\n",
       "      <td>111</td>\n",
       "      <td>64.1</td>\n",
       "      <td>48.8</td>\n",
       "    </tr>\n",
       "    <tr>\n",
       "      <th>1</th>\n",
       "      <td>16500</td>\n",
       "      <td>111</td>\n",
       "      <td>64.1</td>\n",
       "      <td>48.8</td>\n",
       "    </tr>\n",
       "    <tr>\n",
       "      <th>2</th>\n",
       "      <td>16500</td>\n",
       "      <td>154</td>\n",
       "      <td>65.5</td>\n",
       "      <td>52.4</td>\n",
       "    </tr>\n",
       "    <tr>\n",
       "      <th>3</th>\n",
       "      <td>13950</td>\n",
       "      <td>102</td>\n",
       "      <td>66.2</td>\n",
       "      <td>54.3</td>\n",
       "    </tr>\n",
       "    <tr>\n",
       "      <th>4</th>\n",
       "      <td>17450</td>\n",
       "      <td>115</td>\n",
       "      <td>66.4</td>\n",
       "      <td>54.3</td>\n",
       "    </tr>\n",
       "  </tbody>\n",
       "</table>\n",
       "</div>"
      ],
      "text/plain": [
       "   price  horsepower  width  height\n",
       "0  13495         111   64.1    48.8\n",
       "1  16500         111   64.1    48.8\n",
       "2  16500         154   65.5    52.4\n",
       "3  13950         102   66.2    54.3\n",
       "4  17450         115   66.4    54.3"
      ]
     },
     "execution_count": 24,
     "metadata": {},
     "output_type": "execute_result"
    }
   ],
   "source": [
    "auto.head()"
   ]
  },
  {
   "cell_type": "code",
   "execution_count": 25,
   "id": "4855cdf8",
   "metadata": {},
   "outputs": [
    {
     "name": "stdout",
     "output_type": "stream",
     "text": [
      "正解率(train): 0.733358\n",
      "正解率(test): 0.737069\n",
      "=====================\n",
      "正解率(train): 0.733355\n",
      "正解率(test): 0.737768\n",
      "=====================\n",
      "正解率(train): 0.733358\n",
      "正解率(test): 0.737107\n",
      "=====================\n"
     ]
    }
   ],
   "source": [
    "from sklearn.linear_model import Ridge, Lasso\n",
    "from sklearn.model_selection import train_test_split\n",
    "\n",
    "X = auto.drop('price', axis=1)\n",
    "y = auto['price']\n",
    "X_train, X_test, y_train, y_test = train_test_split(X, y, test_size=0.5, random_state=0)\n",
    "\n",
    "linear = LinearRegression()\n",
    "ridge = Ridge(random_state=0)\n",
    "lasso = Lasso(random_state=0)\n",
    "\n",
    "for model in [linear, ridge, lasso]:\n",
    "    model.fit(X_train, y_train)\n",
    "    print('正解率(train): {:.6f}'.format(model.score(X_train, y_train)))\n",
    "    print('正解率(test): {:.6f}'.format(model.score(X_test, y_test)))\n",
    "    print('=====================')\n",
    "    \n",
    "# 重回帰の方がtrain scoreが高い\n",
    "# testの正解率はRidgeの方が高いのがポイント"
   ]
  },
  {
   "cell_type": "code",
   "execution_count": 26,
   "id": "f66f4524",
   "metadata": {},
   "outputs": [],
   "source": [
    "mldb_url = 'http://archive.ics.uci.edu/ml/machine-learning-databases/'"
   ]
  },
  {
   "cell_type": "code",
   "execution_count": 27,
   "id": "d3b6e767",
   "metadata": {},
   "outputs": [],
   "source": [
    "url = mldb_url + 'mushroom/agaricus-lepiota.data'\n",
    "res = requests.get(url).content\n",
    "mushroom = pd.read_csv(io.StringIO(res.decode('utf-8')), header=None)\n",
    "mushroom.columns = ['classes', 'cap_shape', 'cap_surface', 'cap_color', 'odor', 'bruises', 'gill_attachment', 'gill_spacing', 'gill_size',\n",
    "                                                       'gill_color', 'stalk_shape', 'stalk_root', 'stalk_surface_above_ring', 'stalk_surface_below_ring', \n",
    "                   'stalk_color_above_ling', 'stalk_color_below_ring', 'veil_type', 'veil_color', 'ring_number', 'ring_type', 'spore_print_color',\n",
    "                   'population', 'habitat']"
   ]
  },
  {
   "cell_type": "code",
   "execution_count": 28,
   "id": "186bde0e",
   "metadata": {},
   "outputs": [
    {
     "data": {
      "text/html": [
       "<div>\n",
       "<style scoped>\n",
       "    .dataframe tbody tr th:only-of-type {\n",
       "        vertical-align: middle;\n",
       "    }\n",
       "\n",
       "    .dataframe tbody tr th {\n",
       "        vertical-align: top;\n",
       "    }\n",
       "\n",
       "    .dataframe thead th {\n",
       "        text-align: right;\n",
       "    }\n",
       "</style>\n",
       "<table border=\"1\" class=\"dataframe\">\n",
       "  <thead>\n",
       "    <tr style=\"text-align: right;\">\n",
       "      <th></th>\n",
       "      <th>classes</th>\n",
       "      <th>cap_shape</th>\n",
       "      <th>cap_surface</th>\n",
       "      <th>cap_color</th>\n",
       "      <th>odor</th>\n",
       "      <th>bruises</th>\n",
       "      <th>gill_attachment</th>\n",
       "      <th>gill_spacing</th>\n",
       "      <th>gill_size</th>\n",
       "      <th>gill_color</th>\n",
       "      <th>...</th>\n",
       "      <th>stalk_surface_below_ring</th>\n",
       "      <th>stalk_color_above_ling</th>\n",
       "      <th>stalk_color_below_ring</th>\n",
       "      <th>veil_type</th>\n",
       "      <th>veil_color</th>\n",
       "      <th>ring_number</th>\n",
       "      <th>ring_type</th>\n",
       "      <th>spore_print_color</th>\n",
       "      <th>population</th>\n",
       "      <th>habitat</th>\n",
       "    </tr>\n",
       "  </thead>\n",
       "  <tbody>\n",
       "    <tr>\n",
       "      <th>0</th>\n",
       "      <td>p</td>\n",
       "      <td>x</td>\n",
       "      <td>s</td>\n",
       "      <td>n</td>\n",
       "      <td>t</td>\n",
       "      <td>p</td>\n",
       "      <td>f</td>\n",
       "      <td>c</td>\n",
       "      <td>n</td>\n",
       "      <td>k</td>\n",
       "      <td>...</td>\n",
       "      <td>s</td>\n",
       "      <td>w</td>\n",
       "      <td>w</td>\n",
       "      <td>p</td>\n",
       "      <td>w</td>\n",
       "      <td>o</td>\n",
       "      <td>p</td>\n",
       "      <td>k</td>\n",
       "      <td>s</td>\n",
       "      <td>u</td>\n",
       "    </tr>\n",
       "    <tr>\n",
       "      <th>1</th>\n",
       "      <td>e</td>\n",
       "      <td>x</td>\n",
       "      <td>s</td>\n",
       "      <td>y</td>\n",
       "      <td>t</td>\n",
       "      <td>a</td>\n",
       "      <td>f</td>\n",
       "      <td>c</td>\n",
       "      <td>b</td>\n",
       "      <td>k</td>\n",
       "      <td>...</td>\n",
       "      <td>s</td>\n",
       "      <td>w</td>\n",
       "      <td>w</td>\n",
       "      <td>p</td>\n",
       "      <td>w</td>\n",
       "      <td>o</td>\n",
       "      <td>p</td>\n",
       "      <td>n</td>\n",
       "      <td>n</td>\n",
       "      <td>g</td>\n",
       "    </tr>\n",
       "    <tr>\n",
       "      <th>2</th>\n",
       "      <td>e</td>\n",
       "      <td>b</td>\n",
       "      <td>s</td>\n",
       "      <td>w</td>\n",
       "      <td>t</td>\n",
       "      <td>l</td>\n",
       "      <td>f</td>\n",
       "      <td>c</td>\n",
       "      <td>b</td>\n",
       "      <td>n</td>\n",
       "      <td>...</td>\n",
       "      <td>s</td>\n",
       "      <td>w</td>\n",
       "      <td>w</td>\n",
       "      <td>p</td>\n",
       "      <td>w</td>\n",
       "      <td>o</td>\n",
       "      <td>p</td>\n",
       "      <td>n</td>\n",
       "      <td>n</td>\n",
       "      <td>m</td>\n",
       "    </tr>\n",
       "    <tr>\n",
       "      <th>3</th>\n",
       "      <td>p</td>\n",
       "      <td>x</td>\n",
       "      <td>y</td>\n",
       "      <td>w</td>\n",
       "      <td>t</td>\n",
       "      <td>p</td>\n",
       "      <td>f</td>\n",
       "      <td>c</td>\n",
       "      <td>n</td>\n",
       "      <td>n</td>\n",
       "      <td>...</td>\n",
       "      <td>s</td>\n",
       "      <td>w</td>\n",
       "      <td>w</td>\n",
       "      <td>p</td>\n",
       "      <td>w</td>\n",
       "      <td>o</td>\n",
       "      <td>p</td>\n",
       "      <td>k</td>\n",
       "      <td>s</td>\n",
       "      <td>u</td>\n",
       "    </tr>\n",
       "    <tr>\n",
       "      <th>4</th>\n",
       "      <td>e</td>\n",
       "      <td>x</td>\n",
       "      <td>s</td>\n",
       "      <td>g</td>\n",
       "      <td>f</td>\n",
       "      <td>n</td>\n",
       "      <td>f</td>\n",
       "      <td>w</td>\n",
       "      <td>b</td>\n",
       "      <td>k</td>\n",
       "      <td>...</td>\n",
       "      <td>s</td>\n",
       "      <td>w</td>\n",
       "      <td>w</td>\n",
       "      <td>p</td>\n",
       "      <td>w</td>\n",
       "      <td>o</td>\n",
       "      <td>e</td>\n",
       "      <td>n</td>\n",
       "      <td>a</td>\n",
       "      <td>g</td>\n",
       "    </tr>\n",
       "  </tbody>\n",
       "</table>\n",
       "<p>5 rows × 23 columns</p>\n",
       "</div>"
      ],
      "text/plain": [
       "  classes cap_shape cap_surface cap_color odor bruises gill_attachment  \\\n",
       "0       p         x           s         n    t       p               f   \n",
       "1       e         x           s         y    t       a               f   \n",
       "2       e         b           s         w    t       l               f   \n",
       "3       p         x           y         w    t       p               f   \n",
       "4       e         x           s         g    f       n               f   \n",
       "\n",
       "  gill_spacing gill_size gill_color  ... stalk_surface_below_ring  \\\n",
       "0            c         n          k  ...                        s   \n",
       "1            c         b          k  ...                        s   \n",
       "2            c         b          n  ...                        s   \n",
       "3            c         n          n  ...                        s   \n",
       "4            w         b          k  ...                        s   \n",
       "\n",
       "  stalk_color_above_ling stalk_color_below_ring veil_type veil_color  \\\n",
       "0                      w                      w         p          w   \n",
       "1                      w                      w         p          w   \n",
       "2                      w                      w         p          w   \n",
       "3                      w                      w         p          w   \n",
       "4                      w                      w         p          w   \n",
       "\n",
       "  ring_number ring_type spore_print_color population habitat  \n",
       "0           o         p                 k          s       u  \n",
       "1           o         p                 n          n       g  \n",
       "2           o         p                 n          n       m  \n",
       "3           o         p                 k          s       u  \n",
       "4           o         e                 n          a       g  \n",
       "\n",
       "[5 rows x 23 columns]"
      ]
     },
     "execution_count": 28,
     "metadata": {},
     "output_type": "execute_result"
    }
   ],
   "source": [
    "mushroom.head()"
   ]
  },
  {
   "cell_type": "code",
   "execution_count": 29,
   "id": "ce066b3b",
   "metadata": {},
   "outputs": [
    {
     "data": {
      "text/plain": [
       "(8124, 23)"
      ]
     },
     "execution_count": 29,
     "metadata": {},
     "output_type": "execute_result"
    }
   ],
   "source": [
    "mushroom.shape"
   ]
  },
  {
   "cell_type": "code",
   "execution_count": 30,
   "id": "9d2e31df",
   "metadata": {},
   "outputs": [
    {
     "data": {
      "text/plain": [
       "classes                     0\n",
       "cap_shape                   0\n",
       "cap_surface                 0\n",
       "cap_color                   0\n",
       "odor                        0\n",
       "bruises                     0\n",
       "gill_attachment             0\n",
       "gill_spacing                0\n",
       "gill_size                   0\n",
       "gill_color                  0\n",
       "stalk_shape                 0\n",
       "stalk_root                  0\n",
       "stalk_surface_above_ring    0\n",
       "stalk_surface_below_ring    0\n",
       "stalk_color_above_ling      0\n",
       "stalk_color_below_ring      0\n",
       "veil_type                   0\n",
       "veil_color                  0\n",
       "ring_number                 0\n",
       "ring_type                   0\n",
       "spore_print_color           0\n",
       "population                  0\n",
       "habitat                     0\n",
       "dtype: int64"
      ]
     },
     "execution_count": 30,
     "metadata": {},
     "output_type": "execute_result"
    }
   ],
   "source": [
    "mushroom.isnull().sum()"
   ]
  },
  {
   "cell_type": "code",
   "execution_count": 31,
   "id": "e814ccf4",
   "metadata": {},
   "outputs": [
    {
     "data": {
      "text/html": [
       "<div>\n",
       "<style scoped>\n",
       "    .dataframe tbody tr th:only-of-type {\n",
       "        vertical-align: middle;\n",
       "    }\n",
       "\n",
       "    .dataframe tbody tr th {\n",
       "        vertical-align: top;\n",
       "    }\n",
       "\n",
       "    .dataframe thead th {\n",
       "        text-align: right;\n",
       "    }\n",
       "</style>\n",
       "<table border=\"1\" class=\"dataframe\">\n",
       "  <thead>\n",
       "    <tr style=\"text-align: right;\">\n",
       "      <th></th>\n",
       "      <th>gill_color_b</th>\n",
       "      <th>gill_color_e</th>\n",
       "      <th>gill_color_g</th>\n",
       "      <th>gill_color_h</th>\n",
       "      <th>gill_color_k</th>\n",
       "      <th>gill_color_n</th>\n",
       "      <th>gill_color_o</th>\n",
       "      <th>gill_color_p</th>\n",
       "      <th>gill_color_r</th>\n",
       "      <th>gill_color_u</th>\n",
       "      <th>...</th>\n",
       "      <th>cap_color_b</th>\n",
       "      <th>cap_color_c</th>\n",
       "      <th>cap_color_e</th>\n",
       "      <th>cap_color_g</th>\n",
       "      <th>cap_color_n</th>\n",
       "      <th>cap_color_p</th>\n",
       "      <th>cap_color_r</th>\n",
       "      <th>cap_color_u</th>\n",
       "      <th>cap_color_w</th>\n",
       "      <th>cap_color_y</th>\n",
       "    </tr>\n",
       "  </thead>\n",
       "  <tbody>\n",
       "    <tr>\n",
       "      <th>0</th>\n",
       "      <td>0</td>\n",
       "      <td>0</td>\n",
       "      <td>0</td>\n",
       "      <td>0</td>\n",
       "      <td>1</td>\n",
       "      <td>0</td>\n",
       "      <td>0</td>\n",
       "      <td>0</td>\n",
       "      <td>0</td>\n",
       "      <td>0</td>\n",
       "      <td>...</td>\n",
       "      <td>0</td>\n",
       "      <td>0</td>\n",
       "      <td>0</td>\n",
       "      <td>0</td>\n",
       "      <td>1</td>\n",
       "      <td>0</td>\n",
       "      <td>0</td>\n",
       "      <td>0</td>\n",
       "      <td>0</td>\n",
       "      <td>0</td>\n",
       "    </tr>\n",
       "    <tr>\n",
       "      <th>1</th>\n",
       "      <td>0</td>\n",
       "      <td>0</td>\n",
       "      <td>0</td>\n",
       "      <td>0</td>\n",
       "      <td>1</td>\n",
       "      <td>0</td>\n",
       "      <td>0</td>\n",
       "      <td>0</td>\n",
       "      <td>0</td>\n",
       "      <td>0</td>\n",
       "      <td>...</td>\n",
       "      <td>0</td>\n",
       "      <td>0</td>\n",
       "      <td>0</td>\n",
       "      <td>0</td>\n",
       "      <td>0</td>\n",
       "      <td>0</td>\n",
       "      <td>0</td>\n",
       "      <td>0</td>\n",
       "      <td>0</td>\n",
       "      <td>1</td>\n",
       "    </tr>\n",
       "    <tr>\n",
       "      <th>2</th>\n",
       "      <td>0</td>\n",
       "      <td>0</td>\n",
       "      <td>0</td>\n",
       "      <td>0</td>\n",
       "      <td>0</td>\n",
       "      <td>1</td>\n",
       "      <td>0</td>\n",
       "      <td>0</td>\n",
       "      <td>0</td>\n",
       "      <td>0</td>\n",
       "      <td>...</td>\n",
       "      <td>0</td>\n",
       "      <td>0</td>\n",
       "      <td>0</td>\n",
       "      <td>0</td>\n",
       "      <td>0</td>\n",
       "      <td>0</td>\n",
       "      <td>0</td>\n",
       "      <td>0</td>\n",
       "      <td>1</td>\n",
       "      <td>0</td>\n",
       "    </tr>\n",
       "    <tr>\n",
       "      <th>3</th>\n",
       "      <td>0</td>\n",
       "      <td>0</td>\n",
       "      <td>0</td>\n",
       "      <td>0</td>\n",
       "      <td>0</td>\n",
       "      <td>1</td>\n",
       "      <td>0</td>\n",
       "      <td>0</td>\n",
       "      <td>0</td>\n",
       "      <td>0</td>\n",
       "      <td>...</td>\n",
       "      <td>0</td>\n",
       "      <td>0</td>\n",
       "      <td>0</td>\n",
       "      <td>0</td>\n",
       "      <td>0</td>\n",
       "      <td>0</td>\n",
       "      <td>0</td>\n",
       "      <td>0</td>\n",
       "      <td>1</td>\n",
       "      <td>0</td>\n",
       "    </tr>\n",
       "    <tr>\n",
       "      <th>4</th>\n",
       "      <td>0</td>\n",
       "      <td>0</td>\n",
       "      <td>0</td>\n",
       "      <td>0</td>\n",
       "      <td>1</td>\n",
       "      <td>0</td>\n",
       "      <td>0</td>\n",
       "      <td>0</td>\n",
       "      <td>0</td>\n",
       "      <td>0</td>\n",
       "      <td>...</td>\n",
       "      <td>0</td>\n",
       "      <td>0</td>\n",
       "      <td>0</td>\n",
       "      <td>1</td>\n",
       "      <td>0</td>\n",
       "      <td>0</td>\n",
       "      <td>0</td>\n",
       "      <td>0</td>\n",
       "      <td>0</td>\n",
       "      <td>0</td>\n",
       "    </tr>\n",
       "  </tbody>\n",
       "</table>\n",
       "<p>5 rows × 26 columns</p>\n",
       "</div>"
      ],
      "text/plain": [
       "   gill_color_b  gill_color_e  gill_color_g  gill_color_h  gill_color_k  \\\n",
       "0             0             0             0             0             1   \n",
       "1             0             0             0             0             1   \n",
       "2             0             0             0             0             0   \n",
       "3             0             0             0             0             0   \n",
       "4             0             0             0             0             1   \n",
       "\n",
       "   gill_color_n  gill_color_o  gill_color_p  gill_color_r  gill_color_u  ...  \\\n",
       "0             0             0             0             0             0  ...   \n",
       "1             0             0             0             0             0  ...   \n",
       "2             1             0             0             0             0  ...   \n",
       "3             1             0             0             0             0  ...   \n",
       "4             0             0             0             0             0  ...   \n",
       "\n",
       "   cap_color_b  cap_color_c  cap_color_e  cap_color_g  cap_color_n  \\\n",
       "0            0            0            0            0            1   \n",
       "1            0            0            0            0            0   \n",
       "2            0            0            0            0            0   \n",
       "3            0            0            0            0            0   \n",
       "4            0            0            0            1            0   \n",
       "\n",
       "   cap_color_p  cap_color_r  cap_color_u  cap_color_w  cap_color_y  \n",
       "0            0            0            0            0            0  \n",
       "1            0            0            0            0            1  \n",
       "2            0            0            0            1            0  \n",
       "3            0            0            0            1            0  \n",
       "4            0            0            0            0            0  \n",
       "\n",
       "[5 rows x 26 columns]"
      ]
     },
     "execution_count": 31,
     "metadata": {},
     "output_type": "execute_result"
    }
   ],
   "source": [
    "mushroom_dummy = pd.get_dummies(mushroom[['gill_color', 'gill_attachment', 'odor', 'cap_color']])\n",
    "mushroom_dummy.head()"
   ]
  },
  {
   "cell_type": "code",
   "execution_count": 32,
   "id": "9a41a51c",
   "metadata": {},
   "outputs": [],
   "source": [
    "mushroom_dummy['flg'] = mushroom['classes'].map(lambda x: 1 if x == 'p' else 0)"
   ]
  },
  {
   "cell_type": "code",
   "execution_count": 33,
   "id": "a0cfb20d",
   "metadata": {},
   "outputs": [
    {
     "data": {
      "text/html": [
       "<div>\n",
       "<style scoped>\n",
       "    .dataframe tbody tr th:only-of-type {\n",
       "        vertical-align: middle;\n",
       "    }\n",
       "\n",
       "    .dataframe tbody tr th {\n",
       "        vertical-align: top;\n",
       "    }\n",
       "\n",
       "    .dataframe thead th {\n",
       "        text-align: right;\n",
       "    }\n",
       "</style>\n",
       "<table border=\"1\" class=\"dataframe\">\n",
       "  <thead>\n",
       "    <tr style=\"text-align: right;\">\n",
       "      <th>flg</th>\n",
       "      <th>0</th>\n",
       "      <th>1</th>\n",
       "    </tr>\n",
       "    <tr>\n",
       "      <th>cap_color_c</th>\n",
       "      <th></th>\n",
       "      <th></th>\n",
       "    </tr>\n",
       "  </thead>\n",
       "  <tbody>\n",
       "    <tr>\n",
       "      <th>0</th>\n",
       "      <td>4176</td>\n",
       "      <td>3904</td>\n",
       "    </tr>\n",
       "    <tr>\n",
       "      <th>1</th>\n",
       "      <td>32</td>\n",
       "      <td>12</td>\n",
       "    </tr>\n",
       "  </tbody>\n",
       "</table>\n",
       "</div>"
      ],
      "text/plain": [
       "flg             0     1\n",
       "cap_color_c            \n",
       "0            4176  3904\n",
       "1              32    12"
      ]
     },
     "execution_count": 33,
     "metadata": {},
     "output_type": "execute_result"
    }
   ],
   "source": [
    "mushroom_dummy.groupby(['cap_color_c', 'flg'])['flg'].count().unstack()"
   ]
  },
  {
   "cell_type": "code",
   "execution_count": 34,
   "id": "8b48e7ca",
   "metadata": {},
   "outputs": [
    {
     "data": {
      "text/html": [
       "<div>\n",
       "<style scoped>\n",
       "    .dataframe tbody tr th:only-of-type {\n",
       "        vertical-align: middle;\n",
       "    }\n",
       "\n",
       "    .dataframe tbody tr th {\n",
       "        vertical-align: top;\n",
       "    }\n",
       "\n",
       "    .dataframe thead th {\n",
       "        text-align: right;\n",
       "    }\n",
       "</style>\n",
       "<table border=\"1\" class=\"dataframe\">\n",
       "  <thead>\n",
       "    <tr style=\"text-align: right;\">\n",
       "      <th>flg</th>\n",
       "      <th>0</th>\n",
       "      <th>1</th>\n",
       "    </tr>\n",
       "    <tr>\n",
       "      <th>gill_color_b</th>\n",
       "      <th></th>\n",
       "      <th></th>\n",
       "    </tr>\n",
       "  </thead>\n",
       "  <tbody>\n",
       "    <tr>\n",
       "      <th>0</th>\n",
       "      <td>4208.0</td>\n",
       "      <td>2188.0</td>\n",
       "    </tr>\n",
       "    <tr>\n",
       "      <th>1</th>\n",
       "      <td>NaN</td>\n",
       "      <td>1728.0</td>\n",
       "    </tr>\n",
       "  </tbody>\n",
       "</table>\n",
       "</div>"
      ],
      "text/plain": [
       "flg                0       1\n",
       "gill_color_b                \n",
       "0             4208.0  2188.0\n",
       "1                NaN  1728.0"
      ]
     },
     "execution_count": 34,
     "metadata": {},
     "output_type": "execute_result"
    }
   ],
   "source": [
    "mushroom_dummy.groupby(['gill_color_b', 'flg'])['flg'].count().unstack()"
   ]
  },
  {
   "cell_type": "code",
   "execution_count": 35,
   "id": "2e9f28f1",
   "metadata": {},
   "outputs": [
    {
     "data": {
      "text/plain": [
       "1.000"
      ]
     },
     "execution_count": 35,
     "metadata": {},
     "output_type": "execute_result"
    }
   ],
   "source": [
    "- (0.5 * np.log2(0.5) + 0.5 * np.log2(0.5))"
   ]
  },
  {
   "cell_type": "code",
   "execution_count": 36,
   "id": "f14387b7",
   "metadata": {},
   "outputs": [
    {
     "data": {
      "text/plain": [
       "0.011"
      ]
     },
     "execution_count": 36,
     "metadata": {},
     "output_type": "execute_result"
    }
   ],
   "source": [
    "- (0.001 * np.log2(0.001) + 0.999 * np.log2(0.999))"
   ]
  },
  {
   "cell_type": "code",
   "execution_count": 37,
   "id": "1e419faf",
   "metadata": {},
   "outputs": [],
   "source": [
    "def calc_entropy(p):\n",
    "    return - (p * np.log2(p) + (1-p) * np.log2((1-p)))"
   ]
  },
  {
   "cell_type": "code",
   "execution_count": 38,
   "id": "96b35dd9",
   "metadata": {},
   "outputs": [
    {
     "data": {
      "image/png": "[encoded data removed]",
      "text/plain": [
       "<Figure size 432x288 with 1 Axes>"
      ]
     },
     "metadata": {
      "needs_background": "light"
     },
     "output_type": "display_data"
    }
   ],
   "source": [
    "p = np.arange(0.001, 0.999, 0.01)\n",
    "\n",
    "plt.plot(p, calc_entropy(p))\n",
    "plt.xlabel('prob')\n",
    "plt.ylabel('entropy')\n",
    "plt.grid(True)"
   ]
  },
  {
   "cell_type": "code",
   "execution_count": 39,
   "id": "4b398fce",
   "metadata": {},
   "outputs": [
    {
     "name": "stdout",
     "output_type": "stream",
     "text": [
      "エントロピーの初期値: 0.9990678968724603\n"
     ]
    }
   ],
   "source": [
    "entropy_init = calc_entropy(mushroom_dummy[mushroom_dummy['flg'] == 1]['flg'].count() / mushroom_dummy['flg'].count())\n",
    "print('エントロピーの初期値:', entropy_init)"
   ]
  },
  {
   "cell_type": "code",
   "execution_count": 40,
   "id": "df1918f7",
   "metadata": {},
   "outputs": [
    {
     "data": {
      "text/html": [
       "<div>\n",
       "<style scoped>\n",
       "    .dataframe tbody tr th:only-of-type {\n",
       "        vertical-align: middle;\n",
       "    }\n",
       "\n",
       "    .dataframe tbody tr th {\n",
       "        vertical-align: top;\n",
       "    }\n",
       "\n",
       "    .dataframe thead th {\n",
       "        text-align: right;\n",
       "    }\n",
       "</style>\n",
       "<table border=\"1\" class=\"dataframe\">\n",
       "  <thead>\n",
       "    <tr style=\"text-align: right;\">\n",
       "      <th>flg</th>\n",
       "      <th>0</th>\n",
       "      <th>1</th>\n",
       "    </tr>\n",
       "    <tr>\n",
       "      <th>cap_color_c</th>\n",
       "      <th></th>\n",
       "      <th></th>\n",
       "    </tr>\n",
       "  </thead>\n",
       "  <tbody>\n",
       "    <tr>\n",
       "      <th>0</th>\n",
       "      <td>4176</td>\n",
       "      <td>3904</td>\n",
       "    </tr>\n",
       "    <tr>\n",
       "      <th>1</th>\n",
       "      <td>32</td>\n",
       "      <td>12</td>\n",
       "    </tr>\n",
       "  </tbody>\n",
       "</table>\n",
       "</div>"
      ],
      "text/plain": [
       "flg             0     1\n",
       "cap_color_c            \n",
       "0            4176  3904\n",
       "1              32    12"
      ]
     },
     "execution_count": 40,
     "metadata": {},
     "output_type": "execute_result"
    }
   ],
   "source": [
    "mushroom_dummy.groupby(['cap_color_c', 'flg'])['flg'].count().unstack()"
   ]
  },
  {
   "cell_type": "code",
   "execution_count": 41,
   "id": "46aafbe3",
   "metadata": {},
   "outputs": [],
   "source": [
    "p1 = 4176/(4176+3904)\n",
    "ent1 = calc_entropy(p1)\n",
    "# cap colorがcでない場合のエントロピー"
   ]
  },
  {
   "cell_type": "code",
   "execution_count": 42,
   "id": "61eed76f",
   "metadata": {},
   "outputs": [],
   "source": [
    "p2 = 32/(32+12)\n",
    "ent2 = calc_entropy(p2)\n",
    "# cap colorがcである場合のエントロピー"
   ]
  },
  {
   "cell_type": "code",
   "execution_count": 43,
   "id": "d2117d6b",
   "metadata": {},
   "outputs": [
    {
     "data": {
      "text/plain": [
       "8124"
      ]
     },
     "execution_count": 43,
     "metadata": {},
     "output_type": "execute_result"
    }
   ],
   "source": [
    "mushroom_dummy.flg.count()"
   ]
  },
  {
   "cell_type": "code",
   "execution_count": 44,
   "id": "a758c813",
   "metadata": {},
   "outputs": [
    {
     "name": "stdout",
     "output_type": "stream",
     "text": [
      "データ分割後の平均エントロピー: 0.9983492394158581\n",
      "情報利得: 0.0007186574566022674\n"
     ]
    }
   ],
   "source": [
    "entropy_after = (4176+3904)/8124*ent1 + (32+12)/8124*ent2\n",
    "print('データ分割後の平均エントロピー:', entropy_after)\n",
    "print('情報利得:', entropy_init - entropy_after)"
   ]
  },
  {
   "cell_type": "code",
   "execution_count": 45,
   "id": "2e37be3f",
   "metadata": {},
   "outputs": [
    {
     "data": {
      "text/html": [
       "<div>\n",
       "<style scoped>\n",
       "    .dataframe tbody tr th:only-of-type {\n",
       "        vertical-align: middle;\n",
       "    }\n",
       "\n",
       "    .dataframe tbody tr th {\n",
       "        vertical-align: top;\n",
       "    }\n",
       "\n",
       "    .dataframe thead th {\n",
       "        text-align: right;\n",
       "    }\n",
       "</style>\n",
       "<table border=\"1\" class=\"dataframe\">\n",
       "  <thead>\n",
       "    <tr style=\"text-align: right;\">\n",
       "      <th>flg</th>\n",
       "      <th>0</th>\n",
       "      <th>1</th>\n",
       "    </tr>\n",
       "    <tr>\n",
       "      <th>gill_color_b</th>\n",
       "      <th></th>\n",
       "      <th></th>\n",
       "    </tr>\n",
       "  </thead>\n",
       "  <tbody>\n",
       "    <tr>\n",
       "      <th>0</th>\n",
       "      <td>4208.0</td>\n",
       "      <td>2188.0</td>\n",
       "    </tr>\n",
       "    <tr>\n",
       "      <th>1</th>\n",
       "      <td>NaN</td>\n",
       "      <td>1728.0</td>\n",
       "    </tr>\n",
       "  </tbody>\n",
       "</table>\n",
       "</div>"
      ],
      "text/plain": [
       "flg                0       1\n",
       "gill_color_b                \n",
       "0             4208.0  2188.0\n",
       "1                NaN  1728.0"
      ]
     },
     "execution_count": 45,
     "metadata": {},
     "output_type": "execute_result"
    }
   ],
   "source": [
    "mushroom_dummy.groupby(['gill_color_b', 'flg'])['flg'].count().unstack()"
   ]
  },
  {
   "cell_type": "code",
   "execution_count": 46,
   "id": "af210ec7",
   "metadata": {},
   "outputs": [],
   "source": [
    "#gill colorがbでない場合のエントロピー\n",
    "p3 = 4208/(4208+2188)\n",
    "ent3 = calc_entropy(p3)\n",
    "\n",
    "#gill colorがbの場合のエントロピー\n",
    "p4 = 0/(0+1728)\n",
    "ent4 = - (1-p4)*np.log2(1-p4)"
   ]
  },
  {
   "cell_type": "code",
   "execution_count": 47,
   "id": "bf51c346",
   "metadata": {},
   "outputs": [
    {
     "name": "stdout",
     "output_type": "stream",
     "text": [
      "0.2693983473195207\n"
     ]
    }
   ],
   "source": [
    "entropy_after = ((4208+2188)/8124)*ent3 + ((0+1728)/8124)*ent4\n",
    "print(entropy_init - entropy_after)"
   ]
  },
  {
   "cell_type": "code",
   "execution_count": 48,
   "id": "59c0bf7b",
   "metadata": {},
   "outputs": [
    {
     "name": "stdout",
     "output_type": "stream",
     "text": [
      "正解率(train): 0.882980\n",
      "正解率(test): 0.894141\n"
     ]
    }
   ],
   "source": [
    "from sklearn.tree import DecisionTreeClassifier\n",
    "from sklearn.model_selection import train_test_split\n",
    "\n",
    "X = mushroom_dummy.drop('flg', axis=1)\n",
    "y = mushroom_dummy['flg']\n",
    "X_train, X_test, y_train, y_test = train_test_split(X, y, random_state=0)\n",
    "\n",
    "model = DecisionTreeClassifier(criterion='entropy', max_depth=5, random_state=0)\n",
    "model.fit(X_train, y_train)\n",
    "\n",
    "print('正解率(train): {:.6f}'.format(model.score(X_train, y_train)))\n",
    "print('正解率(test): {:.6f}'.format(model.score(X_test, y_test)))"
   ]
  },
  {
   "cell_type": "code",
   "execution_count": 50,
   "id": "e7c91887",
   "metadata": {},
   "outputs": [
    {
     "data": {
      "image/png": "[encoded data removed]",
      "text/plain": [
       "<IPython.core.display.Image object>"
      ]
     },
     "execution_count": 50,
     "metadata": {},
     "output_type": "execute_result"
    }
   ],
   "source": [
    "from sklearn import tree\n",
    "import pydotplus\n",
    "from six import StringIO\n",
    "from IPython.display import Image\n",
    "\n",
    "dot_data = StringIO()\n",
    "tree.export_graphviz(model, out_file=dot_data)\n",
    "graph = pydotplus.graph_from_dot_data(dot_data.getvalue())\n",
    "Image(graph.create_png())"
   ]
  },
  {
   "cell_type": "code",
   "execution_count": 52,
   "id": "2f2dc541",
   "metadata": {},
   "outputs": [],
   "source": [
    "from sklearn.datasets import load_breast_cancer\n",
    "from sklearn.neighbors import KNeighborsClassifier\n",
    "from sklearn.model_selection import train_test_split"
   ]
  },
  {
   "cell_type": "code",
   "execution_count": 53,
   "id": "e28dade0",
   "metadata": {},
   "outputs": [],
   "source": [
    "cancer = load_breast_cancer()\n",
    "X_train, X_test, y_train, y_test = train_test_split(cancer.data, cancer.target, stratify=cancer.target, random_state=0)"
   ]
  },
  {
   "cell_type": "code",
   "execution_count": 61,
   "id": "34785a0d",
   "metadata": {},
   "outputs": [],
   "source": [
    "training_accuracy = []\n",
    "test_accuracy = []"
   ]
  },
  {
   "cell_type": "code",
   "execution_count": 62,
   "id": "a55ba36e",
   "metadata": {},
   "outputs": [],
   "source": [
    "for n_neighbors in range(1, 21):\n",
    "    model = KNeighborsClassifier(n_neighbors=n_neighbors)\n",
    "    model.fit(X_train, y_train)\n",
    "    training_accuracy.append(model.score(X_train, y_train))\n",
    "    test_accuracy.append(model.score(X_test, y_test))"
   ]
  },
  {
   "cell_type": "code",
   "execution_count": 63,
   "id": "bd95d50e",
   "metadata": {},
   "outputs": [
    {
     "data": {
      "text/plain": [
       "<matplotlib.legend.Legend at 0x2a20be800>"
      ]
     },
     "execution_count": 63,
     "metadata": {},
     "output_type": "execute_result"
    },
    {
     "data": {
      "image/png": "[encoded data removed]",
      "text/plain": [
       "<Figure size 432x288 with 1 Axes>"
      ]
     },
     "metadata": {
      "needs_background": "light"
     },
     "output_type": "display_data"
    }
   ],
   "source": [
    "plt.plot(range(1,21), training_accuracy, label='Training')\n",
    "plt.plot(range(1,21), test_accuracy, label='Test')\n",
    "plt.xlabel('n_neighbors')\n",
    "plt.ylabel('accuracy')\n",
    "plt.legend()"
   ]
  },
  {
   "cell_type": "code",
   "execution_count": 70,
   "id": "a6c543aa",
   "metadata": {},
   "outputs": [
    {
     "name": "stdout",
     "output_type": "stream",
     "text": [
      "正解率(train): 0.922535\n",
      "正解率(test): 0.930070\n"
     ]
    },
    {
     "name": "stderr",
     "output_type": "stream",
     "text": [
      "/Users/toritakashi/.pyenv/versions/3.10.0/lib/python3.10/site-packages/sklearn/svm/_base.py:1206: ConvergenceWarning: Liblinear failed to converge, increase the number of iterations.\n",
      "  warnings.warn(\n"
     ]
    }
   ],
   "source": [
    "from sklearn.svm import LinearSVC\n",
    "from sklearn.model_selection import train_test_split\n",
    "\n",
    "cancer = load_breast_cancer()\n",
    "X_train, X_test, y_train, y_test = train_test_split(\n",
    "cancer.data, cancer.target, stratify=cancer.target, random_state=0)\n",
    "\n",
    "model = LinearSVC(random_state=0)\n",
    "model.fit(X_train, y_train)\n",
    "\n",
    "print('正解率(train): {:.6f}'.format(model.score(X_train, y_train)))\n",
    "print('正解率(test): {:.6f}'.format(model.score(X_test, y_test)))"
   ]
  },
  {
   "cell_type": "code",
   "execution_count": 71,
   "id": "699e532c",
   "metadata": {},
   "outputs": [
    {
     "name": "stdout",
     "output_type": "stream",
     "text": [
      "正解率(train): 0.992958\n",
      "正解率(test): 0.951049\n"
     ]
    }
   ],
   "source": [
    "from sklearn.svm import LinearSVC\n",
    "from sklearn.model_selection import train_test_split\n",
    "\n",
    "cancer = load_breast_cancer()\n",
    "X_train, X_test, y_train, y_test = train_test_split(\n",
    "cancer.data, cancer.target, stratify=cancer.target, random_state=0)\n",
    "\n",
    "sc = StandardScaler()\n",
    "sc.fit(X_train)\n",
    "X_train_std = sc.transform(X_train)\n",
    "X_test_std = sc.transform(X_test)\n",
    "\n",
    "model = LinearSVC(random_state=0)\n",
    "model.fit(X_train_std, y_train)\n",
    "\n",
    "print('正解率(train): {:.6f}'.format(model.score(X_train_std, y_train)))\n",
    "print('正解率(test): {:.6f}'.format(model.score(X_test_std, y_test)))"
   ]
  },
  {
   "cell_type": "code",
   "execution_count": null,
   "id": "8e829887",
   "metadata": {},
   "outputs": [],
   "source": []
  }
 ],
 "metadata": {
  "kernelspec": {
   "display_name": "Python 3 (ipykernel)",
   "language": "python",
   "name": "python3"
  },
  "language_info": {
   "codemirror_mode": {
    "name": "ipython",
    "version": 3
   },
   "file_extension": ".py",
   "mimetype": "text/x-python",
   "name": "python",
   "nbconvert_exporter": "python",
   "pygments_lexer": "ipython3",
   "version": "3.10.0"
  }
 },
 "nbformat": 4,
 "nbformat_minor": 5
}
