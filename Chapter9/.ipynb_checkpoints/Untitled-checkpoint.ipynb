{
 "cells": [
  {
   "cell_type": "code",
   "execution_count": 1,
   "id": "a2b7ece6",
   "metadata": {},
   "outputs": [
    {
     "data": {
      "text/plain": [
       "'%.3f'"
      ]
     },
     "execution_count": 1,
     "metadata": {},
     "output_type": "execute_result"
    }
   ],
   "source": [
    "import numpy as np\n",
    "import numpy.random as random\n",
    "import scipy as sp\n",
    "from pandas import Series, DataFrame\n",
    "import pandas as pd\n",
    "\n",
    "import matplotlib.pyplot as plt\n",
    "import matplotlib as mpl\n",
    "import seaborn as sns\n",
    "%matplotlib inline\n",
    "\n",
    "import sklearn\n",
    "\n",
    "%precision 3"
   ]
  },
  {
   "cell_type": "code",
   "execution_count": 2,
   "id": "e1d72d4a",
   "metadata": {},
   "outputs": [
    {
     "data": {
      "text/plain": [
       "<matplotlib.collections.PathCollection at 0x136cacb20>"
      ]
     },
     "execution_count": 2,
     "metadata": {},
     "output_type": "execute_result"
    },
    {
     "data": {
      "image/png": "[encoded data removed]",
      "text/plain": [
       "<Figure size 432x288 with 1 Axes>"
      ]
     },
     "metadata": {
      "needs_background": "light"
     },
     "output_type": "display_data"
    }
   ],
   "source": [
    "from sklearn.cluster import KMeans\n",
    "from sklearn.datasets import make_blobs\n",
    "\n",
    "X, _ = make_blobs(random_state=10)\n",
    "plt.scatter(X[:,0], X[:,1], color='black')"
   ]
  },
  {
   "cell_type": "code",
   "execution_count": 3,
   "id": "92f9f962",
   "metadata": {
    "scrolled": false
   },
   "outputs": [
    {
     "name": "stdout",
     "output_type": "stream",
     "text": [
      "[[ -2.325  -6.7  ]\n",
      " [  0.519  -4.901]\n",
      " [  2.443   3.847]\n",
      " [  5.827  -9.923]\n",
      " [  2.033   5.29 ]\n",
      " [  3.38    4.189]\n",
      " [  6.048 -10.305]\n",
      " [ -0.421  -4.249]\n",
      " [  3.781   5.221]\n",
      " [  5.692  -7.2  ]\n",
      " [  5.159 -10.134]\n",
      " [  1.165   5.597]\n",
      " [  2.946   3.358]\n",
      " [  1.188  -5.561]\n",
      " [ -0.317  -6.863]\n",
      " [  4.33    5.644]\n",
      " [  4.29   -9.45 ]\n",
      " [  3.5     3.022]\n",
      " [  5.314  -9.947]\n",
      " [  2.611   4.222]\n",
      " [  4.887  -8.877]\n",
      " [  1.956  -4.057]\n",
      " [  2.1     3.656]\n",
      " [  1.315  -5.011]\n",
      " [  5.526  -8.187]\n",
      " [  0.817   4.753]\n",
      " [  2.529   4.576]\n",
      " [  3.695   5.143]\n",
      " [  2.377   5.824]\n",
      " [  5.692  -9.476]\n",
      " [  0.917  -6.526]\n",
      " [  1.447   4.754]\n",
      " [  2.966   4.505]\n",
      " [  6.683 -10.317]\n",
      " [ -0.436  -4.722]\n",
      " [  0.348  -3.89 ]\n",
      " [  0.977  -5.798]\n",
      " [  2.457   5.965]\n",
      " [  2.607   2.844]\n",
      " [  2.89    2.982]\n",
      " [ -1.741  -4.892]\n",
      " [  5.859  -8.382]\n",
      " [ -1.11   -5.627]\n",
      " [  0.244  -6.019]\n",
      " [  4.056   5.322]\n",
      " [  5.559 -10.061]\n",
      " [  5.992  -9.732]\n",
      " [  4.461  -8.557]\n",
      " [ -1.055  -5.344]\n",
      " [  6.911 -10.665]\n",
      " [  3.909   7.441]\n",
      " [  2.195  -5.387]\n",
      " [  3.449 -11.328]\n",
      " [  6.55   -7.912]\n",
      " [ -0.078  -5.985]\n",
      " [  7.821  -8.668]\n",
      " [  2.624   5.369]\n",
      " [  0.481  -5.09 ]\n",
      " [  6.087  -9.936]\n",
      " [  5.064  -9.707]\n",
      " [  2.988   7.444]\n",
      " [  5.077   4.237]\n",
      " [ -1.153  -5.893]\n",
      " [  0.103  -4.301]\n",
      " [  1.137  -6.076]\n",
      " [  6.555 -10.283]\n",
      " [  5.655  -9.14 ]\n",
      " [  0.504  -4.76 ]\n",
      " [ -0.363  -6.295]\n",
      " [  0.302  -4.369]\n",
      " [  4.658   6.721]\n",
      " [  6.735  -9.39 ]\n",
      " [  2.36    4.627]\n",
      " [  2.234   5.117]\n",
      " [  0.215  -5.681]\n",
      " [  1.628   4.178]\n",
      " [  4.013   5.005]\n",
      " [  0.913  -8.484]\n",
      " [  5.155  -8.972]\n",
      " [  5.431  -9.76 ]\n",
      " [  5.746  -9.124]\n",
      " [  1.75    5.446]\n",
      " [  4.622  -9.798]\n",
      " [  3.385   5.894]\n",
      " [ -0.743  -5.765]\n",
      " [  2.191   5.066]\n",
      " [ -1.451  -6.183]\n",
      " [  5.087  -9.273]\n",
      " [  1.07   -4.94 ]\n",
      " [  0.431  -4.842]\n",
      " [  5.194 -10.087]\n",
      " [  6.473 -11.004]\n",
      " [  5.345 -10.114]\n",
      " [  0.324  -5.711]\n",
      " [ -0.267  -5.447]\n",
      " [ -0.737  -4.957]\n",
      " [  2.79    3.069]\n",
      " [  4.487 -10.074]\n",
      " [  6.269  -9.381]\n",
      " [  5.401  -9.296]]\n",
      "[ -6.7    -4.901   3.847  -9.923   5.29    4.189 -10.305  -4.249   5.221\n",
      "  -7.2   -10.134   5.597   3.358  -5.561  -6.863   5.644  -9.45    3.022\n",
      "  -9.947   4.222  -8.877  -4.057   3.656  -5.011  -8.187   4.753   4.576\n",
      "   5.143   5.824  -9.476  -6.526   4.754   4.505 -10.317  -4.722  -3.89\n",
      "  -5.798   5.965   2.844   2.982  -4.892  -8.382  -5.627  -6.019   5.322\n",
      " -10.061  -9.732  -8.557  -5.344 -10.665   7.441  -5.387 -11.328  -7.912\n",
      "  -5.985  -8.668   5.369  -5.09   -9.936  -9.707   7.444   4.237  -5.893\n",
      "  -4.301  -6.076 -10.283  -9.14   -4.76   -6.295  -4.369   6.721  -9.39\n",
      "   4.627   5.117  -5.681   4.178   5.005  -8.484  -8.972  -9.76   -9.124\n",
      "   5.446  -9.798   5.894  -5.765   5.066  -6.183  -9.273  -4.94   -4.842\n",
      " -10.087 -11.004 -10.114  -5.711  -5.447  -4.957   3.069 -10.074  -9.381\n",
      "  -9.296]\n"
     ]
    }
   ],
   "source": [
    "kmeans = KMeans(init='random', n_clusters=3)\n",
    "kmeans.fit(X)\n",
    "y_pred = kmeans.predict(X)\n",
    "print(X)\n",
    "print(X[:,1])"
   ]
  },
  {
   "cell_type": "code",
   "execution_count": 4,
   "id": "f94738b2",
   "metadata": {},
   "outputs": [
    {
     "data": {
      "image/png": "[encoded data removed]",
      "text/plain": [
       "<Figure size 432x288 with 1 Axes>"
      ]
     },
     "metadata": {
      "needs_background": "light"
     },
     "output_type": "display_data"
    }
   ],
   "source": [
    "merge_data = pd.concat([pd.DataFrame(X[:,0]), pd.DataFrame(X[:,1]), pd.DataFrame(y_pred)], axis=1)\n",
    "merge_data.columns = ['feature1', 'feature2', 'cluster']\n",
    "ax = None\n",
    "colors = ['blue', 'red', 'green']\n",
    "for i, data in merge_data.groupby('cluster'):\n",
    "    ax = data.plot.scatter(x='feature1', y='feature2', color=colors[i], label=f'cluster{i}', ax=ax)"
   ]
  },
  {
   "cell_type": "code",
   "execution_count": 5,
   "id": "585da40d",
   "metadata": {},
   "outputs": [
    {
     "data": {
      "text/html": [
       "<div>\n",
       "<style scoped>\n",
       "    .dataframe tbody tr th:only-of-type {\n",
       "        vertical-align: middle;\n",
       "    }\n",
       "\n",
       "    .dataframe tbody tr th {\n",
       "        vertical-align: top;\n",
       "    }\n",
       "\n",
       "    .dataframe thead th {\n",
       "        text-align: right;\n",
       "    }\n",
       "</style>\n",
       "<table border=\"1\" class=\"dataframe\">\n",
       "  <thead>\n",
       "    <tr style=\"text-align: right;\">\n",
       "      <th></th>\n",
       "      <th>age</th>\n",
       "      <th>job</th>\n",
       "      <th>marital</th>\n",
       "      <th>education</th>\n",
       "      <th>default</th>\n",
       "      <th>balance</th>\n",
       "      <th>housing</th>\n",
       "      <th>loan</th>\n",
       "      <th>contact</th>\n",
       "      <th>day</th>\n",
       "      <th>month</th>\n",
       "      <th>duration</th>\n",
       "      <th>campaign</th>\n",
       "      <th>pdays</th>\n",
       "      <th>previous</th>\n",
       "      <th>poutcome</th>\n",
       "      <th>y</th>\n",
       "    </tr>\n",
       "  </thead>\n",
       "  <tbody>\n",
       "    <tr>\n",
       "      <th>0</th>\n",
       "      <td>58</td>\n",
       "      <td>management</td>\n",
       "      <td>married</td>\n",
       "      <td>tertiary</td>\n",
       "      <td>no</td>\n",
       "      <td>2143</td>\n",
       "      <td>yes</td>\n",
       "      <td>no</td>\n",
       "      <td>unknown</td>\n",
       "      <td>5</td>\n",
       "      <td>may</td>\n",
       "      <td>261</td>\n",
       "      <td>1</td>\n",
       "      <td>-1</td>\n",
       "      <td>0</td>\n",
       "      <td>unknown</td>\n",
       "      <td>no</td>\n",
       "    </tr>\n",
       "    <tr>\n",
       "      <th>1</th>\n",
       "      <td>44</td>\n",
       "      <td>technician</td>\n",
       "      <td>single</td>\n",
       "      <td>secondary</td>\n",
       "      <td>no</td>\n",
       "      <td>29</td>\n",
       "      <td>yes</td>\n",
       "      <td>no</td>\n",
       "      <td>unknown</td>\n",
       "      <td>5</td>\n",
       "      <td>may</td>\n",
       "      <td>151</td>\n",
       "      <td>1</td>\n",
       "      <td>-1</td>\n",
       "      <td>0</td>\n",
       "      <td>unknown</td>\n",
       "      <td>no</td>\n",
       "    </tr>\n",
       "    <tr>\n",
       "      <th>2</th>\n",
       "      <td>33</td>\n",
       "      <td>entrepreneur</td>\n",
       "      <td>married</td>\n",
       "      <td>secondary</td>\n",
       "      <td>no</td>\n",
       "      <td>2</td>\n",
       "      <td>yes</td>\n",
       "      <td>yes</td>\n",
       "      <td>unknown</td>\n",
       "      <td>5</td>\n",
       "      <td>may</td>\n",
       "      <td>76</td>\n",
       "      <td>1</td>\n",
       "      <td>-1</td>\n",
       "      <td>0</td>\n",
       "      <td>unknown</td>\n",
       "      <td>no</td>\n",
       "    </tr>\n",
       "    <tr>\n",
       "      <th>3</th>\n",
       "      <td>47</td>\n",
       "      <td>blue-collar</td>\n",
       "      <td>married</td>\n",
       "      <td>unknown</td>\n",
       "      <td>no</td>\n",
       "      <td>1506</td>\n",
       "      <td>yes</td>\n",
       "      <td>no</td>\n",
       "      <td>unknown</td>\n",
       "      <td>5</td>\n",
       "      <td>may</td>\n",
       "      <td>92</td>\n",
       "      <td>1</td>\n",
       "      <td>-1</td>\n",
       "      <td>0</td>\n",
       "      <td>unknown</td>\n",
       "      <td>no</td>\n",
       "    </tr>\n",
       "    <tr>\n",
       "      <th>4</th>\n",
       "      <td>33</td>\n",
       "      <td>unknown</td>\n",
       "      <td>single</td>\n",
       "      <td>unknown</td>\n",
       "      <td>no</td>\n",
       "      <td>1</td>\n",
       "      <td>no</td>\n",
       "      <td>no</td>\n",
       "      <td>unknown</td>\n",
       "      <td>5</td>\n",
       "      <td>may</td>\n",
       "      <td>198</td>\n",
       "      <td>1</td>\n",
       "      <td>-1</td>\n",
       "      <td>0</td>\n",
       "      <td>unknown</td>\n",
       "      <td>no</td>\n",
       "    </tr>\n",
       "  </tbody>\n",
       "</table>\n",
       "</div>"
      ],
      "text/plain": [
       "   age           job  marital  education default  balance housing loan  \\\n",
       "0   58    management  married   tertiary      no     2143     yes   no   \n",
       "1   44    technician   single  secondary      no       29     yes   no   \n",
       "2   33  entrepreneur  married  secondary      no        2     yes  yes   \n",
       "3   47   blue-collar  married    unknown      no     1506     yes   no   \n",
       "4   33       unknown   single    unknown      no        1      no   no   \n",
       "\n",
       "   contact  day month  duration  campaign  pdays  previous poutcome   y  \n",
       "0  unknown    5   may       261         1     -1         0  unknown  no  \n",
       "1  unknown    5   may       151         1     -1         0  unknown  no  \n",
       "2  unknown    5   may        76         1     -1         0  unknown  no  \n",
       "3  unknown    5   may        92         1     -1         0  unknown  no  \n",
       "4  unknown    5   may       198         1     -1         0  unknown  no  "
      ]
     },
     "execution_count": 5,
     "metadata": {},
     "output_type": "execute_result"
    }
   ],
   "source": [
    "import requests, zipfile\n",
    "import io\n",
    "\n",
    "url_base = 'http://archive.ics.uci.edu/ml/machine-learning-databases/'\n",
    "url = url_base + '00222/bank.zip'\n",
    "\n",
    "res = requests.get(url, stream=True)\n",
    "z = zipfile.ZipFile(io.BytesIO(res.content))\n",
    "z.extractall()\n",
    "bank = pd.read_csv('bank-full.csv', sep=';')\n",
    "bank.head()"
   ]
  },
  {
   "cell_type": "code",
   "execution_count": 6,
   "id": "c690956f",
   "metadata": {},
   "outputs": [
    {
     "name": "stdout",
     "output_type": "stream",
     "text": [
      "データ形式: (45211, 17)\n"
     ]
    }
   ],
   "source": [
    "print('データ形式: {}'.format(bank.shape))"
   ]
  },
  {
   "cell_type": "code",
   "execution_count": 7,
   "id": "d5a18676",
   "metadata": {},
   "outputs": [
    {
     "data": {
      "text/plain": [
       "0"
      ]
     },
     "execution_count": 7,
     "metadata": {},
     "output_type": "execute_result"
    }
   ],
   "source": [
    "bank.isnull().sum().sum()"
   ]
  },
  {
   "cell_type": "code",
   "execution_count": 8,
   "id": "952bc3c5",
   "metadata": {},
   "outputs": [
    {
     "name": "stdout",
     "output_type": "stream",
     "text": [
      "<class 'pandas.core.frame.DataFrame'>\n",
      "RangeIndex: 45211 entries, 0 to 45210\n",
      "Data columns (total 4 columns):\n",
      " #   Column    Non-Null Count  Dtype\n",
      "---  ------    --------------  -----\n",
      " 0   age       45211 non-null  int64\n",
      " 1   balance   45211 non-null  int64\n",
      " 2   campaign  45211 non-null  int64\n",
      " 3   previous  45211 non-null  int64\n",
      "dtypes: int64(4)\n",
      "memory usage: 1.4 MB\n"
     ]
    }
   ],
   "source": [
    "from sklearn.preprocessing import StandardScaler\n",
    "bank_sub = bank[['age', 'balance', 'campaign', 'previous']]\n",
    "sc = StandardScaler()\n",
    "sc.fit(bank_sub)\n",
    "bank_sub_std = sc.transform(bank_sub)\n",
    "bank_sub.info()"
   ]
  },
  {
   "cell_type": "code",
   "execution_count": 9,
   "id": "53b8617c",
   "metadata": {},
   "outputs": [
    {
     "name": "stdout",
     "output_type": "stream",
     "text": [
      "4    14734\n",
      "0    24509\n",
      "2     2684\n",
      "1      221\n",
      "5     1683\n",
      "3     1380\n",
      "Name: cluster_number, dtype: int64\n"
     ]
    },
    {
     "data": {
      "text/plain": [
       "Text(0, 0.5, 'count')"
      ]
     },
     "execution_count": 9,
     "metadata": {},
     "output_type": "execute_result"
    },
    {
     "data": {
      "image/png": "[encoded data removed]",
      "text/plain": [
       "<Figure size 432x288 with 1 Axes>"
      ]
     },
     "metadata": {
      "needs_background": "light"
     },
     "output_type": "display_data"
    }
   ],
   "source": [
    "kmeans = KMeans(init='random', n_clusters=6, random_state=0)\n",
    "kmeans.fit(bank_sub_std)\n",
    "labels = pd.Series(kmeans.labels_, name='cluster_number')\n",
    "print(labels.value_counts(sort=False))\n",
    "ax = labels.value_counts(sort=True).plot(kind='bar')\n",
    "ax.set_xlabel('cluster number')\n",
    "ax.set_ylabel('count')"
   ]
  },
  {
   "cell_type": "code",
   "execution_count": 10,
   "id": "832ec666",
   "metadata": {},
   "outputs": [
    {
     "data": {
      "text/plain": [
       "Text(0, 0.5, 'Distortion')"
      ]
     },
     "execution_count": 10,
     "metadata": {},
     "output_type": "execute_result"
    },
    {
     "data": {
      "image/png": "[encoded data removed]",
      "text/plain": [
       "<Figure size 432x288 with 1 Axes>"
      ]
     },
     "metadata": {
      "needs_background": "light"
     },
     "output_type": "display_data"
    }
   ],
   "source": [
    "dist_list = []\n",
    "for i in range(1,10):\n",
    "    kmeans = KMeans(n_clusters=i, init='random', random_state=0)\n",
    "    kmeans.fit(X)\n",
    "    dist_list.append(kmeans.inertia_)\n",
    "    \n",
    "plt.plot(range(1,10), dist_list, marker='+')\n",
    "plt.xlabel('Number of clusters')\n",
    "plt.ylabel('Distortion')"
   ]
  },
  {
   "cell_type": "code",
   "execution_count": 11,
   "id": "456c8673",
   "metadata": {},
   "outputs": [
    {
     "data": {
      "text/plain": [
       "Text(0, 0.5, 'Distortion')"
      ]
     },
     "execution_count": 11,
     "metadata": {},
     "output_type": "execute_result"
    },
    {
     "data": {
      "image/png": "[encoded data removed]",
      "text/plain": [
       "<Figure size 432x288 with 1 Axes>"
      ]
     },
     "metadata": {
      "needs_background": "light"
     },
     "output_type": "display_data"
    }
   ],
   "source": [
    "dist_list = []\n",
    "for i in range(1,20):\n",
    "    kmeans = KMeans(n_clusters=i, init='random', random_state=0)\n",
    "    kmeans.fit(bank_sub_std)\n",
    "    dist_list.append(kmeans.inertia_)\n",
    "\n",
    "plt.plot(range(1,20), dist_list, marker='+')\n",
    "plt.xlabel('Number of clusters')\n",
    "plt.ylabel('Distortion')"
   ]
  },
  {
   "cell_type": "code",
   "execution_count": 12,
   "id": "df3032f6",
   "metadata": {},
   "outputs": [
    {
     "data": {
      "text/html": [
       "<div>\n",
       "<style scoped>\n",
       "    .dataframe tbody tr th:only-of-type {\n",
       "        vertical-align: middle;\n",
       "    }\n",
       "\n",
       "    .dataframe tbody tr th {\n",
       "        vertical-align: top;\n",
       "    }\n",
       "\n",
       "    .dataframe thead th {\n",
       "        text-align: right;\n",
       "    }\n",
       "</style>\n",
       "<table border=\"1\" class=\"dataframe\">\n",
       "  <thead>\n",
       "    <tr style=\"text-align: right;\">\n",
       "      <th></th>\n",
       "      <th>age</th>\n",
       "      <th>job</th>\n",
       "      <th>marital</th>\n",
       "      <th>education</th>\n",
       "      <th>default</th>\n",
       "      <th>balance</th>\n",
       "      <th>housing</th>\n",
       "      <th>loan</th>\n",
       "      <th>contact</th>\n",
       "      <th>day</th>\n",
       "      <th>month</th>\n",
       "      <th>duration</th>\n",
       "      <th>campaign</th>\n",
       "      <th>pdays</th>\n",
       "      <th>previous</th>\n",
       "      <th>poutcome</th>\n",
       "      <th>y</th>\n",
       "      <th>cluster_number</th>\n",
       "    </tr>\n",
       "  </thead>\n",
       "  <tbody>\n",
       "    <tr>\n",
       "      <th>0</th>\n",
       "      <td>58</td>\n",
       "      <td>management</td>\n",
       "      <td>married</td>\n",
       "      <td>tertiary</td>\n",
       "      <td>no</td>\n",
       "      <td>2143</td>\n",
       "      <td>yes</td>\n",
       "      <td>no</td>\n",
       "      <td>unknown</td>\n",
       "      <td>5</td>\n",
       "      <td>may</td>\n",
       "      <td>261</td>\n",
       "      <td>1</td>\n",
       "      <td>-1</td>\n",
       "      <td>0</td>\n",
       "      <td>unknown</td>\n",
       "      <td>no</td>\n",
       "      <td>4</td>\n",
       "    </tr>\n",
       "    <tr>\n",
       "      <th>1</th>\n",
       "      <td>44</td>\n",
       "      <td>technician</td>\n",
       "      <td>single</td>\n",
       "      <td>secondary</td>\n",
       "      <td>no</td>\n",
       "      <td>29</td>\n",
       "      <td>yes</td>\n",
       "      <td>no</td>\n",
       "      <td>unknown</td>\n",
       "      <td>5</td>\n",
       "      <td>may</td>\n",
       "      <td>151</td>\n",
       "      <td>1</td>\n",
       "      <td>-1</td>\n",
       "      <td>0</td>\n",
       "      <td>unknown</td>\n",
       "      <td>no</td>\n",
       "      <td>4</td>\n",
       "    </tr>\n",
       "    <tr>\n",
       "      <th>2</th>\n",
       "      <td>33</td>\n",
       "      <td>entrepreneur</td>\n",
       "      <td>married</td>\n",
       "      <td>secondary</td>\n",
       "      <td>no</td>\n",
       "      <td>2</td>\n",
       "      <td>yes</td>\n",
       "      <td>yes</td>\n",
       "      <td>unknown</td>\n",
       "      <td>5</td>\n",
       "      <td>may</td>\n",
       "      <td>76</td>\n",
       "      <td>1</td>\n",
       "      <td>-1</td>\n",
       "      <td>0</td>\n",
       "      <td>unknown</td>\n",
       "      <td>no</td>\n",
       "      <td>0</td>\n",
       "    </tr>\n",
       "    <tr>\n",
       "      <th>3</th>\n",
       "      <td>47</td>\n",
       "      <td>blue-collar</td>\n",
       "      <td>married</td>\n",
       "      <td>unknown</td>\n",
       "      <td>no</td>\n",
       "      <td>1506</td>\n",
       "      <td>yes</td>\n",
       "      <td>no</td>\n",
       "      <td>unknown</td>\n",
       "      <td>5</td>\n",
       "      <td>may</td>\n",
       "      <td>92</td>\n",
       "      <td>1</td>\n",
       "      <td>-1</td>\n",
       "      <td>0</td>\n",
       "      <td>unknown</td>\n",
       "      <td>no</td>\n",
       "      <td>4</td>\n",
       "    </tr>\n",
       "    <tr>\n",
       "      <th>4</th>\n",
       "      <td>33</td>\n",
       "      <td>unknown</td>\n",
       "      <td>single</td>\n",
       "      <td>unknown</td>\n",
       "      <td>no</td>\n",
       "      <td>1</td>\n",
       "      <td>no</td>\n",
       "      <td>no</td>\n",
       "      <td>unknown</td>\n",
       "      <td>5</td>\n",
       "      <td>may</td>\n",
       "      <td>198</td>\n",
       "      <td>1</td>\n",
       "      <td>-1</td>\n",
       "      <td>0</td>\n",
       "      <td>unknown</td>\n",
       "      <td>no</td>\n",
       "      <td>0</td>\n",
       "    </tr>\n",
       "  </tbody>\n",
       "</table>\n",
       "</div>"
      ],
      "text/plain": [
       "   age           job  marital  education default  balance housing loan  \\\n",
       "0   58    management  married   tertiary      no     2143     yes   no   \n",
       "1   44    technician   single  secondary      no       29     yes   no   \n",
       "2   33  entrepreneur  married  secondary      no        2     yes  yes   \n",
       "3   47   blue-collar  married    unknown      no     1506     yes   no   \n",
       "4   33       unknown   single    unknown      no        1      no   no   \n",
       "\n",
       "   contact  day month  duration  campaign  pdays  previous poutcome   y  \\\n",
       "0  unknown    5   may       261         1     -1         0  unknown  no   \n",
       "1  unknown    5   may       151         1     -1         0  unknown  no   \n",
       "2  unknown    5   may        76         1     -1         0  unknown  no   \n",
       "3  unknown    5   may        92         1     -1         0  unknown  no   \n",
       "4  unknown    5   may       198         1     -1         0  unknown  no   \n",
       "\n",
       "   cluster_number  \n",
       "0               4  \n",
       "1               4  \n",
       "2               0  \n",
       "3               4  \n",
       "4               0  "
      ]
     },
     "execution_count": 12,
     "metadata": {},
     "output_type": "execute_result"
    }
   ],
   "source": [
    "bank_with_cluster = pd.concat([bank, labels], axis=1)\n",
    "bank_with_cluster.head()"
   ]
  },
  {
   "cell_type": "code",
   "execution_count": 13,
   "id": "63495c74",
   "metadata": {},
   "outputs": [
    {
     "data": {
      "text/plain": [
       "0        4\n",
       "1        4\n",
       "2        0\n",
       "3        4\n",
       "4        0\n",
       "        ..\n",
       "45206    4\n",
       "45207    4\n",
       "45208    4\n",
       "45209    4\n",
       "45210    3\n",
       "Name: cluster_number, Length: 45211, dtype: int32"
      ]
     },
     "execution_count": 13,
     "metadata": {},
     "output_type": "execute_result"
    }
   ],
   "source": [
    "labels"
   ]
  },
  {
   "cell_type": "code",
   "execution_count": 14,
   "id": "9707b8b0",
   "metadata": {},
   "outputs": [
    {
     "data": {
      "text/html": [
       "<div>\n",
       "<style scoped>\n",
       "    .dataframe tbody tr th:only-of-type {\n",
       "        vertical-align: middle;\n",
       "    }\n",
       "\n",
       "    .dataframe tbody tr th {\n",
       "        vertical-align: top;\n",
       "    }\n",
       "\n",
       "    .dataframe thead th {\n",
       "        text-align: right;\n",
       "    }\n",
       "</style>\n",
       "<table border=\"1\" class=\"dataframe\">\n",
       "  <thead>\n",
       "    <tr style=\"text-align: right;\">\n",
       "      <th>age</th>\n",
       "      <th>[15, 20)</th>\n",
       "      <th>[20, 25)</th>\n",
       "      <th>[25, 30)</th>\n",
       "      <th>[30, 35)</th>\n",
       "      <th>[35, 40)</th>\n",
       "      <th>[40, 45)</th>\n",
       "      <th>[45, 50)</th>\n",
       "      <th>[50, 55)</th>\n",
       "      <th>[55, 60)</th>\n",
       "      <th>[60, 65)</th>\n",
       "      <th>[65, 100)</th>\n",
       "    </tr>\n",
       "    <tr>\n",
       "      <th>cluster_number</th>\n",
       "      <th></th>\n",
       "      <th></th>\n",
       "      <th></th>\n",
       "      <th></th>\n",
       "      <th></th>\n",
       "      <th></th>\n",
       "      <th></th>\n",
       "      <th></th>\n",
       "      <th></th>\n",
       "      <th></th>\n",
       "      <th></th>\n",
       "    </tr>\n",
       "  </thead>\n",
       "  <tbody>\n",
       "    <tr>\n",
       "      <th>0</th>\n",
       "      <td>45</td>\n",
       "      <td>711</td>\n",
       "      <td>4024</td>\n",
       "      <td>8492</td>\n",
       "      <td>7146</td>\n",
       "      <td>4091</td>\n",
       "      <td>0</td>\n",
       "      <td>0</td>\n",
       "      <td>0</td>\n",
       "      <td>0</td>\n",
       "      <td>0</td>\n",
       "    </tr>\n",
       "    <tr>\n",
       "      <th>1</th>\n",
       "      <td>0</td>\n",
       "      <td>3</td>\n",
       "      <td>10</td>\n",
       "      <td>37</td>\n",
       "      <td>25</td>\n",
       "      <td>26</td>\n",
       "      <td>27</td>\n",
       "      <td>30</td>\n",
       "      <td>38</td>\n",
       "      <td>11</td>\n",
       "      <td>14</td>\n",
       "    </tr>\n",
       "    <tr>\n",
       "      <th>2</th>\n",
       "      <td>0</td>\n",
       "      <td>14</td>\n",
       "      <td>152</td>\n",
       "      <td>497</td>\n",
       "      <td>517</td>\n",
       "      <td>460</td>\n",
       "      <td>375</td>\n",
       "      <td>306</td>\n",
       "      <td>263</td>\n",
       "      <td>63</td>\n",
       "      <td>37</td>\n",
       "    </tr>\n",
       "    <tr>\n",
       "      <th>3</th>\n",
       "      <td>0</td>\n",
       "      <td>20</td>\n",
       "      <td>132</td>\n",
       "      <td>327</td>\n",
       "      <td>308</td>\n",
       "      <td>187</td>\n",
       "      <td>146</td>\n",
       "      <td>117</td>\n",
       "      <td>71</td>\n",
       "      <td>38</td>\n",
       "      <td>34</td>\n",
       "    </tr>\n",
       "    <tr>\n",
       "      <th>4</th>\n",
       "      <td>0</td>\n",
       "      <td>0</td>\n",
       "      <td>0</td>\n",
       "      <td>0</td>\n",
       "      <td>0</td>\n",
       "      <td>1155</td>\n",
       "      <td>4701</td>\n",
       "      <td>3885</td>\n",
       "      <td>3436</td>\n",
       "      <td>838</td>\n",
       "      <td>719</td>\n",
       "    </tr>\n",
       "    <tr>\n",
       "      <th>5</th>\n",
       "      <td>2</td>\n",
       "      <td>14</td>\n",
       "      <td>146</td>\n",
       "      <td>387</td>\n",
       "      <td>353</td>\n",
       "      <td>266</td>\n",
       "      <td>221</td>\n",
       "      <td>150</td>\n",
       "      <td>114</td>\n",
       "      <td>24</td>\n",
       "      <td>6</td>\n",
       "    </tr>\n",
       "  </tbody>\n",
       "</table>\n",
       "</div>"
      ],
      "text/plain": [
       "age             [15, 20)  [20, 25)  [25, 30)  [30, 35)  [35, 40)  [40, 45)  \\\n",
       "cluster_number                                                               \n",
       "0                     45       711      4024      8492      7146      4091   \n",
       "1                      0         3        10        37        25        26   \n",
       "2                      0        14       152       497       517       460   \n",
       "3                      0        20       132       327       308       187   \n",
       "4                      0         0         0         0         0      1155   \n",
       "5                      2        14       146       387       353       266   \n",
       "\n",
       "age             [45, 50)  [50, 55)  [55, 60)  [60, 65)  [65, 100)  \n",
       "cluster_number                                                     \n",
       "0                      0         0         0         0          0  \n",
       "1                     27        30        38        11         14  \n",
       "2                    375       306       263        63         37  \n",
       "3                    146       117        71        38         34  \n",
       "4                   4701      3885      3436       838        719  \n",
       "5                    221       150       114        24          6  "
      ]
     },
     "execution_count": 14,
     "metadata": {},
     "output_type": "execute_result"
    }
   ],
   "source": [
    "bins = [15,20,25,30,35,40,45,50,55,60,65,100]\n",
    "qcut_age = pd.cut(bank_with_cluster.age, bins, right=False)\n",
    "df = pd.concat([bank_with_cluster.cluster_number, qcut_age], axis=1)\n",
    "\n",
    "cross_cluster_age = df.groupby(['cluster_number', 'age']).size().unstack().fillna(0)\n",
    "cross_cluster_age"
   ]
  },
  {
   "cell_type": "code",
   "execution_count": 15,
   "id": "17371610",
   "metadata": {},
   "outputs": [
    {
     "data": {
      "text/plain": [
       "[30, 35)     9740\n",
       "[35, 40)     8349\n",
       "[40, 45)     6185\n",
       "[45, 50)     5470\n",
       "[50, 55)     4488\n",
       "[25, 30)     4464\n",
       "[55, 60)     3922\n",
       "[60, 65)      974\n",
       "[65, 100)     810\n",
       "[20, 25)      762\n",
       "[15, 20)       47\n",
       "Name: age, dtype: int64"
      ]
     },
     "execution_count": 15,
     "metadata": {},
     "output_type": "execute_result"
    }
   ],
   "source": [
    "hist_age = pd.value_counts(qcut_age)\n",
    "hist_age"
   ]
  },
  {
   "cell_type": "code",
   "execution_count": 16,
   "id": "6fbae79f",
   "metadata": {},
   "outputs": [
    {
     "data": {
      "text/plain": [
       "<AxesSubplot:xlabel='age', ylabel='cluster_number'>"
      ]
     },
     "execution_count": 16,
     "metadata": {},
     "output_type": "execute_result"
    },
    {
     "data": {
      "image/png": "[encoded data removed]",
      "text/plain": [
       "<Figure size 432x288 with 2 Axes>"
      ]
     },
     "metadata": {
      "needs_background": "light"
     },
     "output_type": "display_data"
    }
   ],
   "source": [
    "sns.heatmap(cross_cluster_age.apply(lambda x: x/x.sum(), axis=1), cmap='Blues')"
   ]
  },
  {
   "cell_type": "code",
   "execution_count": 17,
   "id": "73224060",
   "metadata": {},
   "outputs": [
    {
     "data": {
      "text/html": [
       "<div>\n",
       "<style scoped>\n",
       "    .dataframe tbody tr th:only-of-type {\n",
       "        vertical-align: middle;\n",
       "    }\n",
       "\n",
       "    .dataframe tbody tr th {\n",
       "        vertical-align: top;\n",
       "    }\n",
       "\n",
       "    .dataframe thead th {\n",
       "        text-align: right;\n",
       "    }\n",
       "</style>\n",
       "<table border=\"1\" class=\"dataframe\">\n",
       "  <thead>\n",
       "    <tr style=\"text-align: right;\">\n",
       "      <th>job</th>\n",
       "      <th>admin.</th>\n",
       "      <th>blue-collar</th>\n",
       "      <th>entrepreneur</th>\n",
       "      <th>housemaid</th>\n",
       "      <th>management</th>\n",
       "      <th>retired</th>\n",
       "      <th>self-employed</th>\n",
       "      <th>services</th>\n",
       "      <th>student</th>\n",
       "      <th>technician</th>\n",
       "      <th>unemployed</th>\n",
       "      <th>unknown</th>\n",
       "    </tr>\n",
       "    <tr>\n",
       "      <th>cluster_number</th>\n",
       "      <th></th>\n",
       "      <th></th>\n",
       "      <th></th>\n",
       "      <th></th>\n",
       "      <th></th>\n",
       "      <th></th>\n",
       "      <th></th>\n",
       "      <th></th>\n",
       "      <th></th>\n",
       "      <th></th>\n",
       "      <th></th>\n",
       "      <th></th>\n",
       "    </tr>\n",
       "  </thead>\n",
       "  <tbody>\n",
       "    <tr>\n",
       "      <th>0</th>\n",
       "      <td>3097</td>\n",
       "      <td>5610</td>\n",
       "      <td>728</td>\n",
       "      <td>426</td>\n",
       "      <td>5130</td>\n",
       "      <td>57</td>\n",
       "      <td>852</td>\n",
       "      <td>2564</td>\n",
       "      <td>813</td>\n",
       "      <td>4459</td>\n",
       "      <td>698</td>\n",
       "      <td>75</td>\n",
       "    </tr>\n",
       "    <tr>\n",
       "      <th>1</th>\n",
       "      <td>15</td>\n",
       "      <td>12</td>\n",
       "      <td>19</td>\n",
       "      <td>7</td>\n",
       "      <td>91</td>\n",
       "      <td>24</td>\n",
       "      <td>11</td>\n",
       "      <td>9</td>\n",
       "      <td>3</td>\n",
       "      <td>21</td>\n",
       "      <td>6</td>\n",
       "      <td>3</td>\n",
       "    </tr>\n",
       "    <tr>\n",
       "      <th>2</th>\n",
       "      <td>219</td>\n",
       "      <td>459</td>\n",
       "      <td>91</td>\n",
       "      <td>70</td>\n",
       "      <td>788</td>\n",
       "      <td>111</td>\n",
       "      <td>130</td>\n",
       "      <td>189</td>\n",
       "      <td>48</td>\n",
       "      <td>460</td>\n",
       "      <td>99</td>\n",
       "      <td>20</td>\n",
       "    </tr>\n",
       "    <tr>\n",
       "      <th>3</th>\n",
       "      <td>196</td>\n",
       "      <td>244</td>\n",
       "      <td>42</td>\n",
       "      <td>22</td>\n",
       "      <td>332</td>\n",
       "      <td>53</td>\n",
       "      <td>41</td>\n",
       "      <td>112</td>\n",
       "      <td>52</td>\n",
       "      <td>250</td>\n",
       "      <td>31</td>\n",
       "      <td>5</td>\n",
       "    </tr>\n",
       "    <tr>\n",
       "      <th>4</th>\n",
       "      <td>1467</td>\n",
       "      <td>3040</td>\n",
       "      <td>543</td>\n",
       "      <td>675</td>\n",
       "      <td>2732</td>\n",
       "      <td>1984</td>\n",
       "      <td>479</td>\n",
       "      <td>1124</td>\n",
       "      <td>4</td>\n",
       "      <td>2084</td>\n",
       "      <td>439</td>\n",
       "      <td>163</td>\n",
       "    </tr>\n",
       "    <tr>\n",
       "      <th>5</th>\n",
       "      <td>177</td>\n",
       "      <td>367</td>\n",
       "      <td>64</td>\n",
       "      <td>40</td>\n",
       "      <td>385</td>\n",
       "      <td>35</td>\n",
       "      <td>66</td>\n",
       "      <td>156</td>\n",
       "      <td>18</td>\n",
       "      <td>323</td>\n",
       "      <td>30</td>\n",
       "      <td>22</td>\n",
       "    </tr>\n",
       "  </tbody>\n",
       "</table>\n",
       "</div>"
      ],
      "text/plain": [
       "job             admin.  blue-collar  entrepreneur  housemaid  management  \\\n",
       "cluster_number                                                             \n",
       "0                 3097         5610           728        426        5130   \n",
       "1                   15           12            19          7          91   \n",
       "2                  219          459            91         70         788   \n",
       "3                  196          244            42         22         332   \n",
       "4                 1467         3040           543        675        2732   \n",
       "5                  177          367            64         40         385   \n",
       "\n",
       "job             retired  self-employed  services  student  technician  \\\n",
       "cluster_number                                                          \n",
       "0                    57            852      2564      813        4459   \n",
       "1                    24             11         9        3          21   \n",
       "2                   111            130       189       48         460   \n",
       "3                    53             41       112       52         250   \n",
       "4                  1984            479      1124        4        2084   \n",
       "5                    35             66       156       18         323   \n",
       "\n",
       "job             unemployed  unknown  \n",
       "cluster_number                       \n",
       "0                      698       75  \n",
       "1                        6        3  \n",
       "2                       99       20  \n",
       "3                       31        5  \n",
       "4                      439      163  \n",
       "5                       30       22  "
      ]
     },
     "execution_count": 17,
     "metadata": {},
     "output_type": "execute_result"
    }
   ],
   "source": [
    "cross_cluster_job = bank_with_cluster.groupby(['cluster_number', 'job']).size().unstack().fillna(0)\n",
    "cross_cluster_job"
   ]
  },
  {
   "cell_type": "code",
   "execution_count": 18,
   "id": "65014d2b",
   "metadata": {},
   "outputs": [
    {
     "data": {
      "text/plain": [
       "<AxesSubplot:xlabel='job', ylabel='cluster_number'>"
      ]
     },
     "execution_count": 18,
     "metadata": {},
     "output_type": "execute_result"
    },
    {
     "data": {
      "image/png": "[encoded data removed]",
      "text/plain": [
       "<Figure size 432x288 with 2 Axes>"
      ]
     },
     "metadata": {
      "needs_background": "light"
     },
     "output_type": "display_data"
    }
   ],
   "source": [
    "sns.heatmap(cross_cluster_job.apply(lambda x: x/x.sum(), axis=1), cmap='Reds')"
   ]
  },
  {
   "cell_type": "code",
   "execution_count": 19,
   "id": "b7e11a88",
   "metadata": {
    "scrolled": false
   },
   "outputs": [
    {
     "name": "stdout",
     "output_type": "stream",
     "text": [
      "[[-6.253e-01 -1.701e-01]\n",
      " [ 9.607e-01  5.909e-01]\n",
      " [-5.985e-01 -4.026e-01]\n",
      " [-2.228e+00 -5.326e-01]\n",
      " [-4.614e-01 -4.989e-01]\n",
      " [-9.589e-01 -2.693e-01]\n",
      " [-6.731e-01 -3.383e-01]\n",
      " [ 1.305e+00  5.914e-01]\n",
      " [ 3.745e-01 -9.854e-02]\n",
      " [-1.826e+00 -4.062e-01]\n",
      " [ 6.683e-01  3.369e-01]\n",
      " [-5.826e-01 -1.774e-01]\n",
      " [-4.181e-01 -3.738e-01]\n",
      " [ 1.722e-01  2.647e-01]\n",
      " [ 3.771e-01  1.884e-01]\n",
      " [-6.794e-01 -1.316e-01]\n",
      " [ 1.031e+00  4.256e-01]\n",
      " [ 3.360e-01  3.910e-02]\n",
      " [ 7.057e-01  4.887e-01]\n",
      " [ 8.395e-01  1.521e-01]\n",
      " [ 1.499e+00  4.714e-01]\n",
      " [ 2.884e-01  3.313e-02]\n",
      " [-5.029e-01 -3.687e-01]\n",
      " [ 1.479e+00  7.404e-01]\n",
      " [-4.444e-01 -1.650e-01]\n",
      " [-5.335e-01 -6.022e-02]\n",
      " [-6.162e-01 -2.118e-01]\n",
      " [ 7.466e-02 -6.143e-02]\n",
      " [-1.136e-01  7.329e-02]\n",
      " [-2.007e-02  6.097e-02]\n",
      " [ 1.896e-01  1.998e-01]\n",
      " [ 9.385e-01  5.417e-01]\n",
      " [-3.667e-01 -3.650e-02]\n",
      " [-8.935e-01 -3.728e-01]\n",
      " [-1.318e+00 -3.576e-01]\n",
      " [-3.818e-01 -2.013e-01]\n",
      " [-5.138e-01 -5.060e-01]\n",
      " [ 9.037e-01  2.495e-01]\n",
      " [-4.389e-01 -1.506e-01]\n",
      " [-5.942e-01 -9.412e-02]\n",
      " [-3.129e-01 -6.573e-04]\n",
      " [-3.002e-01 -4.221e-01]\n",
      " [-5.992e-01 -2.604e-01]\n",
      " [ 2.204e-01  2.039e-01]\n",
      " [ 5.252e-01  1.870e-01]\n",
      " [ 5.566e-01 -1.337e-01]\n",
      " [ 1.354e+00  5.474e-01]\n",
      " [-6.832e-01 -3.947e-01]\n",
      " [-1.233e-01 -1.043e-01]\n",
      " [-3.132e-01 -6.983e-02]\n",
      " [-2.488e+00 -8.446e-01]\n",
      " [ 1.250e+00  5.857e-01]\n",
      " [ 1.768e-01  1.107e-01]\n",
      " [-5.078e-01 -3.157e-01]\n",
      " [ 1.827e+00  6.202e-01]\n",
      " [ 8.102e-01  1.772e-01]\n",
      " [ 4.285e-01  1.299e-01]\n",
      " [-6.811e-02 -1.834e-01]\n",
      " [-2.381e-01  3.203e-02]\n",
      " [-5.765e-01 -4.611e-01]\n",
      " [ 7.866e-01  2.404e-01]\n",
      " [-3.940e-01 -1.132e-01]\n",
      " [ 3.003e-01  4.058e-02]\n",
      " [ 8.344e-01  3.634e-01]\n",
      " [ 6.770e-01  8.622e-02]\n",
      " [ 8.229e-01  7.953e-02]\n",
      " [ 1.111e+00  8.384e-02]\n",
      " [-1.111e+00 -2.219e-01]\n",
      " [-3.256e-05  2.526e-01]\n",
      " [ 9.013e-01  4.666e-01]\n",
      " [ 6.133e-01  2.294e-01]\n",
      " [ 1.003e+00  2.676e-01]\n",
      " [-5.003e-01 -2.652e-01]\n",
      " [-1.468e+00 -2.626e-01]\n",
      " [-1.166e+00 -4.357e-01]\n",
      " [ 1.233e+00  3.726e-01]\n",
      " [-8.714e-02 -7.682e-02]\n",
      " [ 1.326e+00  4.233e-01]\n",
      " [-6.559e-01 -2.364e-01]\n",
      " [-3.989e-01 -1.323e-01]\n",
      " [ 1.465e-01  2.887e-02]\n",
      " [ 8.347e-01  2.786e-01]\n",
      " [ 1.265e-01  1.839e-02]\n",
      " [ 2.017e-01  6.384e-02]\n",
      " [-2.678e-01  4.920e-03]\n",
      " [ 2.851e-01  5.361e-02]\n",
      " [-7.534e-01 -3.375e-01]\n",
      " [ 5.293e-01  2.460e-02]\n",
      " [ 3.656e-01 -5.627e-02]\n",
      " [ 3.628e-02 -1.716e-02]\n",
      " [ 1.981e-01  1.488e-01]\n",
      " [-7.567e-01 -2.059e-01]\n",
      " [ 1.157e-01 -2.550e-02]\n",
      " [-1.819e-01 -8.989e-02]\n",
      " [ 1.572e-01  1.261e-01]\n",
      " [ 5.835e-01  2.373e-01]\n",
      " [-9.468e-01 -2.889e-01]\n",
      " [ 7.131e-01  1.772e-01]\n",
      " [ 1.302e+00  6.245e-01]\n",
      " [-5.491e-01 -4.446e-01]\n",
      " [-4.297e-01 -2.509e-01]\n",
      " [-3.868e-01 -2.662e-01]\n",
      " [-6.576e-01 -8.451e-02]\n",
      " [ 1.240e+00  4.907e-01]\n",
      " [ 3.184e-01  4.122e-03]\n",
      " [-8.981e-01 -2.101e-01]\n",
      " [ 3.369e-01  1.880e-01]\n",
      " [-4.185e-01 -1.813e-01]\n",
      " [ 2.366e-01  3.395e-01]\n",
      " [ 3.513e-01  9.233e-02]\n",
      " [ 1.353e+00  4.200e-01]\n",
      " [-8.348e-01 -2.000e-01]\n",
      " [ 2.329e+00  9.164e-01]\n",
      " [ 4.672e-02  2.491e-01]\n",
      " [ 4.554e-01  1.979e-01]\n",
      " [-7.107e-01 -1.566e-02]\n",
      " [-5.501e-02 -2.192e-01]\n",
      " [-4.546e-01 -2.623e-01]\n",
      " [-1.082e-01 -4.111e-02]\n",
      " [-8.976e-01 -2.411e-01]\n",
      " [ 7.348e-01  8.561e-02]\n",
      " [ 2.253e-01 -2.495e-01]\n",
      " [-3.274e-01  1.876e-01]\n",
      " [ 1.204e+00  2.892e-01]\n",
      " [ 1.703e-01 -2.132e-01]\n",
      " [ 1.000e+00  3.606e-01]\n",
      " [-6.715e-01 -7.207e-02]\n",
      " [ 1.192e+00  3.494e-01]\n",
      " [ 2.402e-01  1.325e-01]\n",
      " [ 5.566e-01  3.392e-01]\n",
      " [-1.231e+00 -3.016e-01]\n",
      " [ 1.527e-01 -3.222e-02]\n",
      " [ 1.376e+00  4.389e-01]\n",
      " [-7.052e-01 -1.869e-01]\n",
      " [-1.250e+00 -6.159e-01]\n",
      " [-1.877e+00 -5.874e-01]\n",
      " [-1.471e+00 -7.577e-01]\n",
      " [-1.503e+00 -6.392e-01]\n",
      " [-3.743e-01 -1.245e-01]\n",
      " [ 8.785e-01  3.865e-01]\n",
      " [ 4.380e-02 -1.336e-01]\n",
      " [ 5.460e-01  9.790e-02]\n",
      " [ 1.416e-01 -3.319e-02]\n",
      " [ 6.358e-02  2.600e-03]\n",
      " [-8.870e-02 -5.084e-02]\n",
      " [ 1.324e-01 -5.259e-02]\n",
      " [ 4.291e-01  1.395e-01]\n",
      " [-5.625e-01 -3.555e-01]\n",
      " [ 5.983e-01  3.054e-01]\n",
      " [-3.527e-01  2.779e-01]\n",
      " [ 2.927e-01 -5.885e-02]\n",
      " [ 1.492e+00  2.437e-01]\n",
      " [-3.211e-01 -2.120e-01]\n",
      " [-4.287e-01 -1.624e-01]\n",
      " [ 5.566e-02  4.723e-02]\n",
      " [-1.867e-01 -5.752e-02]\n",
      " [-3.160e-01 -1.357e-01]\n",
      " [-9.523e-01 -2.034e-01]\n",
      " [-6.172e-01 -1.686e-01]\n",
      " [ 2.607e-01  2.838e-01]\n",
      " [-1.296e+00 -5.875e-01]\n",
      " [ 1.302e-01  1.065e-01]\n",
      " [ 3.620e-02 -7.143e-02]\n",
      " [ 4.514e-01  2.200e-01]\n",
      " [ 7.823e-01  1.558e-01]\n",
      " [-1.915e+00 -8.412e-01]\n",
      " [ 1.335e+00  1.770e-01]\n",
      " [-5.572e-01  9.782e-02]\n",
      " [-2.540e-01  6.536e-03]\n",
      " [ 3.834e-02 -1.416e-01]\n",
      " [ 1.669e+00  2.583e-01]\n",
      " [-4.012e-01 -1.249e-01]\n",
      " [ 1.340e+00  5.547e-01]\n",
      " [ 3.122e-01  1.706e-01]\n",
      " [ 2.095e+00  6.465e-01]\n",
      " [-6.857e-01 -2.375e-01]\n",
      " [-9.812e-01 -5.308e-01]\n",
      " [ 3.815e-01  2.161e-01]\n",
      " [ 8.354e-02  2.577e-01]\n",
      " [ 1.562e-01  1.073e-02]\n",
      " [-8.986e-01 -4.652e-01]\n",
      " [ 2.167e-01 -1.353e-01]\n",
      " [ 3.991e-01  1.868e-01]\n",
      " [-3.901e-01 -5.575e-02]\n",
      " [ 1.511e-01 -3.500e-02]\n",
      " [-2.599e-02 -5.302e-02]\n",
      " [-5.557e-01 -2.823e-01]\n",
      " [-4.144e-01 -1.612e-01]\n",
      " [-5.437e-01 -4.312e-01]\n",
      " [ 1.428e+00  5.346e-01]\n",
      " [ 4.519e-01 -1.435e-01]\n",
      " [ 8.074e-01  1.445e-01]\n",
      " [-4.613e-01 -3.089e-01]\n",
      " [-1.064e-01  2.400e-01]\n",
      " [-1.098e+00 -5.662e-01]\n",
      " [ 8.384e-01  2.784e-01]\n",
      " [ 3.127e-01 -1.060e-02]\n",
      " [ 1.956e+00  6.382e-01]\n",
      " [-1.108e+00 -3.951e-01]\n",
      " [ 3.986e-01  2.319e-02]]\n",
      "[[-0.8   -0.529]\n",
      " [ 1.125  1.897]\n",
      " [-0.767 -1.271]\n",
      " [-2.745 -1.685]\n",
      " [-0.601 -1.578]\n",
      " [-1.205 -0.846]\n",
      " [-0.858 -1.066]\n",
      " [ 1.543  1.899]\n",
      " [ 0.414 -0.301]\n",
      " [-2.257 -1.282]\n",
      " [ 0.77   1.087]\n",
      " [-0.748 -0.553]\n",
      " [-0.548 -1.179]\n",
      " [ 0.168  0.857]\n",
      " [ 0.417  0.614]\n",
      " [-0.865 -0.407]\n",
      " [ 1.211  1.37 ]\n",
      " [ 0.367  0.138]\n",
      " [ 0.816  1.572]\n",
      " [ 0.978  0.498]\n",
      " [ 1.779  1.516]\n",
      " [ 0.309  0.119]\n",
      " [-0.651 -1.163]\n",
      " [ 1.755  2.374]\n",
      " [-0.58  -0.513]\n",
      " [-0.688 -0.179]\n",
      " [-0.789 -0.662]\n",
      " [ 0.05  -0.183]\n",
      " [-0.179  0.247]\n",
      " [-0.065  0.207]\n",
      " [ 0.189  0.65 ]\n",
      " [ 1.098  1.741]\n",
      " [-0.486 -0.103]\n",
      " [-1.125 -1.176]\n",
      " [-1.64  -1.127]\n",
      " [-0.504 -0.629]\n",
      " [-0.664 -1.6  ]\n",
      " [ 1.056  0.809]\n",
      " [-0.573 -0.467]\n",
      " [-0.762 -0.287]\n",
      " [-0.421  0.011]\n",
      " [-0.405 -1.333]\n",
      " [-0.768 -0.817]\n",
      " [ 0.227  0.663]\n",
      " [ 0.597  0.609]\n",
      " [ 0.635 -0.413]\n",
      " [ 1.603  1.759]\n",
      " [-0.87  -1.246]\n",
      " [-0.19  -0.319]\n",
      " [-0.421 -0.21 ]\n",
      " [-3.061 -2.68 ]\n",
      " [ 1.477  1.881]\n",
      " [ 0.174  0.366]\n",
      " [-0.657 -0.994]\n",
      " [ 2.177  1.991]\n",
      " [ 0.943  0.578]\n",
      " [ 0.479  0.427]\n",
      " [-0.123 -0.572]\n",
      " [-0.33   0.115]\n",
      " [-0.74  -1.457]\n",
      " [ 0.914  0.78 ]\n",
      " [-0.519 -0.348]\n",
      " [ 0.324  0.142]\n",
      " [ 0.972  1.172]\n",
      " [ 0.781  0.288]\n",
      " [ 0.958  0.267]\n",
      " [ 1.307  0.28 ]\n",
      " [-1.389 -0.694]\n",
      " [-0.041  0.818]\n",
      " [ 1.053  1.501]\n",
      " [ 0.704  0.745]\n",
      " [ 1.177  0.866]\n",
      " [-0.648 -0.833]\n",
      " [-1.823 -0.824]\n",
      " [-1.455 -1.376]\n",
      " [ 1.456  1.201]\n",
      " [-0.146 -0.232]\n",
      " [ 1.569  1.363]\n",
      " [-0.837 -0.741]\n",
      " [-0.525 -0.409]\n",
      " [ 0.137  0.105]\n",
      " [ 0.973  0.902]\n",
      " [ 0.113  0.072]\n",
      " [ 0.204  0.217]\n",
      " [-0.366  0.029]\n",
      " [ 0.305  0.184]\n",
      " [-0.955 -1.063]\n",
      " [ 0.602  0.091]\n",
      " [ 0.403 -0.166]\n",
      " [ 0.003 -0.042]\n",
      " [ 0.2    0.488]\n",
      " [-0.959 -0.643]\n",
      " [ 0.1   -0.068]\n",
      " [-0.262 -0.274]\n",
      " [ 0.15   0.415]\n",
      " [ 0.668  0.77 ]\n",
      " [-1.19  -0.908]\n",
      " [ 0.825  0.578]\n",
      " [ 1.539  2.004]\n",
      " [-0.707 -1.405]\n",
      " [-0.562 -0.787]\n",
      " [-0.51  -0.836]\n",
      " [-0.839 -0.256]\n",
      " [ 1.464  1.578]\n",
      " [ 0.346  0.026]\n",
      " [-1.131 -0.657]\n",
      " [ 0.368  0.612]\n",
      " [-0.549 -0.565]\n",
      " [ 0.247  1.096]\n",
      " [ 0.386  0.307]\n",
      " [ 1.602  1.352]\n",
      " [-1.054 -0.625]\n",
      " [ 2.787  2.935]\n",
      " [ 0.016  0.808]\n",
      " [ 0.512  0.644]\n",
      " [-0.903 -0.037]\n",
      " [-0.107 -0.686]\n",
      " [-0.592 -0.823]\n",
      " [-0.172 -0.118]\n",
      " [-1.13  -0.756]\n",
      " [ 0.851  0.286]\n",
      " [ 0.233 -0.783]\n",
      " [-0.438  0.611]\n",
      " [ 1.421  0.935]\n",
      " [ 0.166 -0.667]\n",
      " [ 1.173  1.163]\n",
      " [-0.856 -0.217]\n",
      " [ 1.406  1.127]\n",
      " [ 0.251  0.435]\n",
      " [ 0.635  1.095]\n",
      " [-1.535 -0.949]\n",
      " [ 0.145 -0.09 ]\n",
      " [ 1.63   1.413]\n",
      " [-0.897 -0.583]\n",
      " [-1.558 -1.951]\n",
      " [-2.318 -1.86 ]\n",
      " [-1.826 -2.403]\n",
      " [-1.866 -2.025]\n",
      " [-0.495 -0.384]\n",
      " [ 1.026  1.246]\n",
      " [ 0.012 -0.413]\n",
      " [ 0.622  0.325]\n",
      " [ 0.131 -0.093]\n",
      " [ 0.036  0.021]\n",
      " [-0.148 -0.149]\n",
      " [ 0.12  -0.155]\n",
      " [ 0.48   0.458]\n",
      " [-0.723 -1.121]\n",
      " [ 0.686  0.987]\n",
      " [-0.469  0.899]\n",
      " [ 0.315 -0.175]\n",
      " [ 1.77   0.79 ]\n",
      " [-0.43  -0.663]\n",
      " [-0.561 -0.505]\n",
      " [ 0.027  0.164]\n",
      " [-0.267 -0.17 ]\n",
      " [-0.424 -0.42 ]\n",
      " [-1.197 -0.636]\n",
      " [-0.79  -0.525]\n",
      " [ 0.276  0.918]\n",
      " [-1.614 -1.86 ]\n",
      " [ 0.117  0.353]\n",
      " [ 0.003 -0.215]\n",
      " [ 0.507  0.715]\n",
      " [ 0.909  0.51 ]\n",
      " [-2.365 -2.67 ]\n",
      " [ 1.579  0.577]\n",
      " [-0.717  0.325]\n",
      " [-0.349  0.034]\n",
      " [ 0.006 -0.439]\n",
      " [ 1.985  0.837]\n",
      " [-0.528 -0.385]\n",
      " [ 1.586  1.782]\n",
      " [ 0.338  0.557]\n",
      " [ 2.502  2.075]\n",
      " [-0.873 -0.744]\n",
      " [-1.232 -1.68 ]\n",
      " [ 0.422  0.702]\n",
      " [ 0.061  0.835]\n",
      " [ 0.149  0.047]\n",
      " [-1.131 -1.47 ]\n",
      " [ 0.222 -0.418]\n",
      " [ 0.444  0.609]\n",
      " [-0.514 -0.165]\n",
      " [ 0.143 -0.099]\n",
      " [-0.072 -0.156]\n",
      " [-0.715 -0.887]\n",
      " [-0.544 -0.501]\n",
      " [-0.701 -1.362]\n",
      " [ 1.692  1.718]\n",
      " [ 0.508 -0.445]\n",
      " [ 0.939  0.474]\n",
      " [-0.601 -0.972]\n",
      " [-0.17   0.778]\n",
      " [-1.374 -1.793]\n",
      " [ 0.977  0.901]\n",
      " [ 0.339 -0.021]\n",
      " [ 2.333  2.048]\n",
      " [-1.386 -1.247]\n",
      " [ 0.443  0.087]]\n",
      "相関係数: 0.889: \n"
     ]
    },
    {
     "data": {
      "text/plain": [
       "<matplotlib.collections.PathCollection at 0x13761a110>"
      ]
     },
     "execution_count": 19,
     "metadata": {},
     "output_type": "execute_result"
    },
    {
     "data": {
      "image/png": "[encoded data removed]",
      "text/plain": [
       "<Figure size 432x288 with 1 Axes>"
      ]
     },
     "metadata": {
      "needs_background": "light"
     },
     "output_type": "display_data"
    }
   ],
   "source": [
    "from sklearn.preprocessing import StandardScaler\n",
    "sample = np.random.RandomState(1)\n",
    "\n",
    "X = np.dot(sample.rand(2,2), sample.randn(2,200)).T\n",
    "print(X)\n",
    "\n",
    "sc = StandardScaler()\n",
    "X_std = sc.fit_transform(X)\n",
    "print(X_std)\n",
    "\n",
    "print('相関係数: {:.3f}: '.format(sp.stats.pearsonr(X_std[:,0], X_std[:, 1])[0]))\n",
    "plt.scatter(X_std[:,0], X_std[:,1])"
   ]
  },
  {
   "cell_type": "code",
   "execution_count": 20,
   "id": "8a9b1d68",
   "metadata": {},
   "outputs": [
    {
     "data": {
      "text/plain": [
       "PCA(n_components=2)"
      ]
     },
     "execution_count": 20,
     "metadata": {},
     "output_type": "execute_result"
    }
   ],
   "source": [
    "from sklearn.decomposition import PCA\n",
    "\n",
    "pca = PCA(n_components=2)\n",
    "pca.fit(X_std)"
   ]
  },
  {
   "cell_type": "code",
   "execution_count": 21,
   "id": "aef7a366",
   "metadata": {},
   "outputs": [
    {
     "name": "stdout",
     "output_type": "stream",
     "text": [
      "[[-0.707 -0.707]\n",
      " [-0.707  0.707]]\n"
     ]
    }
   ],
   "source": [
    "print(pca.components_)"
   ]
  },
  {
   "cell_type": "code",
   "execution_count": 22,
   "id": "56ff98a6",
   "metadata": {},
   "outputs": [
    {
     "name": "stdout",
     "output_type": "stream",
     "text": [
      "各主成分の分散:[1.899 0.111]\n"
     ]
    }
   ],
   "source": [
    "print('各主成分の分散:{}'.format(pca.explained_variance_))"
   ]
  },
  {
   "cell_type": "code",
   "execution_count": 23,
   "id": "656f2d12",
   "metadata": {},
   "outputs": [
    {
     "name": "stdout",
     "output_type": "stream",
     "text": [
      "各主成分の分散割合:[0.945 0.055]\n"
     ]
    }
   ],
   "source": [
    "print('各主成分の分散割合:{}'.format(pca.explained_variance_ratio_))"
   ]
  },
  {
   "cell_type": "code",
   "execution_count": 24,
   "id": "0ab11d5e",
   "metadata": {},
   "outputs": [
    {
     "data": {
      "text/plain": [
       "(-3.353, 3.079, -2.961, 3.216)"
      ]
     },
     "execution_count": 24,
     "metadata": {},
     "output_type": "execute_result"
    },
    {
     "data": {
      "image/png": "[encoded data removed]",
      "text/plain": [
       "<Figure size 432x288 with 1 Axes>"
      ]
     },
     "metadata": {
      "needs_background": "light"
     },
     "output_type": "display_data"
    }
   ],
   "source": [
    "arrowprops = dict(\n",
    "                arrowstyle='->',\n",
    "                 linewidth=2,\n",
    "                 shrinkA=0,\n",
    "                 shrinkB=0)\n",
    "\n",
    "def draw_vector(v0, v1):\n",
    "    plt.gca().annotate('', v1, v0, arrowprops=arrowprops)\n",
    "\n",
    "plt.scatter(X_std[:, 0], X_std[:,1], alpha=0.2)\n",
    "\n",
    "for length, vector in zip(pca.explained_variance_, pca.components_):\n",
    "    v = vector * 3 * np.sqrt(length)\n",
    "    draw_vector(pca.mean_, pca.mean_ + v)\n",
    "\n",
    "plt.axis('equal')"
   ]
  },
  {
   "cell_type": "code",
   "execution_count": 25,
   "id": "ab3d595a",
   "metadata": {},
   "outputs": [
    {
     "data": {
      "image/png": "[encoded data removed]",
      "text/plain": [
       "<Figure size 1440x1440 with 30 Axes>"
      ]
     },
     "metadata": {
      "needs_background": "light"
     },
     "output_type": "display_data"
    }
   ],
   "source": [
    "from sklearn.datasets import load_breast_cancer\n",
    "\n",
    "cancer = load_breast_cancer()\n",
    "malignant = cancer.data[cancer.target==0]\n",
    "benign = cancer.data[cancer.target==1]\n",
    "\n",
    "fig, axes = plt.subplots(6,5,figsize=(20,20))\n",
    "ax = axes.ravel()\n",
    "for i in range(30):\n",
    "    _, bins=np.histogram(cancer.data[:,i], bins=50)\n",
    "    ax[i].hist(malignant[:, i], bins, alpha=.5)\n",
    "    ax[i].hist(benign[:, i], bins, alpha=.5)\n",
    "    ax[i].set_title(cancer.feature_names[i])\n",
    "    ax[i].set_yticks(())\n",
    "    \n",
    "ax[0].set_ylabel('Count')\n",
    "ax[0].legend(['malignant', 'benign'], loc='best')\n",
    "fig.tight_layout()"
   ]
  },
  {
   "cell_type": "code",
   "execution_count": 26,
   "id": "d7a7b072",
   "metadata": {},
   "outputs": [
    {
     "name": "stdout",
     "output_type": "stream",
     "text": [
      "X_pca_shape:(569, 2)\n",
      "Explained variance ratio: [0.443 0.19 ]\n"
     ]
    }
   ],
   "source": [
    "sc = StandardScaler()\n",
    "X_std = sc.fit_transform(cancer.data)\n",
    "pca = PCA(n_components=2)\n",
    "pca.fit(X_std)\n",
    "X_pca = pca.transform(X_std)\n",
    "\n",
    "print('X_pca_shape:{}'.format(X_pca.shape))\n",
    "print('Explained variance ratio: {}'.format(pca.explained_variance_ratio_))"
   ]
  },
  {
   "cell_type": "code",
   "execution_count": 27,
   "id": "eea9433b",
   "metadata": {},
   "outputs": [
    {
     "data": {
      "text/plain": [
       "(569, 30)"
      ]
     },
     "execution_count": 27,
     "metadata": {},
     "output_type": "execute_result"
    }
   ],
   "source": [
    "X_std.shape"
   ]
  },
  {
   "cell_type": "code",
   "execution_count": 28,
   "id": "14aa170c",
   "metadata": {},
   "outputs": [],
   "source": [
    "X_pca = pd.DataFrame(X_pca, columns=['pc1', 'pc2'])\n",
    "X_pca = pd.concat([X_pca, pd.DataFrame(cancer.target, columns=['target'])], axis=1)\n",
    "pca_malignant = X_pca[X_pca['target'] == 0]\n",
    "pca_benign = X_pca[X_pca['target'] == 1]"
   ]
  },
  {
   "cell_type": "code",
   "execution_count": 29,
   "id": "6f4c8fd8",
   "metadata": {},
   "outputs": [
    {
     "data": {
      "text/plain": [
       "<AxesSubplot:xlabel='pc1', ylabel='pc2'>"
      ]
     },
     "execution_count": 29,
     "metadata": {},
     "output_type": "execute_result"
    },
    {
     "data": {
      "image/png": "[encoded data removed]",
      "text/plain": [
       "<Figure size 432x288 with 1 Axes>"
      ]
     },
     "metadata": {
      "needs_background": "light"
     },
     "output_type": "display_data"
    }
   ],
   "source": [
    "ax = pca_malignant.plot.scatter(x='pc1', y='pc2', color='red', label='malignant')\n",
    "pca_benign.plot.scatter(x='pc1', y='pc2', color='blue', label='benign', ax=ax)"
   ]
  },
  {
   "cell_type": "code",
   "execution_count": 32,
   "id": "0f713897",
   "metadata": {},
   "outputs": [],
   "source": [
    "trans = pd.read_excel('Online Retail.xlsx', sheet_name='Online Retail')"
   ]
  },
  {
   "cell_type": "code",
   "execution_count": 33,
   "id": "faa40aec",
   "metadata": {},
   "outputs": [
    {
     "data": {
      "text/html": [
       "<div>\n",
       "<style scoped>\n",
       "    .dataframe tbody tr th:only-of-type {\n",
       "        vertical-align: middle;\n",
       "    }\n",
       "\n",
       "    .dataframe tbody tr th {\n",
       "        vertical-align: top;\n",
       "    }\n",
       "\n",
       "    .dataframe thead th {\n",
       "        text-align: right;\n",
       "    }\n",
       "</style>\n",
       "<table border=\"1\" class=\"dataframe\">\n",
       "  <thead>\n",
       "    <tr style=\"text-align: right;\">\n",
       "      <th></th>\n",
       "      <th>InvoiceNo</th>\n",
       "      <th>StockCode</th>\n",
       "      <th>Description</th>\n",
       "      <th>Quantity</th>\n",
       "      <th>InvoiceDate</th>\n",
       "      <th>UnitPrice</th>\n",
       "      <th>CustomerID</th>\n",
       "      <th>Country</th>\n",
       "    </tr>\n",
       "  </thead>\n",
       "  <tbody>\n",
       "    <tr>\n",
       "      <th>0</th>\n",
       "      <td>536365</td>\n",
       "      <td>85123A</td>\n",
       "      <td>WHITE HANGING HEART T-LIGHT HOLDER</td>\n",
       "      <td>6</td>\n",
       "      <td>2010-12-01 08:26:00</td>\n",
       "      <td>2.55</td>\n",
       "      <td>17850.0</td>\n",
       "      <td>United Kingdom</td>\n",
       "    </tr>\n",
       "    <tr>\n",
       "      <th>1</th>\n",
       "      <td>536365</td>\n",
       "      <td>71053</td>\n",
       "      <td>WHITE METAL LANTERN</td>\n",
       "      <td>6</td>\n",
       "      <td>2010-12-01 08:26:00</td>\n",
       "      <td>3.39</td>\n",
       "      <td>17850.0</td>\n",
       "      <td>United Kingdom</td>\n",
       "    </tr>\n",
       "    <tr>\n",
       "      <th>2</th>\n",
       "      <td>536365</td>\n",
       "      <td>84406B</td>\n",
       "      <td>CREAM CUPID HEARTS COAT HANGER</td>\n",
       "      <td>8</td>\n",
       "      <td>2010-12-01 08:26:00</td>\n",
       "      <td>2.75</td>\n",
       "      <td>17850.0</td>\n",
       "      <td>United Kingdom</td>\n",
       "    </tr>\n",
       "    <tr>\n",
       "      <th>3</th>\n",
       "      <td>536365</td>\n",
       "      <td>84029G</td>\n",
       "      <td>KNITTED UNION FLAG HOT WATER BOTTLE</td>\n",
       "      <td>6</td>\n",
       "      <td>2010-12-01 08:26:00</td>\n",
       "      <td>3.39</td>\n",
       "      <td>17850.0</td>\n",
       "      <td>United Kingdom</td>\n",
       "    </tr>\n",
       "    <tr>\n",
       "      <th>4</th>\n",
       "      <td>536365</td>\n",
       "      <td>84029E</td>\n",
       "      <td>RED WOOLLY HOTTIE WHITE HEART.</td>\n",
       "      <td>6</td>\n",
       "      <td>2010-12-01 08:26:00</td>\n",
       "      <td>3.39</td>\n",
       "      <td>17850.0</td>\n",
       "      <td>United Kingdom</td>\n",
       "    </tr>\n",
       "  </tbody>\n",
       "</table>\n",
       "</div>"
      ],
      "text/plain": [
       "  InvoiceNo StockCode                          Description  Quantity  \\\n",
       "0    536365    85123A   WHITE HANGING HEART T-LIGHT HOLDER         6   \n",
       "1    536365     71053                  WHITE METAL LANTERN         6   \n",
       "2    536365    84406B       CREAM CUPID HEARTS COAT HANGER         8   \n",
       "3    536365    84029G  KNITTED UNION FLAG HOT WATER BOTTLE         6   \n",
       "4    536365    84029E       RED WOOLLY HOTTIE WHITE HEART.         6   \n",
       "\n",
       "          InvoiceDate  UnitPrice  CustomerID         Country  \n",
       "0 2010-12-01 08:26:00       2.55     17850.0  United Kingdom  \n",
       "1 2010-12-01 08:26:00       3.39     17850.0  United Kingdom  \n",
       "2 2010-12-01 08:26:00       2.75     17850.0  United Kingdom  \n",
       "3 2010-12-01 08:26:00       3.39     17850.0  United Kingdom  \n",
       "4 2010-12-01 08:26:00       3.39     17850.0  United Kingdom  "
      ]
     },
     "execution_count": 33,
     "metadata": {},
     "output_type": "execute_result"
    }
   ],
   "source": [
    "trans.head()"
   ]
  },
  {
   "cell_type": "code",
   "execution_count": 34,
   "id": "4b3c824c",
   "metadata": {},
   "outputs": [
    {
     "data": {
      "text/plain": [
       "(541909, 8)"
      ]
     },
     "execution_count": 34,
     "metadata": {},
     "output_type": "execute_result"
    }
   ],
   "source": [
    "trans.shape"
   ]
  },
  {
   "cell_type": "code",
   "execution_count": 35,
   "id": "f67a9180",
   "metadata": {},
   "outputs": [
    {
     "data": {
      "text/plain": [
       "cancel_flg\n",
       "5    532618\n",
       "A         3\n",
       "C      9288\n",
       "dtype: int64"
      ]
     },
     "execution_count": 35,
     "metadata": {},
     "output_type": "execute_result"
    }
   ],
   "source": [
    "trans['cancel_flg'] = trans.InvoiceNo.map(lambda x: str(x)[0])\n",
    "trans.groupby('cancel_flg').size()"
   ]
  },
  {
   "cell_type": "code",
   "execution_count": 37,
   "id": "51e73ef7",
   "metadata": {},
   "outputs": [],
   "source": [
    "trans = trans[(trans.cancel_flg=='5') & trans.CustomerID.notnull()]"
   ]
  },
  {
   "cell_type": "code",
   "execution_count": 38,
   "id": "25ccc2db",
   "metadata": {},
   "outputs": [
    {
     "data": {
      "text/plain": [
       "85123A    2035\n",
       "22423     1724\n",
       "85099B    1618\n",
       "84879     1408\n",
       "47566     1397\n",
       "Name: StockCode, dtype: int64"
      ]
     },
     "execution_count": 38,
     "metadata": {},
     "output_type": "execute_result"
    }
   ],
   "source": [
    "trans['StockCode'].value_counts().head(5)"
   ]
  },
  {
   "cell_type": "code",
   "execution_count": 45,
   "id": "657b7581",
   "metadata": {},
   "outputs": [
    {
     "name": "stdout",
     "output_type": "stream",
     "text": [
      "85123A:  1978\n",
      "85099B:  1600\n"
     ]
    }
   ],
   "source": [
    "trans_all = set(trans.InvoiceNo)\n",
    "trans_a = set(trans[trans['StockCode'] == '85123A'].InvoiceNo)\n",
    "print('85123A: ', len(trans_a))\n",
    "\n",
    "trans_b =set(trans[trans['StockCode'] == '85099B'].InvoiceNo)\n",
    "print('85099B: ', len(trans_b))"
   ]
  },
  {
   "cell_type": "code",
   "execution_count": 46,
   "id": "3a97cb19",
   "metadata": {},
   "outputs": [
    {
     "name": "stdout",
     "output_type": "stream",
     "text": [
      "252\n"
     ]
    }
   ],
   "source": [
    "trans_ab = trans_a&trans_b\n",
    "print(len(trans_ab))"
   ]
  },
  {
   "cell_type": "code",
   "execution_count": 49,
   "id": "6b3fe2a4",
   "metadata": {},
   "outputs": [
    {
     "name": "stdout",
     "output_type": "stream",
     "text": [
      "両方の商品を含むバスケットの数:  252\n",
      "両方の商品を含むバスケットの全体に占める割合: 0.014\n"
     ]
    }
   ],
   "source": [
    "print('両方の商品を含むバスケットの数: ', len(trans_ab))\n",
    "print('両方の商品を含むバスケットの全体に占める割合: {:.3f}'.format(len(trans_ab)/len(trans_all)))\n",
    "# 支持度"
   ]
  },
  {
   "cell_type": "code",
   "execution_count": 51,
   "id": "3280aa37",
   "metadata": {},
   "outputs": [
    {
     "name": "stdout",
     "output_type": "stream",
     "text": [
      "8512Aのバスケット数: 1978\n",
      "8512Aのバスケットの全体に占める割合; 0.107\n"
     ]
    }
   ],
   "source": [
    "print('8512Aのバスケット数: {}'.format(len(trans_a)))\n",
    "print('8512Aのバスケットの全体に占める割合; {:.3f}'.format(len(trans_a)/len(trans_all)))"
   ]
  },
  {
   "cell_type": "code",
   "execution_count": 52,
   "id": "7292c123",
   "metadata": {},
   "outputs": [
    {
     "name": "stdout",
     "output_type": "stream",
     "text": [
      "確信度: 0.127\n"
     ]
    }
   ],
   "source": [
    "print('確信度: {:.3f}'.format(len(trans_ab)/len(trans_a)))"
   ]
  },
  {
   "cell_type": "code",
   "execution_count": 53,
   "id": "570b8683",
   "metadata": {},
   "outputs": [
    {
     "name": "stdout",
     "output_type": "stream",
     "text": [
      "確信度: 0.158\n"
     ]
    }
   ],
   "source": [
    "print('確信度: {:.3f}'.format(len(trans_ab)/len(trans_b)))"
   ]
  },
  {
   "cell_type": "code",
   "execution_count": 54,
   "id": "20e7e745",
   "metadata": {},
   "outputs": [],
   "source": [
    "support_b = len(trans_b) / len(trans_all)\n",
    "confidence = len(trans_ab)/ len(trans_a)"
   ]
  },
  {
   "cell_type": "code",
   "execution_count": 55,
   "id": "437a48a3",
   "metadata": {},
   "outputs": [
    {
     "name": "stdout",
     "output_type": "stream",
     "text": [
      "lift: 1.476\n"
     ]
    }
   ],
   "source": [
    "lift = confidence / support_b\n",
    "print('lift: {:.3f}'.format(lift))"
   ]
  },
  {
   "cell_type": "code",
   "execution_count": null,
   "id": "874f7a3c",
   "metadata": {},
   "outputs": [],
   "source": []
  }
 ],
 "metadata": {
  "kernelspec": {
   "display_name": "Python 3 (ipykernel)",
   "language": "python",
   "name": "python3"
  },
  "language_info": {
   "codemirror_mode": {
    "name": "ipython",
    "version": 3
   },
   "file_extension": ".py",
   "mimetype": "text/x-python",
   "name": "python",
   "nbconvert_exporter": "python",
   "pygments_lexer": "ipython3",
   "version": "3.10.0"
  }
 },
 "nbformat": 4,
 "nbformat_minor": 5
}
